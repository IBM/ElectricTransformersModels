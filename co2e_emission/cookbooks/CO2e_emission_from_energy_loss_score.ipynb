{
 "cells": [
  {
   "cell_type": "markdown",
   "metadata": {
    "id": "0c02ad1bbbd24d7ebb5e50bf895ea57a"
   },
   "source": [
    "# CO2e Scoring Notebook (Using EPA Mapping)\n",
    "\n",
    "Last Updated November 29, 2023"
   ]
  },
  {
   "cell_type": "code",
   "execution_count": null,
   "metadata": {
    "id": "2a2bc95e-4c20-4150-bf12-748e7781cd51"
   },
   "outputs": [],
   "source": [
    "import os\n",
    "import requests\n",
    "import json\n",
    "import ast\n",
    "import pandas as pd\n",
    "import yaml"
   ]
  },
  {
   "cell_type": "markdown",
   "metadata": {
    "id": "3e830d73-1602-4836-bc0d-a915f600b00b"
   },
   "source": [
    "### Retrieve the Credential"
   ]
  },
  {
   "cell_type": "code",
   "execution_count": null,
   "metadata": {
    "id": "6a9964bb340d46688e0ad5a93c545337"
   },
   "outputs": [],
   "source": [
    "credentials_file = '../../config/credentials/wml-credentials.json'\n",
    "\n",
    "with open(credentials_file, \"r\") as f:\n",
    "    credentials = json.load(f)"
   ]
  },
  {
   "cell_type": "code",
   "execution_count": null,
   "metadata": {
    "id": "8d76203e-42d8-4b24-b889-8e7578b3b853"
   },
   "outputs": [],
   "source": [
    "# Assuming you have these variables set somewhere in your script\n",
    "USERNAME = credentials[\"username\"]\n",
    "API_KEY = credentials[\"apikey\"]\n",
    "DATAPLATFORM_URL = credentials[\"url\"]"
   ]
  },
  {
   "cell_type": "code",
   "execution_count": null,
   "metadata": {
    "id": "ee956800-2bc7-4d8d-9443-ee75ff64c41c"
   },
   "outputs": [],
   "source": [
    "headers = {\n",
    "    'Content-type': 'application/json'\n",
    "}\n",
    "data = {\n",
    "    'username': USERNAME,\n",
    "    'api_key': API_KEY\n",
    "}"
   ]
  },
  {
   "cell_type": "code",
   "execution_count": null,
   "metadata": {
    "id": "4401070d-94bf-4811-aff9-e895679df3ee"
   },
   "outputs": [],
   "source": [
    "response = requests.post(\n",
    "    f\"{DATAPLATFORM_URL}/icp4d-api/v1/authorize\", \n",
    "    headers=headers, \n",
    "    data=json.dumps(data),\n",
    "    verify=False  # This corresponds to the '-k' or '--insecure' flag in curl\n",
    ")\n",
    "token = response.text\n",
    "dict_token = ast.literal_eval(token)\n",
    "bearer_token = dict_token['token']"
   ]
  },
  {
   "cell_type": "markdown",
   "metadata": {
    "id": "50b96816-6ee2-4159-afb8-995c7d41de43"
   },
   "source": [
    "### Load the Data"
   ]
  },
  {
   "cell_type": "code",
   "execution_count": null,
   "metadata": {
    "id": "ea095be7-2fea-436f-ac68-70020220b6d9"
   },
   "outputs": [],
   "source": [
    "df = pd.read_csv('../data/co2e_scoring.csv')"
   ]
  },
  {
   "cell_type": "code",
   "execution_count": null,
   "metadata": {
    "id": "ad2aa113-1cba-40e8-9256-f418ce31488d"
   },
   "outputs": [],
   "source": [
    "df.tail(10)"
   ]
  },
  {
   "cell_type": "code",
   "execution_count": null,
   "metadata": {
    "id": "a6a38bab-a40b-48ba-9be5-d920b934a15c"
   },
   "outputs": [],
   "source": [
    "df_loss = df[[ 'energy_loss','location_zip']]"
   ]
  },
  {
   "cell_type": "code",
   "execution_count": null,
   "metadata": {
    "id": "837d3c4a-7f85-4010-81ff-b49f7292e711"
   },
   "outputs": [],
   "source": [
    "# df_loss = df_loss.dropna()\n",
    "df_loss = df_loss.reset_index(drop = True)"
   ]
  },
  {
   "cell_type": "code",
   "execution_count": null,
   "metadata": {
    "id": "bbdaa321-8063-458c-bf33-9677298d7f5b"
   },
   "outputs": [],
   "source": [
    "df_loss.columns"
   ]
  },
  {
   "cell_type": "code",
   "execution_count": null,
   "metadata": {
    "id": "8597e98e-b43e-4eb6-a029-ca60689daabe"
   },
   "outputs": [],
   "source": [
    "# df_loss['location_zip_list'] = df_loss['location_zip']"
   ]
  },
  {
   "cell_type": "code",
   "execution_count": null,
   "metadata": {
    "id": "07f0bf51-865d-40a1-bd32-c8ddd29c6a56"
   },
   "outputs": [],
   "source": [
    "location_zip = '99557'\n",
    "df_loss['location_zip'] = location_zip"
   ]
  },
  {
   "cell_type": "code",
   "execution_count": null,
   "metadata": {
    "id": "31315ffa-4b55-4652-bc75-1659260a0b8b"
   },
   "outputs": [],
   "source": [
    "df_loss.shape"
   ]
  },
  {
   "cell_type": "markdown",
   "metadata": {
    "id": "8137fc775c2a44fe90d4c652a89bf981"
   },
   "source": [
    "### Send the Data for Scoring"
   ]
  },
  {
   "cell_type": "code",
   "execution_count": null,
   "metadata": {},
   "outputs": [],
   "source": [
    "model_factory_config_file_name = \"../config/deployment_info.yml\"\n",
    "\n",
    "with open(model_factory_config_file_name, 'r') as file:\n",
    "    model_factory_config = yaml.safe_load(file)\n",
    "\n",
    "print(model_factory_config)"
   ]
  },
  {
   "cell_type": "code",
   "execution_count": null,
   "metadata": {},
   "outputs": [],
   "source": [
    "# retrieve the CP4D endpoint at the IBM Watson Studio\n",
    "scoring_url = model_factory_config['cp4d_url']\n",
    "scoring_url"
   ]
  },
  {
   "cell_type": "code",
   "execution_count": null,
   "metadata": {
    "id": "3e958b9be827446494c6f159a64e2300"
   },
   "outputs": [],
   "source": [
    "#array_of_input_fields = list(df.columns)\n",
    "array_of_input_fields=['energy_loss', 'location_zip']\n",
    "\n",
    "array_of_values_to_be_scored = df_loss[array_of_input_fields].values.tolist()"
   ]
  },
  {
   "cell_type": "code",
   "execution_count": null,
   "metadata": {
    "id": "82e83f7338614a46a3fcd386c23292cc",
    "scrolled": true
   },
   "outputs": [],
   "source": [
    "%%time\n",
    "import urllib3, requests, json\n",
    "\n",
    "#scoring_url = 'https://cpd-ibm-cpd.modelfactory-9ca4d14d48413d18ce61b80811ba4308-0000.us-south.containers.appdomain.cloud/ml/v4/deployments/f1ec7cd7-6db7-4e52-a958-ce1beed57e49/predictions?version=2023-11-08'\n",
    "\n",
    "# NOTE: you must construct mltoken based on provided documentation\n",
    "header = {'Content-Type': 'application/json', 'Authorization': 'Bearer ' + bearer_token}\n",
    "\n",
    "# NOTE: manually define and pass the array(s) of values to be scored in the next line\n",
    "payload_scoring = {\"input_data\": [{\"fields\": array_of_input_fields, \"values\": array_of_values_to_be_scored}]}\n",
    "# print(\"Input payload\")\n",
    "# print(json.dumps(payload_scoring, indent=2))\n",
    "\n",
    "response_scoring = requests.post(scoring_url, json=payload_scoring, headers=header, verify=False)\n",
    "print(\"Scoring response\")\n",
    "predictions = json.loads(response_scoring.text)\n",
    "print(json.dumps(predictions, indent=2))"
   ]
  },
  {
   "cell_type": "code",
   "execution_count": null,
   "metadata": {
    "id": "6e89f70104ac47d9818851909daf24d2",
    "scrolled": false
   },
   "outputs": [],
   "source": [
    "predictions"
   ]
  },
  {
   "cell_type": "markdown",
   "metadata": {
    "id": "d0d7993aee4a490f8301f93f22a9506f"
   },
   "source": [
    "### Combine the Results"
   ]
  },
  {
   "cell_type": "code",
   "execution_count": null,
   "metadata": {
    "id": "acf07669106c495e940eb81d559db5d9"
   },
   "outputs": [],
   "source": [
    "output = predictions[\"predictions\"][0][\"values\"]"
   ]
  },
  {
   "cell_type": "code",
   "execution_count": null,
   "metadata": {
    "id": "2a79715864a245fa8cff6e575440898b"
   },
   "outputs": [],
   "source": [
    "reshaped_data = [row[0] for row in output]\n",
    "column_names = ['CO2 (g)']\n",
    "\n",
    "predictions_df = pd.DataFrame(reshaped_data, columns=column_names)\n",
    "display(predictions_df)"
   ]
  },
  {
   "cell_type": "code",
   "execution_count": null,
   "metadata": {
    "id": "19eb0778585141c78d79f53b4d030cac"
   },
   "outputs": [],
   "source": [
    "df.shape"
   ]
  },
  {
   "cell_type": "code",
   "execution_count": null,
   "metadata": {
    "id": "b913e84a13a54d54b6050623d5ab79f4"
   },
   "outputs": [],
   "source": [
    "df_merged = pd.concat([df, predictions_df], axis=1)"
   ]
  },
  {
   "cell_type": "code",
   "execution_count": null,
   "metadata": {
    "id": "3afc8f05-d820-47f7-acd1-94e84afdc740"
   },
   "outputs": [],
   "source": [
    "df_merged.tail(10)"
   ]
  },
  {
   "cell_type": "code",
   "execution_count": null,
   "metadata": {
    "id": "2b256013d4594cbb846918b34b66c34f"
   },
   "outputs": [],
   "source": []
  },
  {
   "cell_type": "code",
   "execution_count": null,
   "metadata": {
    "id": "d4572314-9913-425f-acd2-b7dcc1d74fd7"
   },
   "outputs": [],
   "source": []
  },
  {
   "cell_type": "code",
   "execution_count": null,
   "metadata": {
    "id": "462ada41-d7ba-4639-8a2e-32b4ba4f8731"
   },
   "outputs": [],
   "source": []
  },
  {
   "cell_type": "code",
   "execution_count": null,
   "metadata": {
    "id": "17ac73f3-84fe-44d4-ac55-67a5857e58bd"
   },
   "outputs": [],
   "source": []
  }
 ],
 "metadata": {
  "kernelspec": {
   "display_name": "Python 3 (ipykernel)",
   "language": "python",
   "name": "python3"
  },
  "language_info": {
   "codemirror_mode": {
    "name": "ipython",
    "version": 3
   },
   "file_extension": ".py",
   "mimetype": "text/x-python",
   "name": "python",
   "nbconvert_exporter": "python",
   "pygments_lexer": "ipython3",
   "version": "3.10.9"
  }
 },
 "nbformat": 4,
 "nbformat_minor": 4
}
