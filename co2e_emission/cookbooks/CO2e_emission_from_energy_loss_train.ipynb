{
 "cells": [
  {
   "cell_type": "markdown",
   "metadata": {},
   "source": [
    "# CO2e Emission WML Train Recipe¶\n",
    "\n",
    "This notebook demonstrates the use of AI Model Factory recipes to deploy rule-based anomaly pipeline to WML\n"
   ]
  },
  {
   "cell_type": "markdown",
   "metadata": {
    "id": "3ce55bda8f964f319af8829ac6416122"
   },
   "source": [
    "# Import Libraries & Functions"
   ]
  },
  {
   "cell_type": "code",
   "execution_count": 2,
   "metadata": {
    "id": "b410bf90f86343339c742a270b29d4fd"
   },
   "outputs": [],
   "source": [
    "import numpy as np\n",
    "import pandas as pd\n",
    "import matplotlib.pyplot as plt\n",
    "import time"
   ]
  },
  {
   "cell_type": "code",
   "execution_count": 3,
   "metadata": {
    "id": "41527f379a4347418d365f6b4373004e",
    "tags": [
     "hide-input"
    ]
   },
   "outputs": [],
   "source": [
    "# Print functions\n",
    "def print_job_status(job_id, endpoint_url):\n",
    "    # Extract the job ID and construct the URL\n",
    "    url = endpoint_url + \"/summary/\" + job_id\n",
    "    \n",
    "    # Send a GET request to fetch the job status\n",
    "    get_response = requests.get(url, headers={})\n",
    "    status_data = get_response.json()\n",
    "    \n",
    "    # Print the job status\n",
    "    if \"status\" in status_data:\n",
    "        print(\"The status of job {} is {}.\".format(job_id, status_data['status']))\n",
    "    else:\n",
    "        print(status_data)\n",
    "    if status_data['status']:\n",
    "        return status_data['status']\n",
    "    else:\n",
    "        return \"initializing\"\n",
    "    \n",
    "def print_all_status(job_id, endpoint_url):\n",
    "    # Extract the job ID and construct the URL\n",
    "    url = endpoint_url + \"/summary/\" + job_id\n",
    "    \n",
    "    # Send a GET request to fetch the job status\n",
    "    get_response = requests.get(url, headers={})\n",
    "    status_data = get_response.json()\n",
    "    \n",
    "    # Print the job status\n",
    "    print(status_data)\n"
   ]
  },
  {
   "cell_type": "code",
   "execution_count": 4,
   "metadata": {
    "id": "d359c6a3b0c04cbd86ba13e2b0ccbad9"
   },
   "outputs": [],
   "source": [
    "# More print functions using display \n",
    "from IPython.display import display, HTML\n",
    "import requests\n",
    "\n",
    "def print_job_details(job_id, endpoint_url):\n",
    "    # Extract the job ID and construct the URL\n",
    "    url = endpoint_url + \"/summary/\" + job_id\n",
    "    \n",
    "    # Send a GET request to fetch the job status\n",
    "    get_response = requests.get(url, headers={})\n",
    "    summary_data = get_response.json()\n",
    "    \n",
    "    # Display the job status\n",
    "    display(HTML(print_keys_and_values(summary_data)))\n",
    "    return summary_data\n",
    "\n",
    "    \n",
    "def print_keys_and_values(json_data):\n",
    "    # Start the HTML code\n",
    "    html_code = \"<div style='font-family: Arial; font-size: 1.2em;'>\"\n",
    "    \n",
    "    # Add the job details to the HTML code\n",
    "    html_code += f\"<p>job_id: {json_data['job_id']}</p>\"\n",
    "    if \"status\" in json_data:\n",
    "        html_code += f\"<p>status: {json_data['status']}</p>\"\n",
    "    html_code += \"<br>\"\n",
    "    if \"detailed_summary\" in json_data:\n",
    "        for summary in json_data['detailed_summary']:\n",
    "            html_code += f\"<p>run_id: {summary['run_id']}</p>\"\n",
    "            html_code += f\"<p>experiment_id: {summary['experiment_id']}</p>\"\n",
    "            if \"status\" in summary:\n",
    "                print('summary',summary)\n",
    "                html_code += f\"<p>status: {summary['status']}</p>\"\n",
    "            html_code += f\"<p>artifact_uri: {summary['artifact_uri']}</p>\"\n",
    "            html_code += f\"<p>artifact_name: {summary.get('tags.artifact_name', 'No artifact_name found')}</p>\"\n",
    "            html_code += \"<br>\"\n",
    "\n",
    "    # Close the HTML code\n",
    "    html_code += \"</div>\"\n",
    "    \n",
    "    return html_code\n"
   ]
  },
  {
   "cell_type": "markdown",
   "metadata": {
    "id": "eea4638e2f4341298f524e32a5933ece"
   },
   "source": [
    "# CO2 Deployment"
   ]
  },
  {
   "cell_type": "markdown",
   "metadata": {
    "id": "b8e26869dec246ae875d19f035b898a3"
   },
   "source": [
    "## Defining Paths"
   ]
  },
  {
   "cell_type": "code",
   "execution_count": 5,
   "metadata": {
    "id": "bbfcfded66554860873936a932bd363c"
   },
   "outputs": [],
   "source": [
    "# Define the file paths\n",
    "# endpoint_url = \"https://tenant1.predict.masinst1.ibmmam.com/ibm/modelfactory/service\"\n",
    "endpoint_url = \"http://localhost:8000/ibm/modelfactory/service\"\n",
    "        \n",
    "data_file_path =  \"../data/training.csv\"\n",
    "co2_conversion_file_path = \"../data/co2e_conversion.csv\"\n",
    "config_file_path =  \"../config/parameter_config.yaml\"\n"
   ]
  },
  {
   "cell_type": "markdown",
   "metadata": {
    "id": "a97e1ea93e874ac08d9d2bb176feaa0d"
   },
   "source": [
    "## POST Response"
   ]
  },
  {
   "cell_type": "code",
   "execution_count": 6,
   "metadata": {
    "id": "cf44ddd4-43ed-453c-bad9-33ecbffaa7ed"
   },
   "outputs": [],
   "source": [
    "import requests\n",
    "\n",
    "files = {\n",
    "    \"data_file\": (\"data/training.csv\", open(data_file_path, 'rb')),\n",
    "    \"co2_conversion_file\": (\"data/co2e_conversion.csv\", open(co2_conversion_file_path, 'rb')), \n",
    "    \"config_file\": (\"config/parameter_config.yaml\", open(config_file_path, 'rb')),\n",
    "   \n",
    "}\n",
    "\n",
    "#/ibm/modelfactory/service/recipe/electrical-transformer/kpi/emission/train\n",
    "#/ibm/modelfactory/service/recipe/electrical-transformer/kpi/emission\n",
    "url = endpoint_url + \"/recipe/electrical-transformer/kpi/emission\"\n",
    "post_response = requests.request(\"POST\", url, headers={}, data={}, files=files)"
   ]
  },
  {
   "cell_type": "code",
   "execution_count": 7,
   "metadata": {},
   "outputs": [
    {
     "name": "stdout",
     "output_type": "stream",
     "text": [
      "http://localhost:8000/ibm/modelfactory/service/recipe/electrical-transformer/kpi/emission\n"
     ]
    }
   ],
   "source": [
    "print(url)"
   ]
  },
  {
   "cell_type": "code",
   "execution_count": 29,
   "metadata": {
    "id": "7b2be84a-f6b4-4b45-861e-d4f8541550cf"
   },
   "outputs": [
    {
     "name": "stdout",
     "output_type": "stream",
     "text": [
      "{'job_id': '9089a279-2fc6-4da9-b84d-7fec3dc0d3a9', 'message': 'Job 9089a279-2fc6-4da9-b84d-7fec3dc0d3a9 was submitted.', 'status': 'INITIALIZING'}\n"
     ]
    }
   ],
   "source": [
    "post_r_json = post_response.json()\n",
    "\n",
    "anomaly_service_jobId = None\n",
    "\n",
    "if 'jobId' in post_r_json:\n",
    "    anomaly_service_jobId = post_r_json['jobId']\n",
    "    print ('submitted successfully job : ', post_r_json['jobId'])\n",
    "else:\n",
    "    print (post_r_json)\n"
   ]
  },
  {
   "cell_type": "markdown",
   "metadata": {
    "id": "5cbe57589c8d4db49bad58d0f3a99f43"
   },
   "source": [
    "## GET Response  - Keep Refresh it for a while until seeing the STATUS changed to DONE"
   ]
  },
  {
   "cell_type": "markdown",
   "metadata": {
    "id": "59d9803bc69b4fc986044a2a8bddbe65"
   },
   "source": [
    "The status of the job may be running, flagged by INITALIZING or EXECUTING\n",
    "\n",
    "After a while the model recipe training is complete, and the STATUS changes to DONE"
   ]
  },
  {
   "cell_type": "code",
   "execution_count": 30,
   "metadata": {},
   "outputs": [],
   "source": [
    "log_url = endpoint_url + \"/log/\"\n",
    "job_id = post_r_json['job_id']"
   ]
  },
  {
   "cell_type": "code",
   "execution_count": 31,
   "metadata": {},
   "outputs": [
    {
     "name": "stdout",
     "output_type": "stream",
     "text": [
      "http://localhost:8000/ibm/modelfactory/service/log/9089a279-2fc6-4da9-b84d-7fec3dc0d3a9\n"
     ]
    }
   ],
   "source": [
    "print(log_url + job_id)"
   ]
  },
  {
   "cell_type": "code",
   "execution_count": 32,
   "metadata": {},
   "outputs": [
    {
     "name": "stdout",
     "output_type": "stream",
     "text": [
      "summary {'run_id': '904dc38e208342fdaba2ebedc6ecca0c', 'experiment_id': '8', 'status': 'FINISHED', 'artifact_uri': 's3://testdataupload/8/904dc38e208342fdaba2ebedc6ecca0c/artifacts', 'start_time': '2023-11-08T21:40:27.421000+00:00', 'end_time': '2023-11-08T21:40:57.698000+00:00', 'params.output_artifact_name': 'energy_loss_to_CO2_epa', 'params.steps': 'energy_loss_to_CO2_epa', 'params.config_path': '', 'params.data_path': '', 'params.co2_conversion': '', 'params.storage_path': '', 'tags.mlflow.log-model.history': '[{\"run_id\": \"904dc38e208342fdaba2ebedc6ecca0c\", \"artifact_path\": \"energy_loss_to_CO2_epa\", \"utc_time_created\": \"2023-11-08 21:40:38.601008\", \"flavors\": {\"python_function\": {\"model_path\": \"model.pkl\", \"predict_fn\": \"predict\", \"loader_module\": \"mlflow.sklearn\", \"python_version\": \"3.9.2\", \"env\": {\"conda\": \"conda.yaml\", \"virtualenv\": \"python_env.yaml\"}}, \"sklearn\": {\"pickled_model\": \"model.pkl\", \"sklearn_version\": \"1.1.1\", \"serialization_format\": \"cloudpickle\", \"code\": null}}, \"model_uuid\": \"bbea4d6797474618963a4d5f25015f8c\", \"mlflow_version\": \"2.8.0\", \"model_size_bytes\": 3882268}]', 'tags.mlflow.runName': 'ambitious-snipe-361', 'tags.mlflow.project.backend': 'local', 'tags.mlflow.source.name': '/tmp/ray/session_2023-11-08_21-09-40_807685_1/runtime_resources/working_dir_files/_ray_pkg_9937022cdb57a41b', 'tags.mlflow.parentRunId': '4edcc4b348c948ccb6dea52b3bd66624', 'tags.mlflow.project.entryPoint': 'deployment_artifact', 'tags.mlflow.source.type': 'PROJECT', 'tags.mlflow.user': 'root', 'tags.model_uri': '', 'tags.recipe': '', 'tags.artifact_name': '', 'tags.step': '', 'tags.summary': ''}\n",
      "summary {'run_id': '44ecd5273e0c4c61836dcc8b3e100a8d', 'experiment_id': '8', 'status': 'FINISHED', 'artifact_uri': 's3://testdataupload/8/44ecd5273e0c4c61836dcc8b3e100a8d/artifacts', 'start_time': '2023-11-08T21:39:46.675000+00:00', 'end_time': '2023-11-08T21:40:27.345000+00:00', 'params.output_artifact_name': '', 'params.steps': '', 'params.config_path': 's3://testdataupload/9089a279-2fc6-4da9-b84d-7fec3dc0d3a9_config/parameter_config.yaml', 'params.data_path': 's3://testdataupload/9089a279-2fc6-4da9-b84d-7fec3dc0d3a9_data/training.csv', 'params.co2_conversion': 's3://testdataupload/9089a279-2fc6-4da9-b84d-7fec3dc0d3a9_data/co2e_conversion.csv', 'params.storage_path': 'file://./storage/', 'tags.mlflow.log-model.history': '[{\"run_id\": \"44ecd5273e0c4c61836dcc8b3e100a8d\", \"artifact_path\": \"energy_loss_to_CO2_epa\", \"utc_time_created\": \"2023-11-08 21:40:15.261041\", \"flavors\": {\"python_function\": {\"model_path\": \"model.pkl\", \"predict_fn\": \"predict\", \"loader_module\": \"mlflow.sklearn\", \"python_version\": \"3.9.2\", \"env\": {\"conda\": \"conda.yaml\", \"virtualenv\": \"python_env.yaml\"}}, \"sklearn\": {\"pickled_model\": \"model.pkl\", \"sklearn_version\": \"1.1.1\", \"serialization_format\": \"cloudpickle\", \"code\": null}}, \"model_uuid\": \"d271529ac94a464a82aebf297c589730\", \"mlflow_version\": \"2.8.0\", \"model_size_bytes\": 3941788}]', 'tags.mlflow.runName': 'upbeat-loon-799', 'tags.mlflow.project.backend': 'local', 'tags.mlflow.source.name': '/tmp/ray/session_2023-11-08_21-09-40_807685_1/runtime_resources/working_dir_files/_ray_pkg_9937022cdb57a41b', 'tags.mlflow.parentRunId': '4edcc4b348c948ccb6dea52b3bd66624', 'tags.mlflow.project.entryPoint': 'energy_loss_to_CO2_epa', 'tags.mlflow.source.type': 'PROJECT', 'tags.mlflow.user': 'root', 'tags.model_uri': 'runs:/44ecd5273e0c4c61836dcc8b3e100a8d/energy_loss_to_CO2_epa', 'tags.recipe': 'electrical-transformer', 'tags.artifact_name': 'energy_loss_to_CO2_epa', 'tags.step': 'energy_loss_to_CO2_epa', 'tags.summary': 'true'}\n",
      "summary {'run_id': '4edcc4b348c948ccb6dea52b3bd66624', 'experiment_id': '8', 'status': 'FINISHED', 'artifact_uri': 's3://testdataupload/8/4edcc4b348c948ccb6dea52b3bd66624/artifacts', 'start_time': '2023-11-08T21:39:46.601000+00:00', 'end_time': '2023-11-08T21:40:57.730000+00:00', 'params.output_artifact_name': '', 'params.steps': '', 'params.config_path': '', 'params.data_path': '', 'params.co2_conversion': '', 'params.storage_path': '', 'tags.mlflow.log-model.history': '', 'tags.mlflow.runName': 'intelligent-pig-879', 'tags.mlflow.project.backend': '', 'tags.mlflow.source.name': '/usr/local/lib/python3.9/site-packages/ray/_private/workers/default_worker.py', 'tags.mlflow.parentRunId': '', 'tags.mlflow.project.entryPoint': '', 'tags.mlflow.source.type': 'LOCAL', 'tags.mlflow.user': 'root', 'tags.model_uri': '', 'tags.recipe': 'electrical-transformer', 'tags.artifact_name': '', 'tags.step': '', 'tags.summary': ''}\n"
     ]
    },
    {
     "data": {
      "text/html": [
       "<div style='font-family: Arial; font-size: 1.2em;'><p>job_id: 9089a279-2fc6-4da9-b84d-7fec3dc0d3a9</p><p>status: DONE</p><br><p>run_id: 904dc38e208342fdaba2ebedc6ecca0c</p><p>experiment_id: 8</p><p>status: FINISHED</p><p>artifact_uri: s3://testdataupload/8/904dc38e208342fdaba2ebedc6ecca0c/artifacts</p><p>artifact_name: </p><br><p>run_id: 44ecd5273e0c4c61836dcc8b3e100a8d</p><p>experiment_id: 8</p><p>status: FINISHED</p><p>artifact_uri: s3://testdataupload/8/44ecd5273e0c4c61836dcc8b3e100a8d/artifacts</p><p>artifact_name: energy_loss_to_CO2_epa</p><br><p>run_id: 4edcc4b348c948ccb6dea52b3bd66624</p><p>experiment_id: 8</p><p>status: FINISHED</p><p>artifact_uri: s3://testdataupload/8/4edcc4b348c948ccb6dea52b3bd66624/artifacts</p><p>artifact_name: </p><br></div>"
      ],
      "text/plain": [
       "<IPython.core.display.HTML object>"
      ]
     },
     "metadata": {},
     "output_type": "display_data"
    }
   ],
   "source": [
    "json_data = print_job_details(job_id,endpoint_url)"
   ]
  },
  {
   "cell_type": "code",
   "execution_count": 33,
   "metadata": {},
   "outputs": [
    {
     "data": {
      "text/plain": [
       "{'job_id': '9089a279-2fc6-4da9-b84d-7fec3dc0d3a9',\n",
       " 'status': 'DONE',\n",
       " 'summary': {'Deployment Instruction': 'For deployment, pass the parent_run_id as an argument in the deployment recipe',\n",
       "  'model_uri': 'runs:/44ecd5273e0c4c61836dcc8b3e100a8d/energy_loss_to_CO2_epa',\n",
       "  'parent_run_id': '4edcc4b348c948ccb6dea52b3bd66624'},\n",
       " 'detailed_summary': [{'run_id': '904dc38e208342fdaba2ebedc6ecca0c',\n",
       "   'experiment_id': '8',\n",
       "   'status': 'FINISHED',\n",
       "   'artifact_uri': 's3://testdataupload/8/904dc38e208342fdaba2ebedc6ecca0c/artifacts',\n",
       "   'start_time': '2023-11-08T21:40:27.421000+00:00',\n",
       "   'end_time': '2023-11-08T21:40:57.698000+00:00',\n",
       "   'params.output_artifact_name': 'energy_loss_to_CO2_epa',\n",
       "   'params.steps': 'energy_loss_to_CO2_epa',\n",
       "   'params.config_path': '',\n",
       "   'params.data_path': '',\n",
       "   'params.co2_conversion': '',\n",
       "   'params.storage_path': '',\n",
       "   'tags.mlflow.log-model.history': '[{\"run_id\": \"904dc38e208342fdaba2ebedc6ecca0c\", \"artifact_path\": \"energy_loss_to_CO2_epa\", \"utc_time_created\": \"2023-11-08 21:40:38.601008\", \"flavors\": {\"python_function\": {\"model_path\": \"model.pkl\", \"predict_fn\": \"predict\", \"loader_module\": \"mlflow.sklearn\", \"python_version\": \"3.9.2\", \"env\": {\"conda\": \"conda.yaml\", \"virtualenv\": \"python_env.yaml\"}}, \"sklearn\": {\"pickled_model\": \"model.pkl\", \"sklearn_version\": \"1.1.1\", \"serialization_format\": \"cloudpickle\", \"code\": null}}, \"model_uuid\": \"bbea4d6797474618963a4d5f25015f8c\", \"mlflow_version\": \"2.8.0\", \"model_size_bytes\": 3882268}]',\n",
       "   'tags.mlflow.runName': 'ambitious-snipe-361',\n",
       "   'tags.mlflow.project.backend': 'local',\n",
       "   'tags.mlflow.source.name': '/tmp/ray/session_2023-11-08_21-09-40_807685_1/runtime_resources/working_dir_files/_ray_pkg_9937022cdb57a41b',\n",
       "   'tags.mlflow.parentRunId': '4edcc4b348c948ccb6dea52b3bd66624',\n",
       "   'tags.mlflow.project.entryPoint': 'deployment_artifact',\n",
       "   'tags.mlflow.source.type': 'PROJECT',\n",
       "   'tags.mlflow.user': 'root',\n",
       "   'tags.model_uri': '',\n",
       "   'tags.recipe': '',\n",
       "   'tags.artifact_name': '',\n",
       "   'tags.step': '',\n",
       "   'tags.summary': ''},\n",
       "  {'run_id': '44ecd5273e0c4c61836dcc8b3e100a8d',\n",
       "   'experiment_id': '8',\n",
       "   'status': 'FINISHED',\n",
       "   'artifact_uri': 's3://testdataupload/8/44ecd5273e0c4c61836dcc8b3e100a8d/artifacts',\n",
       "   'start_time': '2023-11-08T21:39:46.675000+00:00',\n",
       "   'end_time': '2023-11-08T21:40:27.345000+00:00',\n",
       "   'params.output_artifact_name': '',\n",
       "   'params.steps': '',\n",
       "   'params.config_path': 's3://testdataupload/9089a279-2fc6-4da9-b84d-7fec3dc0d3a9_config/parameter_config.yaml',\n",
       "   'params.data_path': 's3://testdataupload/9089a279-2fc6-4da9-b84d-7fec3dc0d3a9_data/training.csv',\n",
       "   'params.co2_conversion': 's3://testdataupload/9089a279-2fc6-4da9-b84d-7fec3dc0d3a9_data/co2e_conversion.csv',\n",
       "   'params.storage_path': 'file://./storage/',\n",
       "   'tags.mlflow.log-model.history': '[{\"run_id\": \"44ecd5273e0c4c61836dcc8b3e100a8d\", \"artifact_path\": \"energy_loss_to_CO2_epa\", \"utc_time_created\": \"2023-11-08 21:40:15.261041\", \"flavors\": {\"python_function\": {\"model_path\": \"model.pkl\", \"predict_fn\": \"predict\", \"loader_module\": \"mlflow.sklearn\", \"python_version\": \"3.9.2\", \"env\": {\"conda\": \"conda.yaml\", \"virtualenv\": \"python_env.yaml\"}}, \"sklearn\": {\"pickled_model\": \"model.pkl\", \"sklearn_version\": \"1.1.1\", \"serialization_format\": \"cloudpickle\", \"code\": null}}, \"model_uuid\": \"d271529ac94a464a82aebf297c589730\", \"mlflow_version\": \"2.8.0\", \"model_size_bytes\": 3941788}]',\n",
       "   'tags.mlflow.runName': 'upbeat-loon-799',\n",
       "   'tags.mlflow.project.backend': 'local',\n",
       "   'tags.mlflow.source.name': '/tmp/ray/session_2023-11-08_21-09-40_807685_1/runtime_resources/working_dir_files/_ray_pkg_9937022cdb57a41b',\n",
       "   'tags.mlflow.parentRunId': '4edcc4b348c948ccb6dea52b3bd66624',\n",
       "   'tags.mlflow.project.entryPoint': 'energy_loss_to_CO2_epa',\n",
       "   'tags.mlflow.source.type': 'PROJECT',\n",
       "   'tags.mlflow.user': 'root',\n",
       "   'tags.model_uri': 'runs:/44ecd5273e0c4c61836dcc8b3e100a8d/energy_loss_to_CO2_epa',\n",
       "   'tags.recipe': 'electrical-transformer',\n",
       "   'tags.artifact_name': 'energy_loss_to_CO2_epa',\n",
       "   'tags.step': 'energy_loss_to_CO2_epa',\n",
       "   'tags.summary': 'true'},\n",
       "  {'run_id': '4edcc4b348c948ccb6dea52b3bd66624',\n",
       "   'experiment_id': '8',\n",
       "   'status': 'FINISHED',\n",
       "   'artifact_uri': 's3://testdataupload/8/4edcc4b348c948ccb6dea52b3bd66624/artifacts',\n",
       "   'start_time': '2023-11-08T21:39:46.601000+00:00',\n",
       "   'end_time': '2023-11-08T21:40:57.730000+00:00',\n",
       "   'params.output_artifact_name': '',\n",
       "   'params.steps': '',\n",
       "   'params.config_path': '',\n",
       "   'params.data_path': '',\n",
       "   'params.co2_conversion': '',\n",
       "   'params.storage_path': '',\n",
       "   'tags.mlflow.log-model.history': '',\n",
       "   'tags.mlflow.runName': 'intelligent-pig-879',\n",
       "   'tags.mlflow.project.backend': '',\n",
       "   'tags.mlflow.source.name': '/usr/local/lib/python3.9/site-packages/ray/_private/workers/default_worker.py',\n",
       "   'tags.mlflow.parentRunId': '',\n",
       "   'tags.mlflow.project.entryPoint': '',\n",
       "   'tags.mlflow.source.type': 'LOCAL',\n",
       "   'tags.mlflow.user': 'root',\n",
       "   'tags.model_uri': '',\n",
       "   'tags.recipe': 'electrical-transformer',\n",
       "   'tags.artifact_name': '',\n",
       "   'tags.step': '',\n",
       "   'tags.summary': ''}]}"
      ]
     },
     "execution_count": 33,
     "metadata": {},
     "output_type": "execute_result"
    }
   ],
   "source": [
    "json_data"
   ]
  },
  {
   "cell_type": "code",
   "execution_count": 37,
   "metadata": {},
   "outputs": [
    {
     "name": "stdout",
     "output_type": "stream",
     "text": [
      "{'job_id': '9089a279-2fc6-4da9-b84d-7fec3dc0d3a9', 'status': 'SUCCEEDED', 'info': {'type': 'SUBMISSION', 'job_id': '09000000', 'submission_id': 'raysubmit_7fec3dc0d3a9', 'driver_info': {'id': '09000000', 'node_ip_address': '172.63.0.4', 'pid': '2260'}, 'status': 'SUCCEEDED', 'entrypoint': 'aimodelfactory run -rp . -r recipes/kpi/emission/train', 'message': 'Job finished successfully.', 'error_type': None, 'start_time': 1699479583847, 'end_time': 1699479659059, 'metadata': {}, 'runtime_env': {'working_dir': 'gcs://_ray_pkg_9937022cdb57a41b.zip'}, 'driver_agent_http_address': 'http://172.63.0.4:52365', 'driver_node_id': '5ebfbce21e0300d810823289b76e52eb2ea789475f84a8c7eff1266c'}, 'logs': \"recipe_file_path /tmp/ray/session_2023-11-08_21-09-40_807685_1/runtime_resources/working_dir_files/_ray_pkg_9937022cdb57a41b/recipes/kpi/emission/train\\nentrypoint_path /tmp/ray/session_2023-11-08_21-09-40_807685_1/runtime_resources/working_dir_files/_ray_pkg_9937022cdb57a41b/main.py\\n2023-11-08 21:39:45,392\\tINFO worker.py:1334 -- Using address 172.63.0.4:6379 set in the environment variable RAY_ADDRESS\\n2023-11-08 21:39:45,392\\tINFO worker.py:1452 -- Connecting to existing Ray cluster at address: 172.63.0.4:6379...\\n2023-11-08 21:39:45,399\\tINFO worker.py:1627 -- Connected to Ray cluster. View the dashboard at \\x1b[1m\\x1b[32m172.63.0.4:8265 \\x1b[39m\\x1b[22m\\n\\x1b[2m\\x1b[36m(run_recipe_on_ray pid=2327)\\x1b[0m 2023/11/08 21:39:46 INFO mlflow.tracking.fluent: Experiment with name '9089a279-2fc6-4da9-b84d-7fec3dc0d3a9' does not exist. Creating a new experiment.\\n\\x1b[2m\\x1b[36m(run_recipe_on_ray pid=2327)\\x1b[0m mlflow.experiment.name: 9089a279-2fc6-4da9-b84d-7fec3dc0d3a9\\n\\x1b[2m\\x1b[36m(run_recipe_on_ray pid=2327)\\x1b[0m mlflow.experiment.id: 8\\n\\x1b[2m\\x1b[36m(run_recipe_on_ray pid=2327)\\x1b[0m Launching new run for entrypoint=energy_loss_to_CO2_epa and parameters={'data_path': 's3://testdataupload/9089a279-2fc6-4da9-b84d-7fec3dc0d3a9_data/training.csv', 'co2_conversion': 's3://testdataupload/9089a279-2fc6-4da9-b84d-7fec3dc0d3a9_data/co2e_conversion.csv', 'config_path': 's3://testdataupload/9089a279-2fc6-4da9-b84d-7fec3dc0d3a9_config/parameter_config.yaml', 'storage_path': 'file://./storage/'}\\n\\x1b[2m\\x1b[36m(run_recipe_on_ray pid=2327)\\x1b[0m 2023/11/08 21:39:46 WARNING mlflow.utils.git_utils: Failed to import Git (the Git executable is probably not on your PATH), so Git SHA is not available. Error: Failed to initialize: Bad git executable.\\n\\x1b[2m\\x1b[36m(run_recipe_on_ray pid=2327)\\x1b[0m The git executable must be specified in one of the following ways:\\n\\x1b[2m\\x1b[36m(run_recipe_on_ray pid=2327)\\x1b[0m     - be included in your $PATH\\n\\x1b[2m\\x1b[36m(run_recipe_on_ray pid=2327)\\x1b[0m     - be set via $GIT_PYTHON_GIT_EXECUTABLE\\n\\x1b[2m\\x1b[36m(run_recipe_on_ray pid=2327)\\x1b[0m     - explicitly set via git.refresh()\\n\\x1b[2m\\x1b[36m(run_recipe_on_ray pid=2327)\\x1b[0m \\n\\x1b[2m\\x1b[36m(run_recipe_on_ray pid=2327)\\x1b[0m All git commands will error until this is rectified.\\n\\x1b[2m\\x1b[36m(run_recipe_on_ray pid=2327)\\x1b[0m \\n\\x1b[2m\\x1b[36m(run_recipe_on_ray pid=2327)\\x1b[0m This initial warning can be silenced or aggravated in the future by setting the\\n\\x1b[2m\\x1b[36m(run_recipe_on_ray pid=2327)\\x1b[0m $GIT_PYTHON_REFRESH environment variable. Use one of the following values:\\n\\x1b[2m\\x1b[36m(run_recipe_on_ray pid=2327)\\x1b[0m     - quiet|q|silence|s|none|n|0: for no warning or exception\\n\\x1b[2m\\x1b[36m(run_recipe_on_ray pid=2327)\\x1b[0m     - warn|w|warning|1: for a printed warning\\n\\x1b[2m\\x1b[36m(run_recipe_on_ray pid=2327)\\x1b[0m     - error|e|raise|r|2: for a raised exception\\n\\x1b[2m\\x1b[36m(run_recipe_on_ray pid=2327)\\x1b[0m \\n\\x1b[2m\\x1b[36m(run_recipe_on_ray pid=2327)\\x1b[0m Example:\\n\\x1b[2m\\x1b[36m(run_recipe_on_ray pid=2327)\\x1b[0m     export GIT_PYTHON_REFRESH=quiet\\n\\x1b[2m\\x1b[36m(run_recipe_on_ray pid=2327)\\x1b[0m \\n\\x1b[2m\\x1b[36m(run_recipe_on_ray pid=2327)\\x1b[0m No matching run has been found.\\n\\x1b[2m\\x1b[36m(run_recipe_on_ray pid=2327)\\x1b[0m 2023/11/08 21:39:46 WARNING mlflow.tracking._tracking_service.utils: Failed to import Git (the git executable is probably not on your PATH), so Git SHA is not available. Error: Failed to initialize: Bad git executable.\\n\\x1b[2m\\x1b[36m(run_recipe_on_ray pid=2327)\\x1b[0m The git executable must be specified in one of the following ways:\\n\\x1b[2m\\x1b[36m(run_recipe_on_ray pid=2327)\\x1b[0m     - be included in your $PATH\\n\\x1b[2m\\x1b[36m(run_recipe_on_ray pid=2327)\\x1b[0m     - be set via $GIT_PYTHON_GIT_EXECUTABLE\\n\\x1b[2m\\x1b[36m(run_recipe_on_ray pid=2327)\\x1b[0m     - explicitly set via git.refresh()\\n\\x1b[2m\\x1b[36m(run_recipe_on_ray pid=2327)\\x1b[0m \\n\\x1b[2m\\x1b[36m(run_recipe_on_ray pid=2327)\\x1b[0m All git commands will error until this is rectified.\\n\\x1b[2m\\x1b[36m(run_recipe_on_ray pid=2327)\\x1b[0m \\n\\x1b[2m\\x1b[36m(run_recipe_on_ray pid=2327)\\x1b[0m This initial warning can be silenced or aggravated in the future by setting the\\n\\x1b[2m\\x1b[36m(run_recipe_on_ray pid=2327)\\x1b[0m $GIT_PYTHON_REFRESH environment variable. Use one of the following values:\\n\\x1b[2m\\x1b[36m(run_recipe_on_ray pid=2327)\\x1b[0m     - quiet|q|silence|s|none|n|0: for no warning or exception\\n\\x1b[2m\\x1b[36m(run_recipe_on_ray pid=2327)\\x1b[0m     - warn|w|warning|1: for a printed warning\\n\\x1b[2m\\x1b[36m(run_recipe_on_ray pid=2327)\\x1b[0m     - error|e|raise|r|2: for a raised exception\\n\\x1b[2m\\x1b[36m(run_recipe_on_ray pid=2327)\\x1b[0m \\n\\x1b[2m\\x1b[36m(run_recipe_on_ray pid=2327)\\x1b[0m Example:\\n\\x1b[2m\\x1b[36m(run_recipe_on_ray pid=2327)\\x1b[0m     export GIT_PYTHON_REFRESH=quiet\\n\\x1b[2m\\x1b[36m(run_recipe_on_ray pid=2327)\\x1b[0m \\n\\x1b[2m\\x1b[36m(run_recipe_on_ray pid=2327)\\x1b[0m 2023/11/08 21:39:46 WARNING mlflow.utils.git_utils: Failed to import Git (the Git executable is probably not on your PATH), so Git SHA is not available. Error: Failed to initialize: Bad git executable.\\n\\x1b[2m\\x1b[36m(run_recipe_on_ray pid=2327)\\x1b[0m The git executable must be specified in one of the following ways:\\n\\x1b[2m\\x1b[36m(run_recipe_on_ray pid=2327)\\x1b[0m     - be included in your $PATH\\n\\x1b[2m\\x1b[36m(run_recipe_on_ray pid=2327)\\x1b[0m     - be set via $GIT_PYTHON_GIT_EXECUTABLE\\n\\x1b[2m\\x1b[36m(run_recipe_on_ray pid=2327)\\x1b[0m     - explicitly set via git.refresh()\\n\\x1b[2m\\x1b[36m(run_recipe_on_ray pid=2327)\\x1b[0m \\n\\x1b[2m\\x1b[36m(run_recipe_on_ray pid=2327)\\x1b[0m All git commands will error until this is rectified.\\n\\x1b[2m\\x1b[36m(run_recipe_on_ray pid=2327)\\x1b[0m \\n\\x1b[2m\\x1b[36m(run_recipe_on_ray pid=2327)\\x1b[0m This initial warning can be silenced or aggravated in the future by setting the\\n\\x1b[2m\\x1b[36m(run_recipe_on_ray pid=2327)\\x1b[0m $GIT_PYTHON_REFRESH environment variable. Use one of the following values:\\n\\x1b[2m\\x1b[36m(run_recipe_on_ray pid=2327)\\x1b[0m     - quiet|q|silence|s|none|n|0: for no warning or exception\\n\\x1b[2m\\x1b[36m(run_recipe_on_ray pid=2327)\\x1b[0m     - warn|w|warning|1: for a printed warning\\n\\x1b[2m\\x1b[36m(run_recipe_on_ray pid=2327)\\x1b[0m     - error|e|raise|r|2: for a raised exception\\n\\x1b[2m\\x1b[36m(run_recipe_on_ray pid=2327)\\x1b[0m \\n\\x1b[2m\\x1b[36m(run_recipe_on_ray pid=2327)\\x1b[0m Example:\\n\\x1b[2m\\x1b[36m(run_recipe_on_ray pid=2327)\\x1b[0m     export GIT_PYTHON_REFRESH=quiet\\n\\x1b[2m\\x1b[36m(run_recipe_on_ray pid=2327)\\x1b[0m \\n\\x1b[2m\\x1b[36m(run_recipe_on_ray pid=2327)\\x1b[0m 2023/11/08 21:39:46 WARNING mlflow.utils.git_utils: Failed to import Git (the Git executable is probably not on your PATH), so Git SHA is not available. Error: Failed to initialize: Bad git executable.\\n\\x1b[2m\\x1b[36m(run_recipe_on_ray pid=2327)\\x1b[0m The git executable must be specified in one of the following ways:\\n\\x1b[2m\\x1b[36m(run_recipe_on_ray pid=2327)\\x1b[0m     - be included in your $PATH\\n\\x1b[2m\\x1b[36m(run_recipe_on_ray pid=2327)\\x1b[0m     - be set via $GIT_PYTHON_GIT_EXECUTABLE\\n\\x1b[2m\\x1b[36m(run_recipe_on_ray pid=2327)\\x1b[0m     - explicitly set via git.refresh()\\n\\x1b[2m\\x1b[36m(run_recipe_on_ray pid=2327)\\x1b[0m \\n\\x1b[2m\\x1b[36m(run_recipe_on_ray pid=2327)\\x1b[0m All git commands will error until this is rectified.\\n\\x1b[2m\\x1b[36m(run_recipe_on_ray pid=2327)\\x1b[0m \\n\\x1b[2m\\x1b[36m(run_recipe_on_ray pid=2327)\\x1b[0m This initial warning can be silenced or aggravated in the future by setting the\\n\\x1b[2m\\x1b[36m(run_recipe_on_ray pid=2327)\\x1b[0m $GIT_PYTHON_REFRESH environment variable. Use one of the following values:\\n\\x1b[2m\\x1b[36m(run_recipe_on_ray pid=2327)\\x1b[0m     - quiet|q|silence|s|none|n|0: for no warning or exception\\n\\x1b[2m\\x1b[36m(run_recipe_on_ray pid=2327)\\x1b[0m     - warn|w|warning|1: for a printed warning\\n\\x1b[2m\\x1b[36m(run_recipe_on_ray pid=2327)\\x1b[0m     - error|e|raise|r|2: for a raised exception\\n\\x1b[2m\\x1b[36m(run_recipe_on_ray pid=2327)\\x1b[0m \\n\\x1b[2m\\x1b[36m(run_recipe_on_ray pid=2327)\\x1b[0m Example:\\n\\x1b[2m\\x1b[36m(run_recipe_on_ray pid=2327)\\x1b[0m     export GIT_PYTHON_REFRESH=quiet\\n\\x1b[2m\\x1b[36m(run_recipe_on_ray pid=2327)\\x1b[0m \\n\\x1b[2m\\x1b[36m(run_recipe_on_ray pid=2327)\\x1b[0m 2023/11/08 21:39:46 INFO mlflow.projects.utils: === Created directory /tmp/tmpz4_quixe for downloading remote URIs passed to arguments of type 'path' ===\\n\\x1b[2m\\x1b[36m(run_recipe_on_ray pid=2327)\\x1b[0m 2023/11/08 21:39:46 INFO mlflow.projects.backend.local: === Running command 'python src/models/energy_loss_to_CO2_epa.py --data_path s3://testdataupload/9089a279-2fc6-4da9-b84d-7fec3dc0d3a9_data/training.csv --co2_conversion s3://testdataupload/9089a279-2fc6-4da9-b84d-7fec3dc0d3a9_data/co2e_conversion.csv --config_path s3://testdataupload/9089a279-2fc6-4da9-b84d-7fec3dc0d3a9_config/parameter_config.yaml --storage_path file://./storage/' in run with ID '44ecd5273e0c4c61836dcc8b3e100a8d' === \\n\\x1b[2m\\x1b[36m(run_recipe_on_ray pid=2327)\\x1b[0m 2023/11/08 21:40:16 WARNING mlflow.utils.requirements_utils: The following packages were not found in the public PyPI package index as of 2023-10-28; if these packages are not present in the public PyPI index, you must install them manually before loading your model: {'srom'}\\n\\x1b[2m\\x1b[36m(run_recipe_on_ray pid=2327)\\x1b[0m Registered model 'energy_loss_to_CO2_epa' already exists. Creating a new version of this model...\\n\\x1b[2m\\x1b[36m(run_recipe_on_ray pid=2327)\\x1b[0m 2023/11/08 21:40:25 INFO mlflow.store.model_registry.abstract_store: Waiting up to 300 seconds for model version to finish creation. Model name: energy_loss_to_CO2_epa, version 5\\n\\x1b[2m\\x1b[36m(run_recipe_on_ray pid=2327)\\x1b[0m Created version '5' of model 'energy_loss_to_CO2_epa'.\\n\\x1b[2m\\x1b[36m(run_recipe_on_ray pid=2327)\\x1b[0m Debug: selected columns:  energy_loss location_zip\\n\\x1b[2m\\x1b[36m(run_recipe_on_ray pid=2327)\\x1b[0m Debug:      energy_loss  location_zip\\n\\x1b[2m\\x1b[36m(run_recipe_on_ray pid=2327)\\x1b[0m 0  5.380000e-07         99557\\n\\x1b[2m\\x1b[36m(run_recipe_on_ray pid=2327)\\x1b[0m 1  9.440000e-07         99557\\n\\x1b[2m\\x1b[36m(run_recipe_on_ray pid=2327)\\x1b[0m 2  9.350000e-07         99557\\n\\x1b[2m\\x1b[36m(run_recipe_on_ray pid=2327)\\x1b[0m 3  1.010000e-06         99557\\n\\x1b[2m\\x1b[36m(run_recipe_on_ray pid=2327)\\x1b[0m 4  1.050000e-06         99557\\n\\x1b[2m\\x1b[36m(run_recipe_on_ray pid=2327)\\x1b[0m DEBUG, pass the columns for CO2e\\n\\x1b[2m\\x1b[36m(run_recipe_on_ray pid=2327)\\x1b[0m Launching new run for entrypoint=deployment_artifact and parameters={'steps': 'energy_loss_to_CO2_epa', 'output_artifact_name': 'energy_loss_to_CO2_epa'}\\n\\x1b[2m\\x1b[36m(run_recipe_on_ray pid=2327)\\x1b[0m 2023/11/08 21:40:27 INFO mlflow.projects: === Run (ID '44ecd5273e0c4c61836dcc8b3e100a8d') succeeded ===\\n\\x1b[2m\\x1b[36m(run_recipe_on_ray pid=2327)\\x1b[0m No matching run has been found.\\n\\x1b[2m\\x1b[36m(run_recipe_on_ray pid=2327)\\x1b[0m 2023/11/08 21:40:27 WARNING mlflow.tracking._tracking_service.utils: Failed to import Git (the git executable is probably not on your PATH), so Git SHA is not available. Error: Failed to initialize: Bad git executable.\\n\\x1b[2m\\x1b[36m(run_recipe_on_ray pid=2327)\\x1b[0m The git executable must be specified in one of the following ways:\\n\\x1b[2m\\x1b[36m(run_recipe_on_ray pid=2327)\\x1b[0m     - be included in your $PATH\\n\\x1b[2m\\x1b[36m(run_recipe_on_ray pid=2327)\\x1b[0m     - be set via $GIT_PYTHON_GIT_EXECUTABLE\\n\\x1b[2m\\x1b[36m(run_recipe_on_ray pid=2327)\\x1b[0m     - explicitly set via git.refresh()\\n\\x1b[2m\\x1b[36m(run_recipe_on_ray pid=2327)\\x1b[0m \\n\\x1b[2m\\x1b[36m(run_recipe_on_ray pid=2327)\\x1b[0m All git commands will error until this is rectified.\\n\\x1b[2m\\x1b[36m(run_recipe_on_ray pid=2327)\\x1b[0m \\n\\x1b[2m\\x1b[36m(run_recipe_on_ray pid=2327)\\x1b[0m This initial warning can be silenced or aggravated in the future by setting the\\n\\x1b[2m\\x1b[36m(run_recipe_on_ray pid=2327)\\x1b[0m $GIT_PYTHON_REFRESH environment variable. Use one of the following values:\\n\\x1b[2m\\x1b[36m(run_recipe_on_ray pid=2327)\\x1b[0m     - quiet|q|silence|s|none|n|0: for no warning or exception\\n\\x1b[2m\\x1b[36m(run_recipe_on_ray pid=2327)\\x1b[0m     - warn|w|warning|1: for a printed warning\\n\\x1b[2m\\x1b[36m(run_recipe_on_ray pid=2327)\\x1b[0m     - error|e|raise|r|2: for a raised exception\\n\\x1b[2m\\x1b[36m(run_recipe_on_ray pid=2327)\\x1b[0m \\n\\x1b[2m\\x1b[36m(run_recipe_on_ray pid=2327)\\x1b[0m Example:\\n\\x1b[2m\\x1b[36m(run_recipe_on_ray pid=2327)\\x1b[0m     export GIT_PYTHON_REFRESH=quiet\\n\\x1b[2m\\x1b[36m(run_recipe_on_ray pid=2327)\\x1b[0m \\n\\x1b[2m\\x1b[36m(run_recipe_on_ray pid=2327)\\x1b[0m 2023/11/08 21:40:27 WARNING mlflow.utils.git_utils: Failed to import Git (the Git executable is probably not on your PATH), so Git SHA is not available. Error: Failed to initialize: Bad git executable.\\n\\x1b[2m\\x1b[36m(run_recipe_on_ray pid=2327)\\x1b[0m The git executable must be specified in one of the following ways:\\n\\x1b[2m\\x1b[36m(run_recipe_on_ray pid=2327)\\x1b[0m     - be included in your $PATH\\n\\x1b[2m\\x1b[36m(run_recipe_on_ray pid=2327)\\x1b[0m     - be set via $GIT_PYTHON_GIT_EXECUTABLE\\n\\x1b[2m\\x1b[36m(run_recipe_on_ray pid=2327)\\x1b[0m     - explicitly set via git.refresh()\\n\\x1b[2m\\x1b[36m(run_recipe_on_ray pid=2327)\\x1b[0m \\n\\x1b[2m\\x1b[36m(run_recipe_on_ray pid=2327)\\x1b[0m All git commands will error until this is rectified.\\n\\x1b[2m\\x1b[36m(run_recipe_on_ray pid=2327)\\x1b[0m \\n\\x1b[2m\\x1b[36m(run_recipe_on_ray pid=2327)\\x1b[0m This initial warning can be silenced or aggravated in the future by setting the\\n\\x1b[2m\\x1b[36m(run_recipe_on_ray pid=2327)\\x1b[0m $GIT_PYTHON_REFRESH environment variable. Use one of the following values:\\n\\x1b[2m\\x1b[36m(run_recipe_on_ray pid=2327)\\x1b[0m     - quiet|q|silence|s|none|n|0: for no warning or exception\\n\\x1b[2m\\x1b[36m(run_recipe_on_ray pid=2327)\\x1b[0m     - warn|w|warning|1: for a printed warning\\n\\x1b[2m\\x1b[36m(run_recipe_on_ray pid=2327)\\x1b[0m     - error|e|raise|r|2: for a raised exception\\n\\x1b[2m\\x1b[36m(run_recipe_on_ray pid=2327)\\x1b[0m \\n\\x1b[2m\\x1b[36m(run_recipe_on_ray pid=2327)\\x1b[0m Example:\\n\\x1b[2m\\x1b[36m(run_recipe_on_ray pid=2327)\\x1b[0m     export GIT_PYTHON_REFRESH=quiet\\n\\x1b[2m\\x1b[36m(run_recipe_on_ray pid=2327)\\x1b[0m \\n\\x1b[2m\\x1b[36m(run_recipe_on_ray pid=2327)\\x1b[0m 2023/11/08 21:40:27 WARNING mlflow.utils.git_utils: Failed to import Git (the Git executable is probably not on your PATH), so Git SHA is not available. Error: Failed to initialize: Bad git executable.\\n\\x1b[2m\\x1b[36m(run_recipe_on_ray pid=2327)\\x1b[0m The git executable must be specified in one of the following ways:\\n\\x1b[2m\\x1b[36m(run_recipe_on_ray pid=2327)\\x1b[0m     - be included in your $PATH\\n\\x1b[2m\\x1b[36m(run_recipe_on_ray pid=2327)\\x1b[0m     - be set via $GIT_PYTHON_GIT_EXECUTABLE\\n\\x1b[2m\\x1b[36m(run_recipe_on_ray pid=2327)\\x1b[0m     - explicitly set via git.refresh()\\n\\x1b[2m\\x1b[36m(run_recipe_on_ray pid=2327)\\x1b[0m \\n\\x1b[2m\\x1b[36m(run_recipe_on_ray pid=2327)\\x1b[0m All git commands will error until this is rectified.\\n\\x1b[2m\\x1b[36m(run_recipe_on_ray pid=2327)\\x1b[0m \\n\\x1b[2m\\x1b[36m(run_recipe_on_ray pid=2327)\\x1b[0m This initial warning can be silenced or aggravated in the future by setting the\\n\\x1b[2m\\x1b[36m(run_recipe_on_ray pid=2327)\\x1b[0m $GIT_PYTHON_REFRESH environment variable. Use one of the following values:\\n\\x1b[2m\\x1b[36m(run_recipe_on_ray pid=2327)\\x1b[0m     - quiet|q|silence|s|none|n|0: for no warning or exception\\n\\x1b[2m\\x1b[36m(run_recipe_on_ray pid=2327)\\x1b[0m     - warn|w|warning|1: for a printed warning\\n\\x1b[2m\\x1b[36m(run_recipe_on_ray pid=2327)\\x1b[0m     - error|e|raise|r|2: for a raised exception\\n\\x1b[2m\\x1b[36m(run_recipe_on_ray pid=2327)\\x1b[0m \\n\\x1b[2m\\x1b[36m(run_recipe_on_ray pid=2327)\\x1b[0m Example:\\n\\x1b[2m\\x1b[36m(run_recipe_on_ray pid=2327)\\x1b[0m     export GIT_PYTHON_REFRESH=quiet\\n\\x1b[2m\\x1b[36m(run_recipe_on_ray pid=2327)\\x1b[0m \\n\\x1b[2m\\x1b[36m(run_recipe_on_ray pid=2327)\\x1b[0m 2023/11/08 21:40:27 INFO mlflow.projects.utils: === Created directory /tmp/tmpqy1_1hmd for downloading remote URIs passed to arguments of type 'path' ===\\n\\x1b[2m\\x1b[36m(run_recipe_on_ray pid=2327)\\x1b[0m 2023/11/08 21:40:27 INFO mlflow.projects.backend.local: === Running command 'python src/postprocessing/create_deployment_artifact.py --steps energy_loss_to_CO2_epa --output_artifact_name energy_loss_to_CO2_epa' in run with ID '904dc38e208342fdaba2ebedc6ecca0c' === \\n\\x1b[2m\\x1b[36m(run_recipe_on_ray pid=2327)\\x1b[0m 2023/11/08 21:40:40 WARNING mlflow.utils.requirements_utils: The following packages were not found in the public PyPI package index as of 2023-10-28; if these packages are not present in the public PyPI index, you must install them manually before loading your model: {'srom'}\\n\\x1b[2m\\x1b[36m(run_recipe_on_ray pid=2327)\\x1b[0m Registered model 'energy_loss_to_CO2_epa' already exists. Creating a new version of this model...\\n\\x1b[2m\\x1b[36m(run_recipe_on_ray pid=2327)\\x1b[0m 2023/11/08 21:40:57 INFO mlflow.store.model_registry.abstract_store: Waiting up to 300 seconds for model version to finish creation. Model name: energy_loss_to_CO2_epa, version 6\\n\\x1b[2m\\x1b[36m(run_recipe_on_ray pid=2327)\\x1b[0m Created version '6' of model 'energy_loss_to_CO2_epa'.\\n\\x1b[2m\\x1b[36m(run_recipe_on_ray pid=2327)\\x1b[0m 2023/11/08 21:40:57 INFO mlflow.projects: === Run (ID '904dc38e208342fdaba2ebedc6ecca0c') succeeded ===\\nCompletedProcess(args=['python', PosixPath('/tmp/ray/session_2023-11-08_21-09-40_807685_1/runtime_resources/working_dir_files/_ray_pkg_9937022cdb57a41b/main.py'), '--recipe=/tmp/ray/session_2023-11-08_21-09-40_807685_1/runtime_resources/working_dir_files/_ray_pkg_9937022cdb57a41b/recipes/kpi/emission/train'], returncode=0)\\n\"}\n"
     ]
    }
   ],
   "source": [
    "# Check the log\n",
    "log_url = endpoint_url + \"/log/\"\n",
    "job_id = post_r_json['job_id']\n",
    "get_response = requests.get(log_url+job_id, headers={})\n",
    "log_data = get_response.json()\n",
    "print(log_data)"
   ]
  },
  {
   "cell_type": "markdown",
   "metadata": {},
   "source": [
    "### Saving details for deployment"
   ]
  },
  {
   "cell_type": "code",
   "execution_count": 39,
   "metadata": {},
   "outputs": [
    {
     "data": {
      "text/plain": [
       "[{'run_id': '904dc38e208342fdaba2ebedc6ecca0c',\n",
       "  'experiment_id': '8',\n",
       "  'status': 'FINISHED',\n",
       "  'artifact_uri': 's3://testdataupload/8/904dc38e208342fdaba2ebedc6ecca0c/artifacts',\n",
       "  'start_time': '2023-11-08T21:40:27.421000+00:00',\n",
       "  'end_time': '2023-11-08T21:40:57.698000+00:00',\n",
       "  'params.output_artifact_name': 'energy_loss_to_CO2_epa',\n",
       "  'params.steps': 'energy_loss_to_CO2_epa',\n",
       "  'params.config_path': '',\n",
       "  'params.data_path': '',\n",
       "  'params.co2_conversion': '',\n",
       "  'params.storage_path': '',\n",
       "  'tags.mlflow.log-model.history': '[{\"run_id\": \"904dc38e208342fdaba2ebedc6ecca0c\", \"artifact_path\": \"energy_loss_to_CO2_epa\", \"utc_time_created\": \"2023-11-08 21:40:38.601008\", \"flavors\": {\"python_function\": {\"model_path\": \"model.pkl\", \"predict_fn\": \"predict\", \"loader_module\": \"mlflow.sklearn\", \"python_version\": \"3.9.2\", \"env\": {\"conda\": \"conda.yaml\", \"virtualenv\": \"python_env.yaml\"}}, \"sklearn\": {\"pickled_model\": \"model.pkl\", \"sklearn_version\": \"1.1.1\", \"serialization_format\": \"cloudpickle\", \"code\": null}}, \"model_uuid\": \"bbea4d6797474618963a4d5f25015f8c\", \"mlflow_version\": \"2.8.0\", \"model_size_bytes\": 3882268}]',\n",
       "  'tags.mlflow.runName': 'ambitious-snipe-361',\n",
       "  'tags.mlflow.project.backend': 'local',\n",
       "  'tags.mlflow.source.name': '/tmp/ray/session_2023-11-08_21-09-40_807685_1/runtime_resources/working_dir_files/_ray_pkg_9937022cdb57a41b',\n",
       "  'tags.mlflow.parentRunId': '4edcc4b348c948ccb6dea52b3bd66624',\n",
       "  'tags.mlflow.project.entryPoint': 'deployment_artifact',\n",
       "  'tags.mlflow.source.type': 'PROJECT',\n",
       "  'tags.mlflow.user': 'root',\n",
       "  'tags.model_uri': '',\n",
       "  'tags.recipe': '',\n",
       "  'tags.artifact_name': '',\n",
       "  'tags.step': '',\n",
       "  'tags.summary': ''},\n",
       " {'run_id': '44ecd5273e0c4c61836dcc8b3e100a8d',\n",
       "  'experiment_id': '8',\n",
       "  'status': 'FINISHED',\n",
       "  'artifact_uri': 's3://testdataupload/8/44ecd5273e0c4c61836dcc8b3e100a8d/artifacts',\n",
       "  'start_time': '2023-11-08T21:39:46.675000+00:00',\n",
       "  'end_time': '2023-11-08T21:40:27.345000+00:00',\n",
       "  'params.output_artifact_name': '',\n",
       "  'params.steps': '',\n",
       "  'params.config_path': 's3://testdataupload/9089a279-2fc6-4da9-b84d-7fec3dc0d3a9_config/parameter_config.yaml',\n",
       "  'params.data_path': 's3://testdataupload/9089a279-2fc6-4da9-b84d-7fec3dc0d3a9_data/training.csv',\n",
       "  'params.co2_conversion': 's3://testdataupload/9089a279-2fc6-4da9-b84d-7fec3dc0d3a9_data/co2e_conversion.csv',\n",
       "  'params.storage_path': 'file://./storage/',\n",
       "  'tags.mlflow.log-model.history': '[{\"run_id\": \"44ecd5273e0c4c61836dcc8b3e100a8d\", \"artifact_path\": \"energy_loss_to_CO2_epa\", \"utc_time_created\": \"2023-11-08 21:40:15.261041\", \"flavors\": {\"python_function\": {\"model_path\": \"model.pkl\", \"predict_fn\": \"predict\", \"loader_module\": \"mlflow.sklearn\", \"python_version\": \"3.9.2\", \"env\": {\"conda\": \"conda.yaml\", \"virtualenv\": \"python_env.yaml\"}}, \"sklearn\": {\"pickled_model\": \"model.pkl\", \"sklearn_version\": \"1.1.1\", \"serialization_format\": \"cloudpickle\", \"code\": null}}, \"model_uuid\": \"d271529ac94a464a82aebf297c589730\", \"mlflow_version\": \"2.8.0\", \"model_size_bytes\": 3941788}]',\n",
       "  'tags.mlflow.runName': 'upbeat-loon-799',\n",
       "  'tags.mlflow.project.backend': 'local',\n",
       "  'tags.mlflow.source.name': '/tmp/ray/session_2023-11-08_21-09-40_807685_1/runtime_resources/working_dir_files/_ray_pkg_9937022cdb57a41b',\n",
       "  'tags.mlflow.parentRunId': '4edcc4b348c948ccb6dea52b3bd66624',\n",
       "  'tags.mlflow.project.entryPoint': 'energy_loss_to_CO2_epa',\n",
       "  'tags.mlflow.source.type': 'PROJECT',\n",
       "  'tags.mlflow.user': 'root',\n",
       "  'tags.model_uri': 'runs:/44ecd5273e0c4c61836dcc8b3e100a8d/energy_loss_to_CO2_epa',\n",
       "  'tags.recipe': 'electrical-transformer',\n",
       "  'tags.artifact_name': 'energy_loss_to_CO2_epa',\n",
       "  'tags.step': 'energy_loss_to_CO2_epa',\n",
       "  'tags.summary': 'true'},\n",
       " {'run_id': '4edcc4b348c948ccb6dea52b3bd66624',\n",
       "  'experiment_id': '8',\n",
       "  'status': 'FINISHED',\n",
       "  'artifact_uri': 's3://testdataupload/8/4edcc4b348c948ccb6dea52b3bd66624/artifacts',\n",
       "  'start_time': '2023-11-08T21:39:46.601000+00:00',\n",
       "  'end_time': '2023-11-08T21:40:57.730000+00:00',\n",
       "  'params.output_artifact_name': '',\n",
       "  'params.steps': '',\n",
       "  'params.config_path': '',\n",
       "  'params.data_path': '',\n",
       "  'params.co2_conversion': '',\n",
       "  'params.storage_path': '',\n",
       "  'tags.mlflow.log-model.history': '',\n",
       "  'tags.mlflow.runName': 'intelligent-pig-879',\n",
       "  'tags.mlflow.project.backend': '',\n",
       "  'tags.mlflow.source.name': '/usr/local/lib/python3.9/site-packages/ray/_private/workers/default_worker.py',\n",
       "  'tags.mlflow.parentRunId': '',\n",
       "  'tags.mlflow.project.entryPoint': '',\n",
       "  'tags.mlflow.source.type': 'LOCAL',\n",
       "  'tags.mlflow.user': 'root',\n",
       "  'tags.model_uri': '',\n",
       "  'tags.recipe': 'electrical-transformer',\n",
       "  'tags.artifact_name': '',\n",
       "  'tags.step': '',\n",
       "  'tags.summary': ''}]"
      ]
     },
     "execution_count": 39,
     "metadata": {},
     "output_type": "execute_result"
    }
   ],
   "source": [
    "json_data[\"detailed_summary\"]"
   ]
  },
  {
   "cell_type": "code",
   "execution_count": null,
   "metadata": {},
   "outputs": [],
   "source": [
    "import yaml\n",
    "if 'status' in json_data:\n",
    "    if json_data['status'] == 'DONE':\n",
    "        for summary in json_data[\"detailed_summary\"]:\n",
    "            if summary[\"params.output_artifact_name\"] != \"\":\n",
    "                s3_uri = summary[\"artifact_uri\"] + \"/\" + summary[\"params.output_artifact_name\"]\n",
    "            if summary['tags.artifact_name']!=\"\":\n",
    "                model_uri = \"runs:/\" + summary['run_id'] + \"/\" + summary['tags.artifact_name']\n",
    "        output_data = {\n",
    "            \"model_uri\" : model_uri,\n",
    "            \"train_job_id\" : job_id,\n",
    "            \"s3_uri\": s3_uri,\n",
    "        }\n",
    "        with open(\"../config/model_info.yml\",\"w\") as file:\n",
    "            yaml.dump(output_data, file)\n",
    "        output_data"
   ]
  },
  {
   "cell_type": "code",
   "execution_count": 43,
   "metadata": {},
   "outputs": [
    {
     "data": {
      "text/plain": [
       "{'model_uri': 'runs:/44ecd5273e0c4c61836dcc8b3e100a8d/energy_loss_to_CO2_epa',\n",
       " 'train_job_id': '9089a279-2fc6-4da9-b84d-7fec3dc0d3a9',\n",
       " 's3_uri': 's3://testdataupload/8/904dc38e208342fdaba2ebedc6ecca0c/artifacts/energy_loss_to_CO2_epa'}"
      ]
     },
     "execution_count": 43,
     "metadata": {},
     "output_type": "execute_result"
    }
   ],
   "source": [
    "output_data"
   ]
  },
  {
   "cell_type": "code",
   "execution_count": null,
   "metadata": {},
   "outputs": [],
   "source": []
  }
 ],
 "metadata": {
  "kernelspec": {
   "display_name": "mf",
   "language": "python",
   "name": "mf"
  },
  "language_info": {
   "codemirror_mode": {
    "name": "ipython",
    "version": 3
   },
   "file_extension": ".py",
   "mimetype": "text/x-python",
   "name": "python",
   "nbconvert_exporter": "python",
   "pygments_lexer": "ipython3",
   "version": "3.9.12"
  }
 },
 "nbformat": 4,
 "nbformat_minor": 1
}
