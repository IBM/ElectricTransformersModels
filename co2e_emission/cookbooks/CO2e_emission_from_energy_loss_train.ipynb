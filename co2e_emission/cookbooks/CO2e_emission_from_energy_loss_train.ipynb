{
 "cells": [
  {
   "cell_type": "markdown",
   "metadata": {},
   "source": [
    "# CO2e Emission WML Train Recipe¶\n",
    "\n",
    "This notebook demonstrates the use of AI Model Factory recipes to deploy rule-based anomaly pipeline to WML\n"
   ]
  },
  {
   "cell_type": "markdown",
   "metadata": {
    "id": "3ce55bda8f964f319af8829ac6416122"
   },
   "source": [
    "# Import Libraries & Functions"
   ]
  },
  {
   "cell_type": "code",
   "execution_count": null,
   "metadata": {
    "id": "b410bf90f86343339c742a270b29d4fd"
   },
   "outputs": [],
   "source": [
    "import numpy as np\n",
    "import pandas as pd\n",
    "import matplotlib.pyplot as plt\n",
    "import time"
   ]
  },
  {
   "cell_type": "code",
   "execution_count": null,
   "metadata": {
    "id": "41527f379a4347418d365f6b4373004e",
    "tags": [
     "hide-input"
    ]
   },
   "outputs": [],
   "source": [
    "# Print functions\n",
    "def print_job_status(job_id, endpoint_url):\n",
    "    # Extract the job ID and construct the URL\n",
    "    url = endpoint_url + \"/summary/\" + job_id\n",
    "    \n",
    "    # Send a GET request to fetch the job status\n",
    "    get_response = requests.get(url, headers={})\n",
    "    status_data = get_response.json()\n",
    "    \n",
    "    # Print the job status\n",
    "    if \"status\" in status_data:\n",
    "        print(\"The status of job {} is {}.\".format(job_id, status_data['status']))\n",
    "    else:\n",
    "        print(status_data)\n",
    "    if status_data['status']:\n",
    "        return status_data['status']\n",
    "    else:\n",
    "        return \"initializing\"\n",
    "    \n",
    "def print_all_status(job_id, endpoint_url):\n",
    "    # Extract the job ID and construct the URL\n",
    "    url = endpoint_url + \"/summary/\" + job_id\n",
    "    \n",
    "    # Send a GET request to fetch the job status\n",
    "    get_response = requests.get(url, headers={})\n",
    "    status_data = get_response.json()\n",
    "    \n",
    "    # Print the job status\n",
    "    print(status_data)\n"
   ]
  },
  {
   "cell_type": "code",
   "execution_count": null,
   "metadata": {
    "id": "d359c6a3b0c04cbd86ba13e2b0ccbad9"
   },
   "outputs": [],
   "source": [
    "# More print functions using display \n",
    "from IPython.display import display, HTML\n",
    "import requests\n",
    "\n",
    "def print_job_details(job_id, endpoint_url):\n",
    "    # Extract the job ID and construct the URL\n",
    "    url = endpoint_url + \"/summary/\" + job_id\n",
    "    \n",
    "    # Send a GET request to fetch the job status\n",
    "    get_response = requests.get(url, headers={})\n",
    "    summary_data = get_response.json()\n",
    "    \n",
    "    # Display the job status\n",
    "    display(HTML(print_keys_and_values(summary_data)))\n",
    "    return summary_data\n",
    "\n",
    "    \n",
    "def print_keys_and_values(json_data):\n",
    "    # Start the HTML code\n",
    "    html_code = \"<div style='font-family: Arial; font-size: 1.2em;'>\"\n",
    "    \n",
    "    # Add the job details to the HTML code\n",
    "    html_code += f\"<p>job_id: {json_data['job_id']}</p>\"\n",
    "    if \"status\" in json_data:\n",
    "        html_code += f\"<p>status: {json_data['status']}</p>\"\n",
    "    html_code += \"<br>\"\n",
    "    if \"detailed_summary\" in json_data:\n",
    "        for summary in json_data['detailed_summary']:\n",
    "            html_code += f\"<p>run_id: {summary['run_id']}</p>\"\n",
    "            html_code += f\"<p>experiment_id: {summary['experiment_id']}</p>\"\n",
    "            if \"status\" in summary:\n",
    "                print('summary',summary)\n",
    "                html_code += f\"<p>status: {summary['status']}</p>\"\n",
    "            html_code += f\"<p>artifact_uri: {summary['artifact_uri']}</p>\"\n",
    "            html_code += f\"<p>artifact_name: {summary.get('tags.artifact_name', 'No artifact_name found')}</p>\"\n",
    "            html_code += \"<br>\"\n",
    "\n",
    "    # Close the HTML code\n",
    "    html_code += \"</div>\"\n",
    "    \n",
    "    return html_code\n"
   ]
  },
  {
   "cell_type": "markdown",
   "metadata": {
    "id": "eea4638e2f4341298f524e32a5933ece"
   },
   "source": [
    "# CO2 Deployment"
   ]
  },
  {
   "cell_type": "markdown",
   "metadata": {
    "id": "b8e26869dec246ae875d19f035b898a3"
   },
   "source": [
    "## Defining Paths"
   ]
  },
  {
   "cell_type": "code",
   "execution_count": null,
   "metadata": {
    "id": "bbfcfded66554860873936a932bd363c"
   },
   "outputs": [],
   "source": [
    "# Define the file paths\n",
    "# endpoint_url = \"https://tenant1.predict.masinst1.ibmmam.com/ibm/modelfactory/service\"\n",
    "endpoint_url = \"http://localhost:8000/ibm/modelfactory/service\"\n",
    "        \n",
    "data_file_path =  \"../data/training.csv\"\n",
    "co2_conversion_file_path = \"../data/co2e_conversion.csv\"\n",
    "config_file_path =  \"../config/parameter_config.yaml\"\n"
   ]
  },
  {
   "cell_type": "markdown",
   "metadata": {
    "id": "a97e1ea93e874ac08d9d2bb176feaa0d"
   },
   "source": [
    "## POST Response"
   ]
  },
  {
   "cell_type": "code",
   "execution_count": null,
   "metadata": {
    "id": "cf44ddd4-43ed-453c-bad9-33ecbffaa7ed"
   },
   "outputs": [],
   "source": [
    "import requests\n",
    "\n",
    "files = {\n",
    "    \"data_file\": (\"data/training.csv\", open(data_file_path, 'rb')),\n",
    "    \"co2_conversion_file\": (\"data/co2e_conversion.csv\", open(co2_conversion_file_path, 'rb')), \n",
    "    \"config_file\": (\"config/parameter_config.yaml\", open(config_file_path, 'rb')),\n",
    "   \n",
    "}\n",
    "\n",
    "#/ibm/modelfactory/service/recipe/electrical-transformer/kpi/emission/train\n",
    "#/ibm/modelfactory/service/recipe/electrical-transformer/kpi/emission\n",
    "url = endpoint_url + \"/recipe/electrical-transformer/kpi/emission\"\n",
    "post_response = requests.request(\"POST\", url, headers={}, data={}, files=files)"
   ]
  },
  {
   "cell_type": "code",
   "execution_count": null,
   "metadata": {},
   "outputs": [],
   "source": [
    "print(url)"
   ]
  },
  {
   "cell_type": "code",
   "execution_count": null,
   "metadata": {
    "id": "7b2be84a-f6b4-4b45-861e-d4f8541550cf"
   },
   "outputs": [],
   "source": [
    "post_r_json = post_response.json()\n",
    "\n",
    "anomaly_service_jobId = None\n",
    "\n",
    "if 'jobId' in post_r_json:\n",
    "    anomaly_service_jobId = post_r_json['jobId']\n",
    "    print ('submitted successfully job : ', post_r_json['jobId'])\n",
    "else:\n",
    "    print (post_r_json)\n"
   ]
  },
  {
   "cell_type": "markdown",
   "metadata": {
    "id": "5cbe57589c8d4db49bad58d0f3a99f43"
   },
   "source": [
    "## GET Response  - Keep Refresh it for a while until seeing the STATUS changed to DONE"
   ]
  },
  {
   "cell_type": "markdown",
   "metadata": {
    "id": "59d9803bc69b4fc986044a2a8bddbe65"
   },
   "source": [
    "The status of the job may be running, flagged by INITALIZING or EXECUTING\n",
    "\n",
    "After a while the model recipe training is complete, and the STATUS changes to DONE"
   ]
  },
  {
   "cell_type": "code",
   "execution_count": null,
   "metadata": {},
   "outputs": [],
   "source": [
    "log_url = endpoint_url + \"/log/\"\n",
    "job_id = post_r_json['job_id']"
   ]
  },
  {
   "cell_type": "code",
   "execution_count": null,
   "metadata": {},
   "outputs": [],
   "source": [
    "print(log_url + job_id)"
   ]
  },
  {
   "cell_type": "code",
   "execution_count": null,
   "metadata": {},
   "outputs": [],
   "source": [
    "json_data = print_job_details(job_id,endpoint_url)"
   ]
  },
  {
   "cell_type": "code",
   "execution_count": null,
   "metadata": {},
   "outputs": [],
   "source": [
    "json_data"
   ]
  },
  {
   "cell_type": "code",
   "execution_count": null,
   "metadata": {},
   "outputs": [],
   "source": [
    "# Check the log\n",
    "log_url = endpoint_url + \"/log/\"\n",
    "job_id = post_r_json['job_id']\n",
    "get_response = requests.get(log_url+job_id, headers={})\n",
    "log_data = get_response.json()\n",
    "print(log_data)"
   ]
  },
  {
   "cell_type": "markdown",
   "metadata": {},
   "source": [
    "### Saving details for deployment"
   ]
  },
  {
   "cell_type": "code",
   "execution_count": null,
   "metadata": {},
   "outputs": [],
   "source": [
    "json_data[\"detailed_summary\"]"
   ]
  },
  {
   "cell_type": "code",
   "execution_count": null,
   "metadata": {},
   "outputs": [],
   "source": [
    "import yaml\n",
    "if 'status' in json_data:\n",
    "    if json_data['status'] == 'DONE':\n",
    "        for summary in json_data[\"detailed_summary\"]:\n",
    "            if summary[\"params.output_artifact_name\"] != \"\":\n",
    "                s3_uri = summary[\"artifact_uri\"] + \"/\" + summary[\"params.output_artifact_name\"]\n",
    "            if summary['tags.artifact_name']!=\"\":\n",
    "                model_uri = \"runs:/\" + summary['run_id'] + \"/\" + summary['tags.artifact_name']\n",
    "        output_data = {\n",
    "            \"model_uri\" : model_uri,\n",
    "            \"train_job_id\" : job_id,\n",
    "            \"s3_uri\": s3_uri,\n",
    "        }\n",
    "        with open(\"../config/model_info.yml\",\"w\") as file:\n",
    "            yaml.dump(output_data, file)\n",
    "        output_data"
   ]
  },
  {
   "cell_type": "code",
   "execution_count": null,
   "metadata": {},
   "outputs": [],
   "source": [
    "output_data"
   ]
  },
  {
   "cell_type": "code",
   "execution_count": null,
   "metadata": {},
   "outputs": [],
   "source": []
  }
 ],
 "metadata": {
  "kernelspec": {
   "display_name": "mf",
   "language": "python",
   "name": "mf"
  },
  "language_info": {
   "codemirror_mode": {
    "name": "ipython",
    "version": 3
   },
   "file_extension": ".py",
   "mimetype": "text/x-python",
   "name": "python",
   "nbconvert_exporter": "python",
   "pygments_lexer": "ipython3",
   "version": "3.9.12"
  }
 },
 "nbformat": 4,
 "nbformat_minor": 1
}
