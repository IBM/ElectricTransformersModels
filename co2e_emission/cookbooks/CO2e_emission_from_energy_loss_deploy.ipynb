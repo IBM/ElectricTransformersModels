{
 "cells": [
  {
   "cell_type": "markdown",
   "metadata": {
    "collapsed": true,
    "id": "7833b763-af27-48ee-ae84-254f6055ebdd",
    "jupyter": {
     "outputs_hidden": true
    }
   },
   "source": [
    "# CO2e WML Deployment Recipe\n",
    "\n",
    "This notebook demonstrates the use of AI Model Factory recipes to deploy energy loss pipeline to WML"
   ]
  },
  {
   "cell_type": "markdown",
   "metadata": {
    "id": "d28b8309522643658c238a9cd5828175"
   },
   "source": [
    "## Import libraries"
   ]
  },
  {
   "cell_type": "code",
   "execution_count": 1,
   "metadata": {
    "id": "18207117e3a44e0983cd4dc1cde9143a"
   },
   "outputs": [],
   "source": [
    "import json\n",
    "import yaml\n",
    "import requests"
   ]
  },
  {
   "cell_type": "markdown",
   "metadata": {
    "id": "ee4cb92bab36420c83b6fcbb30ccf44c"
   },
   "source": [
    "## Set Variables\n",
    "\n",
    "model_uri - URI to fetch the model from \\\n",
    "deployment_name - name to set for the deployment"
   ]
  },
  {
   "cell_type": "code",
   "execution_count": 2,
   "metadata": {},
   "outputs": [
    {
     "name": "stdout",
     "output_type": "stream",
     "text": [
      "{'model_uri': 'runs:/0bf6e18c4069428bb395bb3e8eac2e54/energy_loss_to_CO2_epa', 's3_uri': 's3://testdataupload/9/d2dc1fcb1870406bb7f2d99e37fa823e/artifacts/energy_loss_to_CO2_epa', 'train_job_id': '43d1690c-a370-4ab3-8e97-8ae9fc4acbd5'}\n"
     ]
    }
   ],
   "source": [
    "model_factory_config_file_name = \"../config/model_info.yml\"\n",
    "\n",
    "\n",
    "with open(model_factory_config_file_name, 'r') as file:\n",
    "    model_factory_config = yaml.safe_load(file)\n",
    "\n",
    "print(model_factory_config)"
   ]
  },
  {
   "cell_type": "code",
   "execution_count": 4,
   "metadata": {
    "id": "e53d63c62331482184471d05f623b457"
   },
   "outputs": [],
   "source": [
    "model_uri = model_factory_config['s3_uri']\n",
    "deployment_name = \"CO2_model_112123_joe\""
   ]
  },
  {
   "cell_type": "code",
   "execution_count": 5,
   "metadata": {
    "id": "6d61996d90e84a1ea0b005b66a26ba2e"
   },
   "outputs": [],
   "source": [
    "endpoint_url = \"http://localhost:8000/ibm/modelfactory/service\""
   ]
  },
  {
   "cell_type": "code",
   "execution_count": 6,
   "metadata": {
    "id": "e7b9319a09494eab999f85e8aa50ba4a"
   },
   "outputs": [],
   "source": [
    "url = endpoint_url + \"/deployment/wml/create\""
   ]
  },
  {
   "cell_type": "markdown",
   "metadata": {
    "id": "03090a1f00034ddb8dc06bd1487d6f41"
   },
   "source": [
    "## Create a request to call WML deployment recipe"
   ]
  },
  {
   "cell_type": "code",
   "execution_count": 7,
   "metadata": {
    "id": "09a737f5762d4aba8c6efa6472887d95"
   },
   "outputs": [],
   "source": [
    "payload = {\n",
    "    'endpoint': 'electrical_transformer_deployments',\n",
    "    'deployment_name': deployment_name,\n",
    "    'model_uri': model_uri,\n",
    "    'flavor': 'sklearn',\n",
    "    'software_spec_name': 'modelfactory'\n",
    "}"
   ]
  },
  {
   "cell_type": "code",
   "execution_count": 8,
   "metadata": {
    "id": "14533cdc237a4b108d3491ad9c4d889e"
   },
   "outputs": [],
   "source": [
    "files={\n",
    "      \"wml_credentials_file\": ('wml-credentials.json',open('../../config/credentials/wml-credentials.json','rb'),'application/json')\n",
    "}"
   ]
  },
  {
   "cell_type": "code",
   "execution_count": 9,
   "metadata": {
    "id": "091fd47b465d48a08a39cf8a3e66a30a"
   },
   "outputs": [],
   "source": [
    "headers = {\n",
    "  'accept': 'application/json'\n",
    "}"
   ]
  },
  {
   "cell_type": "code",
   "execution_count": 10,
   "metadata": {
    "id": "9b577f31a38f48af968cae58119e43f0"
   },
   "outputs": [],
   "source": [
    "response = requests.request(\"POST\", url, headers=headers, data=payload, files=files)"
   ]
  },
  {
   "cell_type": "code",
   "execution_count": 11,
   "metadata": {
    "id": "233b91f743994a718b79d2ce679a83f1"
   },
   "outputs": [
    {
     "name": "stdout",
     "output_type": "stream",
     "text": [
      "{\"job_id\":\"1cc125d6-5318-4917-8e73-4693876dcf4d\",\"message\":\"WML deployment CO2_model_112123_joe submitted for creation\"}\n"
     ]
    }
   ],
   "source": [
    "print(response.text)"
   ]
  },
  {
   "cell_type": "markdown",
   "metadata": {
    "id": "ba96b5fb4bb9488d8e278c44ff87299d"
   },
   "source": [
    "## Check the status of the job"
   ]
  },
  {
   "cell_type": "code",
   "execution_count": 12,
   "metadata": {
    "id": "8fa7f458600044508926071df59ec268"
   },
   "outputs": [],
   "source": [
    "job_id = json.loads(response.text)[\"job_id\"]"
   ]
  },
  {
   "cell_type": "code",
   "execution_count": 13,
   "metadata": {
    "id": "a11c50476b544f7ca0acba72ff927116"
   },
   "outputs": [],
   "source": [
    "url = endpoint_url + \"/log\" + f\"/{job_id}\""
   ]
  },
  {
   "cell_type": "code",
   "execution_count": 14,
   "metadata": {
    "id": "ef2cc1d1ad02496aa0114b9a9047f1cc"
   },
   "outputs": [],
   "source": [
    "response = requests.request(\"GET\", url, headers=headers, data={}, files=[])"
   ]
  },
  {
   "cell_type": "code",
   "execution_count": 15,
   "metadata": {
    "id": "1969e8d4e5314aa08e74b3c029f980a6",
    "scrolled": false
   },
   "outputs": [
    {
     "name": "stdout",
     "output_type": "stream",
     "text": [
      "recipe_file_path /tmp/ray/session_2023-11-21_19-29-48_683486_1/runtime_resources/working_dir_files/_ray_pkg_2463abd887bfe395/Recipe.create\n",
      "entrypoint_path /tmp/ray/session_2023-11-21_19-29-48_683486_1/runtime_resources/working_dir_files/_ray_pkg_2463abd887bfe395/main.py\n",
      "2023-11-21 19:30:19,427\tINFO worker.py:1334 -- Using address 172.63.0.4:6379 set in the environment variable RAY_ADDRESS\n",
      "2023-11-21 19:30:19,427\tINFO worker.py:1452 -- Connecting to existing Ray cluster at address: 172.63.0.4:6379...\n",
      "2023-11-21 19:30:19,453\tINFO worker.py:1627 -- Connected to Ray cluster. View the dashboard at \u001b[1m\u001b[32m172.63.0.4:8265 \u001b[39m\u001b[22m\n",
      "\u001b[2m\u001b[36m(run_recipe_on_ray pid=83, ip=172.63.0.5)\u001b[0m 2023/11/21 19:30:20 INFO mlflow.tracking.fluent: Experiment with name '1cc125d6-5318-4917-8e73-4693876dcf4d' does not exist. Creating a new experiment.\n",
      "\u001b[2m\u001b[36m(run_recipe_on_ray pid=83, ip=172.63.0.5)\u001b[0m mlflow.experiment.name: 1cc125d6-5318-4917-8e73-4693876dcf4d\n",
      "\u001b[2m\u001b[36m(run_recipe_on_ray pid=83, ip=172.63.0.5)\u001b[0m mlflow.experiment.id: 25\n",
      "\u001b[2m\u001b[36m(run_recipe_on_ray pid=83, ip=172.63.0.5)\u001b[0m 2023/11/21 19:30:20 WARNING mlflow.utils.git_utils: Failed to import Git (the Git executable is probably not on your PATH), so Git SHA is not available. Error: Failed to initialize: Bad git executable.\n",
      "\u001b[2m\u001b[36m(run_recipe_on_ray pid=83, ip=172.63.0.5)\u001b[0m The git executable must be specified in one of the following ways:\n",
      "\u001b[2m\u001b[36m(run_recipe_on_ray pid=83, ip=172.63.0.5)\u001b[0m     - be included in your $PATH\n",
      "\u001b[2m\u001b[36m(run_recipe_on_ray pid=83, ip=172.63.0.5)\u001b[0m     - be set via $GIT_PYTHON_GIT_EXECUTABLE\n",
      "\u001b[2m\u001b[36m(run_recipe_on_ray pid=83, ip=172.63.0.5)\u001b[0m     - explicitly set via git.refresh()\n",
      "\u001b[2m\u001b[36m(run_recipe_on_ray pid=83, ip=172.63.0.5)\u001b[0m \n",
      "\u001b[2m\u001b[36m(run_recipe_on_ray pid=83, ip=172.63.0.5)\u001b[0m All git commands will error until this is rectified.\n",
      "\u001b[2m\u001b[36m(run_recipe_on_ray pid=83, ip=172.63.0.5)\u001b[0m \n",
      "\u001b[2m\u001b[36m(run_recipe_on_ray pid=83, ip=172.63.0.5)\u001b[0m This initial warning can be silenced or aggravated in the future by setting the\n",
      "\u001b[2m\u001b[36m(run_recipe_on_ray pid=83, ip=172.63.0.5)\u001b[0m $GIT_PYTHON_REFRESH environment variable. Use one of the following values:\n",
      "\u001b[2m\u001b[36m(run_recipe_on_ray pid=83, ip=172.63.0.5)\u001b[0m     - quiet|q|silence|s|none|n|0: for no warning or exception\n",
      "\u001b[2m\u001b[36m(run_recipe_on_ray pid=83, ip=172.63.0.5)\u001b[0m     - warn|w|warning|1: for a printed warning\n",
      "\u001b[2m\u001b[36m(run_recipe_on_ray pid=83, ip=172.63.0.5)\u001b[0m     - error|e|raise|r|2: for a raised exception\n",
      "\u001b[2m\u001b[36m(run_recipe_on_ray pid=83, ip=172.63.0.5)\u001b[0m \n",
      "\u001b[2m\u001b[36m(run_recipe_on_ray pid=83, ip=172.63.0.5)\u001b[0m Example:\n",
      "\u001b[2m\u001b[36m(run_recipe_on_ray pid=83, ip=172.63.0.5)\u001b[0m     export GIT_PYTHON_REFRESH=quiet\n",
      "\u001b[2m\u001b[36m(run_recipe_on_ray pid=83, ip=172.63.0.5)\u001b[0m \n",
      "\u001b[2m\u001b[36m(run_recipe_on_ray pid=83, ip=172.63.0.5)\u001b[0m Launching new run for entrypoint=wml_authentication and parameters={'wml_credentials_file_path': 's3://testdataupload/1cc125d6-5318-4917-8e73-4693876dcf4d_wml-credentials.json', 'endpoint': 'electrical_transformer_deployments'}\n",
      "\u001b[2m\u001b[36m(run_recipe_on_ray pid=83, ip=172.63.0.5)\u001b[0m No matching run has been found.\n",
      "\u001b[2m\u001b[36m(run_recipe_on_ray pid=83, ip=172.63.0.5)\u001b[0m 2023/11/21 19:30:20 WARNING mlflow.tracking._tracking_service.utils: Failed to import Git (the git executable is probably not on your PATH), so Git SHA is not available. Error: Failed to initialize: Bad git executable.\n",
      "\u001b[2m\u001b[36m(run_recipe_on_ray pid=83, ip=172.63.0.5)\u001b[0m The git executable must be specified in one of the following ways:\n",
      "\u001b[2m\u001b[36m(run_recipe_on_ray pid=83, ip=172.63.0.5)\u001b[0m     - be included in your $PATH\n",
      "\u001b[2m\u001b[36m(run_recipe_on_ray pid=83, ip=172.63.0.5)\u001b[0m     - be set via $GIT_PYTHON_GIT_EXECUTABLE\n",
      "\u001b[2m\u001b[36m(run_recipe_on_ray pid=83, ip=172.63.0.5)\u001b[0m     - explicitly set via git.refresh()\n",
      "\u001b[2m\u001b[36m(run_recipe_on_ray pid=83, ip=172.63.0.5)\u001b[0m \n",
      "\u001b[2m\u001b[36m(run_recipe_on_ray pid=83, ip=172.63.0.5)\u001b[0m All git commands will error until this is rectified.\n",
      "\u001b[2m\u001b[36m(run_recipe_on_ray pid=83, ip=172.63.0.5)\u001b[0m \n",
      "\u001b[2m\u001b[36m(run_recipe_on_ray pid=83, ip=172.63.0.5)\u001b[0m This initial warning can be silenced or aggravated in the future by setting the\n",
      "\u001b[2m\u001b[36m(run_recipe_on_ray pid=83, ip=172.63.0.5)\u001b[0m $GIT_PYTHON_REFRESH environment variable. Use one of the following values:\n",
      "\u001b[2m\u001b[36m(run_recipe_on_ray pid=83, ip=172.63.0.5)\u001b[0m     - quiet|q|silence|s|none|n|0: for no warning or exception\n",
      "\u001b[2m\u001b[36m(run_recipe_on_ray pid=83, ip=172.63.0.5)\u001b[0m     - warn|w|warning|1: for a printed warning\n",
      "\u001b[2m\u001b[36m(run_recipe_on_ray pid=83, ip=172.63.0.5)\u001b[0m     - error|e|raise|r|2: for a raised exception\n",
      "\u001b[2m\u001b[36m(run_recipe_on_ray pid=83, ip=172.63.0.5)\u001b[0m \n",
      "\u001b[2m\u001b[36m(run_recipe_on_ray pid=83, ip=172.63.0.5)\u001b[0m Example:\n",
      "\u001b[2m\u001b[36m(run_recipe_on_ray pid=83, ip=172.63.0.5)\u001b[0m     export GIT_PYTHON_REFRESH=quiet\n",
      "\u001b[2m\u001b[36m(run_recipe_on_ray pid=83, ip=172.63.0.5)\u001b[0m \n",
      "\u001b[2m\u001b[36m(run_recipe_on_ray pid=83, ip=172.63.0.5)\u001b[0m 2023/11/21 19:30:20 WARNING mlflow.utils.git_utils: Failed to import Git (the Git executable is probably not on your PATH), so Git SHA is not available. Error: Failed to initialize: Bad git executable.\n",
      "\u001b[2m\u001b[36m(run_recipe_on_ray pid=83, ip=172.63.0.5)\u001b[0m The git executable must be specified in one of the following ways:\n",
      "\u001b[2m\u001b[36m(run_recipe_on_ray pid=83, ip=172.63.0.5)\u001b[0m     - be included in your $PATH\n",
      "\u001b[2m\u001b[36m(run_recipe_on_ray pid=83, ip=172.63.0.5)\u001b[0m     - be set via $GIT_PYTHON_GIT_EXECUTABLE\n",
      "\u001b[2m\u001b[36m(run_recipe_on_ray pid=83, ip=172.63.0.5)\u001b[0m     - explicitly set via git.refresh()\n",
      "\u001b[2m\u001b[36m(run_recipe_on_ray pid=83, ip=172.63.0.5)\u001b[0m \n",
      "\u001b[2m\u001b[36m(run_recipe_on_ray pid=83, ip=172.63.0.5)\u001b[0m All git commands will error until this is rectified.\n",
      "\u001b[2m\u001b[36m(run_recipe_on_ray pid=83, ip=172.63.0.5)\u001b[0m \n",
      "\u001b[2m\u001b[36m(run_recipe_on_ray pid=83, ip=172.63.0.5)\u001b[0m This initial warning can be silenced or aggravated in the future by setting the\n",
      "\u001b[2m\u001b[36m(run_recipe_on_ray pid=83, ip=172.63.0.5)\u001b[0m $GIT_PYTHON_REFRESH environment variable. Use one of the following values:\n",
      "\u001b[2m\u001b[36m(run_recipe_on_ray pid=83, ip=172.63.0.5)\u001b[0m     - quiet|q|silence|s|none|n|0: for no warning or exception\n",
      "\u001b[2m\u001b[36m(run_recipe_on_ray pid=83, ip=172.63.0.5)\u001b[0m     - warn|w|warning|1: for a printed warning\n",
      "\u001b[2m\u001b[36m(run_recipe_on_ray pid=83, ip=172.63.0.5)\u001b[0m     - error|e|raise|r|2: for a raised exception\n",
      "\u001b[2m\u001b[36m(run_recipe_on_ray pid=83, ip=172.63.0.5)\u001b[0m \n",
      "\u001b[2m\u001b[36m(run_recipe_on_ray pid=83, ip=172.63.0.5)\u001b[0m Example:\n",
      "\u001b[2m\u001b[36m(run_recipe_on_ray pid=83, ip=172.63.0.5)\u001b[0m     export GIT_PYTHON_REFRESH=quiet\n",
      "\u001b[2m\u001b[36m(run_recipe_on_ray pid=83, ip=172.63.0.5)\u001b[0m \n",
      "\u001b[2m\u001b[36m(run_recipe_on_ray pid=83, ip=172.63.0.5)\u001b[0m 2023/11/21 19:30:20 WARNING mlflow.utils.git_utils: Failed to import Git (the Git executable is probably not on your PATH), so Git SHA is not available. Error: Failed to initialize: Bad git executable.\n",
      "\u001b[2m\u001b[36m(run_recipe_on_ray pid=83, ip=172.63.0.5)\u001b[0m The git executable must be specified in one of the following ways:\n",
      "\u001b[2m\u001b[36m(run_recipe_on_ray pid=83, ip=172.63.0.5)\u001b[0m     - be included in your $PATH\n",
      "\u001b[2m\u001b[36m(run_recipe_on_ray pid=83, ip=172.63.0.5)\u001b[0m     - be set via $GIT_PYTHON_GIT_EXECUTABLE\n",
      "\u001b[2m\u001b[36m(run_recipe_on_ray pid=83, ip=172.63.0.5)\u001b[0m     - explicitly set via git.refresh()\n",
      "\u001b[2m\u001b[36m(run_recipe_on_ray pid=83, ip=172.63.0.5)\u001b[0m \n",
      "\u001b[2m\u001b[36m(run_recipe_on_ray pid=83, ip=172.63.0.5)\u001b[0m All git commands will error until this is rectified.\n",
      "\u001b[2m\u001b[36m(run_recipe_on_ray pid=83, ip=172.63.0.5)\u001b[0m \n",
      "\u001b[2m\u001b[36m(run_recipe_on_ray pid=83, ip=172.63.0.5)\u001b[0m This initial warning can be silenced or aggravated in the future by setting the\n",
      "\u001b[2m\u001b[36m(run_recipe_on_ray pid=83, ip=172.63.0.5)\u001b[0m $GIT_PYTHON_REFRESH environment variable. Use one of the following values:\n",
      "\u001b[2m\u001b[36m(run_recipe_on_ray pid=83, ip=172.63.0.5)\u001b[0m     - quiet|q|silence|s|none|n|0: for no warning or exception\n",
      "\u001b[2m\u001b[36m(run_recipe_on_ray pid=83, ip=172.63.0.5)\u001b[0m     - warn|w|warning|1: for a printed warning\n",
      "\u001b[2m\u001b[36m(run_recipe_on_ray pid=83, ip=172.63.0.5)\u001b[0m     - error|e|raise|r|2: for a raised exception\n",
      "\u001b[2m\u001b[36m(run_recipe_on_ray pid=83, ip=172.63.0.5)\u001b[0m \n",
      "\u001b[2m\u001b[36m(run_recipe_on_ray pid=83, ip=172.63.0.5)\u001b[0m Example:\n",
      "\u001b[2m\u001b[36m(run_recipe_on_ray pid=83, ip=172.63.0.5)\u001b[0m     export GIT_PYTHON_REFRESH=quiet\n",
      "\u001b[2m\u001b[36m(run_recipe_on_ray pid=83, ip=172.63.0.5)\u001b[0m \n",
      "\u001b[2m\u001b[36m(run_recipe_on_ray pid=83, ip=172.63.0.5)\u001b[0m 2023/11/21 19:30:21 INFO mlflow.projects.utils: === Created directory /tmp/tmppk0myorr for downloading remote URIs passed to arguments of type 'path' ===\n",
      "\u001b[2m\u001b[36m(run_recipe_on_ray pid=83, ip=172.63.0.5)\u001b[0m 2023/11/21 19:30:21 INFO mlflow.projects.backend.local: === Running command 'python steps/authenticate.py --wml_credentials_file_path s3://testdataupload/1cc125d6-5318-4917-8e73-4693876dcf4d_wml-credentials.json --endpoint electrical_transformer_deployments' in run with ID '1e613aef99b64455956c845619b55273' === \n",
      "\n"
     ]
    }
   ],
   "source": [
    "print(json.loads(response.text)[\"logs\"])"
   ]
  },
  {
   "cell_type": "markdown",
   "metadata": {
    "id": "cf0c392fd72c49c880347373851deeb3"
   },
   "source": [
    "## Get the summary of the job"
   ]
  },
  {
   "cell_type": "code",
   "execution_count": 16,
   "metadata": {
    "id": "70eb24d8218d4ec8886f252fdb8a6b19"
   },
   "outputs": [],
   "source": [
    "url = endpoint_url + \"/summary\" + f\"/{job_id}\""
   ]
  },
  {
   "cell_type": "code",
   "execution_count": 17,
   "metadata": {
    "id": "2ed2c0191b5a444484d394bfe62edf22"
   },
   "outputs": [],
   "source": [
    "response = requests.request(\"GET\", url, headers=headers, data={}, files=[])"
   ]
  },
  {
   "cell_type": "code",
   "execution_count": 18,
   "metadata": {
    "id": "4ae29bfdf20f4d4f8d32779466be5f9e"
   },
   "outputs": [],
   "source": [
    "# More print functions using display \n",
    "from IPython.display import display, HTML\n",
    "import requests\n",
    "\n",
    "def print_job_details(job_id, endpoint_url):\n",
    "    # Extract the job ID and construct the URL\n",
    "    url = endpoint_url + \"/summary/\" + job_id\n",
    "    \n",
    "    # Send a GET request to fetch the job status\n",
    "    get_response = requests.get(url, headers={})\n",
    "    summary_data = get_response.json()\n",
    "    \n",
    "    # Display the job status\n",
    "    display(HTML(print_keys_and_values(summary_data)))\n",
    "\n",
    "    \n",
    "def print_keys_and_values(json_data):\n",
    "    # Start the HTML code\n",
    "    html_code = \"<div style='font-family: Arial; font-size: 1.2em;'>\"\n",
    "    \n",
    "    # Add the job details to the HTML code\n",
    "    html_code += f\"<p>job_id: {json_data['job_id']}</p>\"\n",
    "    if \"status\" in json_data:\n",
    "        html_code += f\"<p>status: {json_data['status']}</p>\"\n",
    "    html_code += \"<br>\"\n",
    "    if \"detailed_summary\" in json_data:\n",
    "        for summary in json_data['detailed_summary']:\n",
    "            html_code += f\"<p>run_id: {summary['run_id']}</p>\"\n",
    "            html_code += f\"<p>experiment_id: {summary['experiment_id']}</p>\"\n",
    "            if \"status\" in summary:\n",
    "                html_code += f\"<p>status: {summary['status']}</p>\"\n",
    "            html_code += f\"<p>artifact_uri: {summary['artifact_uri']}</p>\"\n",
    "            html_code += f\"<p>artifact_name: {summary.get('tags.artifact_name', 'No artifact_name found')}</p>\"\n",
    "            html_code += \"<br>\"\n",
    "    \n",
    "    # Close the HTML code\n",
    "    html_code += \"</div>\"\n",
    "    \n",
    "    return html_code"
   ]
  },
  {
   "cell_type": "code",
   "execution_count": 29,
   "metadata": {
    "id": "f1ab7d51fce04eb48d0a806880531929"
   },
   "outputs": [
    {
     "data": {
      "text/html": [
       "<div style='font-family: Arial; font-size: 1.2em;'><p>job_id: 1cc125d6-5318-4917-8e73-4693876dcf4d</p><p>status: DONE</p><br><p>run_id: c8e58cc5a1fa48b4be2a98b10e467f71</p><p>experiment_id: 25</p><p>status: FINISHED</p><p>artifact_uri: s3://testdataupload/25/c8e58cc5a1fa48b4be2a98b10e467f71/artifacts</p><p>artifact_name: No artifact_name found</p><br><p>run_id: e48aab282a1847c7953d2bfbfcba8bc5</p><p>experiment_id: 25</p><p>status: FINISHED</p><p>artifact_uri: s3://testdataupload/25/e48aab282a1847c7953d2bfbfcba8bc5/artifacts</p><p>artifact_name: No artifact_name found</p><br><p>run_id: 1e613aef99b64455956c845619b55273</p><p>experiment_id: 25</p><p>status: FINISHED</p><p>artifact_uri: s3://testdataupload/25/1e613aef99b64455956c845619b55273/artifacts</p><p>artifact_name: No artifact_name found</p><br><p>run_id: 9cc704579c98409b9d097c70eed70cc8</p><p>experiment_id: 25</p><p>status: FINISHED</p><p>artifact_uri: s3://testdataupload/25/9cc704579c98409b9d097c70eed70cc8/artifacts</p><p>artifact_name: No artifact_name found</p><br></div>"
      ],
      "text/plain": [
       "<IPython.core.display.HTML object>"
      ]
     },
     "metadata": {},
     "output_type": "display_data"
    }
   ],
   "source": [
    "print_job_details(job_id, endpoint_url)"
   ]
  },
  {
   "cell_type": "markdown",
   "metadata": {},
   "source": [
    "### Check the summary"
   ]
  },
  {
   "cell_type": "code",
   "execution_count": 30,
   "metadata": {},
   "outputs": [
    {
     "name": "stdout",
     "output_type": "stream",
     "text": [
      "{'job_id': '1cc125d6-5318-4917-8e73-4693876dcf4d', 'status': 'DONE', 'summary': {'deployment_details': {'entity': {'asset': {'id': 'a79fb3c0-ea9a-407f-a866-f0ac9a6ddb2c', 'rev': '1'}, 'custom': {'AWS_ACCESS_KEY_ID': 'e6d28d7de535464da066c608726b4ee3', 'AWS_SECRET_ACCESS_KEY': '2fc6029cc5d799b6c572c0e730d6bc912c047cb1dddce409', 'MLFLOW_S3_ENDPOINT_URL': 'https://s3.us-south.cloud-object-storage.appdomain.cloud', 'MLFLOW_TRACKING_URI': 'http://mlflow:5000'}, 'deployed_asset_type': 'model', 'hardware_spec': {'id': 'b128f957-581d-46d0-95b6-8af5cd5be580', 'name': 'XXS', 'num_nodes': 1}, 'name': 'CO2_model_112123_joe', 'online': {}, 'space_id': 'a0521ce5-5547-41e2-8495-66012d7e8780', 'status': {'online_url': {'url': 'https://cpd-ibm-cpd.modelfactory-9ca4d14d48413d18ce61b80811ba4308-0000.us-south.containers.appdomain.cloud/ml/v4/deployments/339692d8-b809-4e30-b154-c3613ecf9d60/predictions'}, 'serving_urls': ['https://cpd-ibm-cpd.modelfactory-9ca4d14d48413d18ce61b80811ba4308-0000.us-south.containers.appdomain.cloud/ml/v4/deployments/339692d8-b809-4e30-b154-c3613ecf9d60/predictions'], 'state': 'ready'}}, 'metadata': {'created_at': '2023-11-21T19:31:03.241Z', 'id': '339692d8-b809-4e30-b154-c3613ecf9d60', 'modified_at': '2023-11-21T19:31:03.241Z', 'name': 'CO2_model_112123_joe', 'owner': '1000331002', 'space_id': 'a0521ce5-5547-41e2-8495-66012d7e8780'}, 'system': {'warnings': [{'id': 'Deprecated', 'message': 'online_url is deprecated and will be removed in a future release. Use serving_urls instead.'}]}, 'name': 'CO2_model_112123_joe'}}, 'detailed_summary': [{'run_id': 'c8e58cc5a1fa48b4be2a98b10e467f71', 'experiment_id': '25', 'status': 'FINISHED', 'artifact_uri': 's3://testdataupload/25/c8e58cc5a1fa48b4be2a98b10e467f71/artifacts', 'start_time': '2023-11-21T19:30:37.268000+00:00', 'end_time': '2023-11-21T19:35:31.213000+00:00', 'params.software_spec_name': 'modelfactory', 'params.model_uri': 's3://testdataupload/9/d2dc1fcb1870406bb7f2d99e37fa823e/artifacts/energy_loss_to_CO2_epa', 'params.flavor': 'sklearn', 'params.endpoint': 'electrical_transformer_deployments', 'params.deployment_name': 'CO2_model_112123_joe', 'params.wml_credentials': '\\'{\"username\": \"modelfactory\", \"apikey\": \"AfoFUqMdeTrdCpKgOFNFLeXITQMrtsdVi9A17Ga2\", \"url\": \"https://cpd-ibm-cpd.modelfactory-9ca4d14d48413d18ce61b80811ba4308-0000.us-south.containers.appdomain.cloud/\", \"instance_id\": \"openshift\", \"version\": \"4.0\"}\\'', 'params.conda_yaml': '', 'params.rewrite': '', 'params.pkg_path': '', 'params.wml_credentials_file_path': '', 'tags.mlflow.project.entryPoint': 'model_deployment', 'tags.mlflow.parentRunId': '9cc704579c98409b9d097c70eed70cc8', 'tags.summary': 'true', 'tags.mlflow.user': 'root', 'tags.mlflow.project.backend': 'local', 'tags.mlflow.source.name': '/tmp/ray/session_2023-11-21_19-29-48_683486_1/runtime_resources/working_dir_files/_ray_pkg_2463abd887bfe395', 'tags.mlflow.source.type': 'PROJECT', 'tags.mlflow.runName': 'sincere-cow-535', 'tags.recipe': ''}, {'run_id': 'e48aab282a1847c7953d2bfbfcba8bc5', 'experiment_id': '25', 'status': 'FINISHED', 'artifact_uri': 's3://testdataupload/25/e48aab282a1847c7953d2bfbfcba8bc5/artifacts', 'start_time': '2023-11-21T19:30:27.318000+00:00', 'end_time': '2023-11-21T19:30:36.712000+00:00', 'params.software_spec_name': 'modelfactory', 'params.model_uri': '', 'params.flavor': '', 'params.endpoint': 'electrical_transformer_deployments', 'params.deployment_name': '', 'params.wml_credentials': '\\'{\"username\": \"modelfactory\", \"apikey\": \"AfoFUqMdeTrdCpKgOFNFLeXITQMrtsdVi9A17Ga2\", \"url\": \"https://cpd-ibm-cpd.modelfactory-9ca4d14d48413d18ce61b80811ba4308-0000.us-south.containers.appdomain.cloud/\", \"instance_id\": \"openshift\", \"version\": \"4.0\"}\\'', 'params.conda_yaml': 'None', 'params.rewrite': 'False', 'params.pkg_path': 'None', 'params.wml_credentials_file_path': '', 'tags.mlflow.project.entryPoint': 'software_specification', 'tags.mlflow.parentRunId': '9cc704579c98409b9d097c70eed70cc8', 'tags.summary': '', 'tags.mlflow.user': 'root', 'tags.mlflow.project.backend': 'local', 'tags.mlflow.source.name': '/tmp/ray/session_2023-11-21_19-29-48_683486_1/runtime_resources/working_dir_files/_ray_pkg_2463abd887bfe395', 'tags.mlflow.source.type': 'PROJECT', 'tags.mlflow.runName': 'peaceful-dolphin-792', 'tags.recipe': ''}, {'run_id': '1e613aef99b64455956c845619b55273', 'experiment_id': '25', 'status': 'FINISHED', 'artifact_uri': 's3://testdataupload/25/1e613aef99b64455956c845619b55273/artifacts', 'start_time': '2023-11-21T19:30:20.783000+00:00', 'end_time': '2023-11-21T19:30:25.654000+00:00', 'params.software_spec_name': '', 'params.model_uri': '', 'params.flavor': '', 'params.endpoint': 'electrical_transformer_deployments', 'params.deployment_name': '', 'params.wml_credentials': '', 'params.conda_yaml': '', 'params.rewrite': '', 'params.pkg_path': '', 'params.wml_credentials_file_path': 's3://testdataupload/1cc125d6-5318-4917-8e73-4693876dcf4d_wml-credentials.json', 'tags.mlflow.project.entryPoint': 'wml_authentication', 'tags.mlflow.parentRunId': '9cc704579c98409b9d097c70eed70cc8', 'tags.summary': '', 'tags.mlflow.user': 'root', 'tags.mlflow.project.backend': 'local', 'tags.mlflow.source.name': '/tmp/ray/session_2023-11-21_19-29-48_683486_1/runtime_resources/working_dir_files/_ray_pkg_2463abd887bfe395', 'tags.mlflow.source.type': 'PROJECT', 'tags.mlflow.runName': 'enthused-cat-538', 'tags.recipe': ''}, {'run_id': '9cc704579c98409b9d097c70eed70cc8', 'experiment_id': '25', 'status': 'FINISHED', 'artifact_uri': 's3://testdataupload/25/9cc704579c98409b9d097c70eed70cc8/artifacts', 'start_time': '2023-11-21T19:30:20.695000+00:00', 'end_time': '2023-11-21T19:35:31.236000+00:00', 'params.software_spec_name': '', 'params.model_uri': '', 'params.flavor': '', 'params.endpoint': '', 'params.deployment_name': '', 'params.wml_credentials': '', 'params.conda_yaml': '', 'params.rewrite': '', 'params.pkg_path': '', 'params.wml_credentials_file_path': '', 'tags.mlflow.project.entryPoint': '', 'tags.mlflow.parentRunId': '', 'tags.summary': '', 'tags.mlflow.user': 'root', 'tags.mlflow.project.backend': '', 'tags.mlflow.source.name': '/usr/local/lib/python3.9/site-packages/ray/_private/workers/default_worker.py', 'tags.mlflow.source.type': 'LOCAL', 'tags.mlflow.runName': 'luxuriant-pig-783', 'tags.recipe': 'wml_deployment'}]}\n"
     ]
    }
   ],
   "source": [
    "summary_url = endpoint_url + \"/summary/\"\n",
    "get_response = requests.get(summary_url+job_id, headers={})\n",
    "summary_data = get_response.json()\n",
    "print(summary_data)"
   ]
  },
  {
   "cell_type": "code",
   "execution_count": 31,
   "metadata": {},
   "outputs": [
    {
     "data": {
      "text/plain": [
       "{'job_id': '1cc125d6-5318-4917-8e73-4693876dcf4d',\n",
       " 'status': 'DONE',\n",
       " 'summary': {'deployment_details': {'entity': {'asset': {'id': 'a79fb3c0-ea9a-407f-a866-f0ac9a6ddb2c',\n",
       "     'rev': '1'},\n",
       "    'custom': {'AWS_ACCESS_KEY_ID': 'e6d28d7de535464da066c608726b4ee3',\n",
       "     'AWS_SECRET_ACCESS_KEY': '2fc6029cc5d799b6c572c0e730d6bc912c047cb1dddce409',\n",
       "     'MLFLOW_S3_ENDPOINT_URL': 'https://s3.us-south.cloud-object-storage.appdomain.cloud',\n",
       "     'MLFLOW_TRACKING_URI': 'http://mlflow:5000'},\n",
       "    'deployed_asset_type': 'model',\n",
       "    'hardware_spec': {'id': 'b128f957-581d-46d0-95b6-8af5cd5be580',\n",
       "     'name': 'XXS',\n",
       "     'num_nodes': 1},\n",
       "    'name': 'CO2_model_112123_joe',\n",
       "    'online': {},\n",
       "    'space_id': 'a0521ce5-5547-41e2-8495-66012d7e8780',\n",
       "    'status': {'online_url': {'url': 'https://cpd-ibm-cpd.modelfactory-9ca4d14d48413d18ce61b80811ba4308-0000.us-south.containers.appdomain.cloud/ml/v4/deployments/339692d8-b809-4e30-b154-c3613ecf9d60/predictions'},\n",
       "     'serving_urls': ['https://cpd-ibm-cpd.modelfactory-9ca4d14d48413d18ce61b80811ba4308-0000.us-south.containers.appdomain.cloud/ml/v4/deployments/339692d8-b809-4e30-b154-c3613ecf9d60/predictions'],\n",
       "     'state': 'ready'}},\n",
       "   'metadata': {'created_at': '2023-11-21T19:31:03.241Z',\n",
       "    'id': '339692d8-b809-4e30-b154-c3613ecf9d60',\n",
       "    'modified_at': '2023-11-21T19:31:03.241Z',\n",
       "    'name': 'CO2_model_112123_joe',\n",
       "    'owner': '1000331002',\n",
       "    'space_id': 'a0521ce5-5547-41e2-8495-66012d7e8780'},\n",
       "   'system': {'warnings': [{'id': 'Deprecated',\n",
       "      'message': 'online_url is deprecated and will be removed in a future release. Use serving_urls instead.'}]},\n",
       "   'name': 'CO2_model_112123_joe'}},\n",
       " 'detailed_summary': [{'run_id': 'c8e58cc5a1fa48b4be2a98b10e467f71',\n",
       "   'experiment_id': '25',\n",
       "   'status': 'FINISHED',\n",
       "   'artifact_uri': 's3://testdataupload/25/c8e58cc5a1fa48b4be2a98b10e467f71/artifacts',\n",
       "   'start_time': '2023-11-21T19:30:37.268000+00:00',\n",
       "   'end_time': '2023-11-21T19:35:31.213000+00:00',\n",
       "   'params.software_spec_name': 'modelfactory',\n",
       "   'params.model_uri': 's3://testdataupload/9/d2dc1fcb1870406bb7f2d99e37fa823e/artifacts/energy_loss_to_CO2_epa',\n",
       "   'params.flavor': 'sklearn',\n",
       "   'params.endpoint': 'electrical_transformer_deployments',\n",
       "   'params.deployment_name': 'CO2_model_112123_joe',\n",
       "   'params.wml_credentials': '\\'{\"username\": \"modelfactory\", \"apikey\": \"AfoFUqMdeTrdCpKgOFNFLeXITQMrtsdVi9A17Ga2\", \"url\": \"https://cpd-ibm-cpd.modelfactory-9ca4d14d48413d18ce61b80811ba4308-0000.us-south.containers.appdomain.cloud/\", \"instance_id\": \"openshift\", \"version\": \"4.0\"}\\'',\n",
       "   'params.conda_yaml': '',\n",
       "   'params.rewrite': '',\n",
       "   'params.pkg_path': '',\n",
       "   'params.wml_credentials_file_path': '',\n",
       "   'tags.mlflow.project.entryPoint': 'model_deployment',\n",
       "   'tags.mlflow.parentRunId': '9cc704579c98409b9d097c70eed70cc8',\n",
       "   'tags.summary': 'true',\n",
       "   'tags.mlflow.user': 'root',\n",
       "   'tags.mlflow.project.backend': 'local',\n",
       "   'tags.mlflow.source.name': '/tmp/ray/session_2023-11-21_19-29-48_683486_1/runtime_resources/working_dir_files/_ray_pkg_2463abd887bfe395',\n",
       "   'tags.mlflow.source.type': 'PROJECT',\n",
       "   'tags.mlflow.runName': 'sincere-cow-535',\n",
       "   'tags.recipe': ''},\n",
       "  {'run_id': 'e48aab282a1847c7953d2bfbfcba8bc5',\n",
       "   'experiment_id': '25',\n",
       "   'status': 'FINISHED',\n",
       "   'artifact_uri': 's3://testdataupload/25/e48aab282a1847c7953d2bfbfcba8bc5/artifacts',\n",
       "   'start_time': '2023-11-21T19:30:27.318000+00:00',\n",
       "   'end_time': '2023-11-21T19:30:36.712000+00:00',\n",
       "   'params.software_spec_name': 'modelfactory',\n",
       "   'params.model_uri': '',\n",
       "   'params.flavor': '',\n",
       "   'params.endpoint': 'electrical_transformer_deployments',\n",
       "   'params.deployment_name': '',\n",
       "   'params.wml_credentials': '\\'{\"username\": \"modelfactory\", \"apikey\": \"AfoFUqMdeTrdCpKgOFNFLeXITQMrtsdVi9A17Ga2\", \"url\": \"https://cpd-ibm-cpd.modelfactory-9ca4d14d48413d18ce61b80811ba4308-0000.us-south.containers.appdomain.cloud/\", \"instance_id\": \"openshift\", \"version\": \"4.0\"}\\'',\n",
       "   'params.conda_yaml': 'None',\n",
       "   'params.rewrite': 'False',\n",
       "   'params.pkg_path': 'None',\n",
       "   'params.wml_credentials_file_path': '',\n",
       "   'tags.mlflow.project.entryPoint': 'software_specification',\n",
       "   'tags.mlflow.parentRunId': '9cc704579c98409b9d097c70eed70cc8',\n",
       "   'tags.summary': '',\n",
       "   'tags.mlflow.user': 'root',\n",
       "   'tags.mlflow.project.backend': 'local',\n",
       "   'tags.mlflow.source.name': '/tmp/ray/session_2023-11-21_19-29-48_683486_1/runtime_resources/working_dir_files/_ray_pkg_2463abd887bfe395',\n",
       "   'tags.mlflow.source.type': 'PROJECT',\n",
       "   'tags.mlflow.runName': 'peaceful-dolphin-792',\n",
       "   'tags.recipe': ''},\n",
       "  {'run_id': '1e613aef99b64455956c845619b55273',\n",
       "   'experiment_id': '25',\n",
       "   'status': 'FINISHED',\n",
       "   'artifact_uri': 's3://testdataupload/25/1e613aef99b64455956c845619b55273/artifacts',\n",
       "   'start_time': '2023-11-21T19:30:20.783000+00:00',\n",
       "   'end_time': '2023-11-21T19:30:25.654000+00:00',\n",
       "   'params.software_spec_name': '',\n",
       "   'params.model_uri': '',\n",
       "   'params.flavor': '',\n",
       "   'params.endpoint': 'electrical_transformer_deployments',\n",
       "   'params.deployment_name': '',\n",
       "   'params.wml_credentials': '',\n",
       "   'params.conda_yaml': '',\n",
       "   'params.rewrite': '',\n",
       "   'params.pkg_path': '',\n",
       "   'params.wml_credentials_file_path': 's3://testdataupload/1cc125d6-5318-4917-8e73-4693876dcf4d_wml-credentials.json',\n",
       "   'tags.mlflow.project.entryPoint': 'wml_authentication',\n",
       "   'tags.mlflow.parentRunId': '9cc704579c98409b9d097c70eed70cc8',\n",
       "   'tags.summary': '',\n",
       "   'tags.mlflow.user': 'root',\n",
       "   'tags.mlflow.project.backend': 'local',\n",
       "   'tags.mlflow.source.name': '/tmp/ray/session_2023-11-21_19-29-48_683486_1/runtime_resources/working_dir_files/_ray_pkg_2463abd887bfe395',\n",
       "   'tags.mlflow.source.type': 'PROJECT',\n",
       "   'tags.mlflow.runName': 'enthused-cat-538',\n",
       "   'tags.recipe': ''},\n",
       "  {'run_id': '9cc704579c98409b9d097c70eed70cc8',\n",
       "   'experiment_id': '25',\n",
       "   'status': 'FINISHED',\n",
       "   'artifact_uri': 's3://testdataupload/25/9cc704579c98409b9d097c70eed70cc8/artifacts',\n",
       "   'start_time': '2023-11-21T19:30:20.695000+00:00',\n",
       "   'end_time': '2023-11-21T19:35:31.236000+00:00',\n",
       "   'params.software_spec_name': '',\n",
       "   'params.model_uri': '',\n",
       "   'params.flavor': '',\n",
       "   'params.endpoint': '',\n",
       "   'params.deployment_name': '',\n",
       "   'params.wml_credentials': '',\n",
       "   'params.conda_yaml': '',\n",
       "   'params.rewrite': '',\n",
       "   'params.pkg_path': '',\n",
       "   'params.wml_credentials_file_path': '',\n",
       "   'tags.mlflow.project.entryPoint': '',\n",
       "   'tags.mlflow.parentRunId': '',\n",
       "   'tags.summary': '',\n",
       "   'tags.mlflow.user': 'root',\n",
       "   'tags.mlflow.project.backend': '',\n",
       "   'tags.mlflow.source.name': '/usr/local/lib/python3.9/site-packages/ray/_private/workers/default_worker.py',\n",
       "   'tags.mlflow.source.type': 'LOCAL',\n",
       "   'tags.mlflow.runName': 'luxuriant-pig-783',\n",
       "   'tags.recipe': 'wml_deployment'}]}"
      ]
     },
     "execution_count": 31,
     "metadata": {},
     "output_type": "execute_result"
    }
   ],
   "source": [
    "summary_data"
   ]
  },
  {
   "cell_type": "code",
   "execution_count": 32,
   "metadata": {},
   "outputs": [],
   "source": [
    "deployment_endpoint = summary_data['summary']['deployment_details']['entity']['status']"
   ]
  },
  {
   "cell_type": "code",
   "execution_count": 33,
   "metadata": {},
   "outputs": [],
   "source": [
    "from datetime import datetime\n",
    "\n",
    "deployment_endpoint['cp4d_url'] = deployment_endpoint['serving_urls'][0]\n",
    "# Get the current date\n",
    "current_date = datetime.now()\n",
    "\n",
    "# Format the date and create the string\n",
    "version_string = f\"?version={current_date.strftime('%Y-%m-%d')}\"\n",
    "deployment_endpoint['cp4d_url'] = deployment_endpoint['cp4d_url'] + version_string"
   ]
  },
  {
   "cell_type": "code",
   "execution_count": 34,
   "metadata": {},
   "outputs": [
    {
     "data": {
      "text/plain": [
       "{'online_url': {'url': 'https://cpd-ibm-cpd.modelfactory-9ca4d14d48413d18ce61b80811ba4308-0000.us-south.containers.appdomain.cloud/ml/v4/deployments/339692d8-b809-4e30-b154-c3613ecf9d60/predictions'},\n",
       " 'serving_urls': ['https://cpd-ibm-cpd.modelfactory-9ca4d14d48413d18ce61b80811ba4308-0000.us-south.containers.appdomain.cloud/ml/v4/deployments/339692d8-b809-4e30-b154-c3613ecf9d60/predictions'],\n",
       " 'state': 'ready',\n",
       " 'cp4d_url': 'https://cpd-ibm-cpd.modelfactory-9ca4d14d48413d18ce61b80811ba4308-0000.us-south.containers.appdomain.cloud/ml/v4/deployments/339692d8-b809-4e30-b154-c3613ecf9d60/predictions?version=2023-11-21'}"
      ]
     },
     "execution_count": 34,
     "metadata": {},
     "output_type": "execute_result"
    }
   ],
   "source": [
    "deployment_endpoint"
   ]
  },
  {
   "cell_type": "code",
   "execution_count": 35,
   "metadata": {},
   "outputs": [],
   "source": [
    "with open(\"../config/deployment_info.yml\",\"w\") as file:\n",
    "    yaml.dump(deployment_endpoint, file)"
   ]
  },
  {
   "cell_type": "code",
   "execution_count": null,
   "metadata": {},
   "outputs": [],
   "source": []
  }
 ],
 "metadata": {
  "kernelspec": {
   "display_name": "Python 3 (ipykernel)",
   "language": "python",
   "name": "python3"
  },
  "language_info": {
   "codemirror_mode": {
    "name": "ipython",
    "version": 3
   },
   "file_extension": ".py",
   "mimetype": "text/x-python",
   "name": "python",
   "nbconvert_exporter": "python",
   "pygments_lexer": "ipython3",
   "version": "3.10.9"
  }
 },
 "nbformat": 4,
 "nbformat_minor": 4
}
