{
 "cells": [
  {
   "cell_type": "markdown",
   "metadata": {
    "collapsed": true,
    "id": "7833b763-af27-48ee-ae84-254f6055ebdd"
   },
   "source": [
    "# Energy Loss WML Deployment Recipe\n",
    "\n",
    "This notebook demonstrates the use of AI Model Factory recipes to deploy energy loss pipeline to WML"
   ]
  },
  {
   "cell_type": "markdown",
   "metadata": {
    "id": "d28b8309522643658c238a9cd5828175"
   },
   "source": [
    "## Import libraries"
   ]
  },
  {
   "cell_type": "code",
   "execution_count": 1,
   "metadata": {
    "id": "18207117e3a44e0983cd4dc1cde9143a"
   },
   "outputs": [],
   "source": [
    "import json\n",
    "import requests\n",
    "import yaml"
   ]
  },
  {
   "cell_type": "markdown",
   "metadata": {
    "id": "ee4cb92bab36420c83b6fcbb30ccf44c"
   },
   "source": [
    "## Set Variables\n",
    "\n",
    "model_uri - URI to fetch the model from \\\n",
    "deployment_name - name to set for the deployment"
   ]
  },
  {
   "cell_type": "code",
   "execution_count": 2,
   "metadata": {},
   "outputs": [],
   "source": [
    "deployment_name = \"energyloss_111523_v2_three_kpis_loss_rate_joe\""
   ]
  },
  {
   "cell_type": "code",
   "execution_count": 3,
   "metadata": {
    "id": "e53d63c62331482184471d05f623b457"
   },
   "outputs": [
    {
     "name": "stdout",
     "output_type": "stream",
     "text": [
      "{'model_uri': 'runs:/794a004e0fae4a28a80fe456ed08ae3d/energyloss', 's3_uri': 's3://testdataupload/2/d443512c9ba54cc5993beb2a56ba5480/artifacts/energyloss', 'train_job_id': 'e7f53652-ae73-413f-8d3d-67af26eea92b'}\n"
     ]
    }
   ],
   "source": [
    "model_factory_config_file_name = \"../config/model_info_three_kpis_loss_rate.yml\"\n",
    "\n",
    "\n",
    "with open(model_factory_config_file_name, 'r') as file:\n",
    "    model_factory_config = yaml.safe_load(file)\n",
    "\n",
    "print(model_factory_config)"
   ]
  },
  {
   "cell_type": "code",
   "execution_count": 4,
   "metadata": {},
   "outputs": [],
   "source": [
    "model_uri = model_factory_config['s3_uri']"
   ]
  },
  {
   "cell_type": "code",
   "execution_count": 5,
   "metadata": {},
   "outputs": [
    {
     "name": "stdout",
     "output_type": "stream",
     "text": [
      "s3://testdataupload/2/d443512c9ba54cc5993beb2a56ba5480/artifacts/energyloss\n"
     ]
    }
   ],
   "source": [
    "print(model_uri)"
   ]
  },
  {
   "cell_type": "code",
   "execution_count": 6,
   "metadata": {
    "id": "6d61996d90e84a1ea0b005b66a26ba2e"
   },
   "outputs": [],
   "source": [
    "endpoint_url = \"http://localhost:8000/ibm/modelfactory/service\"\n",
    "credentials_path = \"../../config/credentials/wml-credentials.json\""
   ]
  },
  {
   "cell_type": "code",
   "execution_count": 7,
   "metadata": {
    "id": "e7b9319a09494eab999f85e8aa50ba4a"
   },
   "outputs": [],
   "source": [
    "url = endpoint_url + \"/deployment/wml/create\""
   ]
  },
  {
   "cell_type": "markdown",
   "metadata": {
    "id": "03090a1f00034ddb8dc06bd1487d6f41"
   },
   "source": [
    "## Create a request to call WML deployment recipe"
   ]
  },
  {
   "cell_type": "code",
   "execution_count": 8,
   "metadata": {
    "id": "09a737f5762d4aba8c6efa6472887d95"
   },
   "outputs": [],
   "source": [
    "payload = {\n",
    "    'endpoint': 'electrical_transformer_deployments',\n",
    "    'deployment_name': deployment_name,\n",
    "    'model_uri': model_uri,\n",
    "    'flavor': 'sklearn',\n",
    "    'software_spec_name': 'modelfactory',\n",
    "    \n",
    "}"
   ]
  },
  {
   "cell_type": "code",
   "execution_count": 9,
   "metadata": {
    "id": "14533cdc237a4b108d3491ad9c4d889e"
   },
   "outputs": [],
   "source": [
    "files={\n",
    "      \"wml_credentials_file\": ('wml-credentials.json',open(credentials_path,'rb'),'application/json')\n",
    "}"
   ]
  },
  {
   "cell_type": "code",
   "execution_count": 10,
   "metadata": {
    "id": "091fd47b465d48a08a39cf8a3e66a30a"
   },
   "outputs": [],
   "source": [
    "headers = {\n",
    "  'accept': 'application/json'\n",
    "}"
   ]
  },
  {
   "cell_type": "code",
   "execution_count": 11,
   "metadata": {
    "id": "9b577f31a38f48af968cae58119e43f0"
   },
   "outputs": [],
   "source": [
    "response = requests.request(\"POST\", url, headers=headers, data=payload, files=files)"
   ]
  },
  {
   "cell_type": "code",
   "execution_count": 12,
   "metadata": {
    "id": "233b91f743994a718b79d2ce679a83f1"
   },
   "outputs": [
    {
     "name": "stdout",
     "output_type": "stream",
     "text": [
      "{\"job_id\":\"3e527848-209b-4f39-b812-7a4d8f04db99\",\"message\":\"WML deployment energyloss_111523_v2_three_kpis_loss_rate_joe submitted for creation\"}\n"
     ]
    }
   ],
   "source": [
    "print(response.text)"
   ]
  },
  {
   "cell_type": "markdown",
   "metadata": {
    "id": "ba96b5fb4bb9488d8e278c44ff87299d"
   },
   "source": [
    "## Check the status of the job"
   ]
  },
  {
   "cell_type": "code",
   "execution_count": 13,
   "metadata": {
    "id": "8fa7f458600044508926071df59ec268"
   },
   "outputs": [],
   "source": [
    "job_id = json.loads(response.text)[\"job_id\"]"
   ]
  },
  {
   "cell_type": "code",
   "execution_count": 14,
   "metadata": {
    "id": "a11c50476b544f7ca0acba72ff927116"
   },
   "outputs": [],
   "source": [
    "url = endpoint_url + \"/log\" + f\"/{job_id}\""
   ]
  },
  {
   "cell_type": "code",
   "execution_count": 15,
   "metadata": {
    "id": "ef2cc1d1ad02496aa0114b9a9047f1cc"
   },
   "outputs": [],
   "source": [
    "response = requests.request(\"GET\", url, headers=headers, data={}, files=[])"
   ]
  },
  {
   "cell_type": "code",
   "execution_count": 16,
   "metadata": {
    "id": "1969e8d4e5314aa08e74b3c029f980a6"
   },
   "outputs": [
    {
     "name": "stdout",
     "output_type": "stream",
     "text": [
      "recipe_file_path /tmp/ray/session_2023-11-16_01-58-51_212131_1/runtime_resources/working_dir_files/_ray_pkg_b55ff192fa810b59/Recipe.create\n",
      "entrypoint_path /tmp/ray/session_2023-11-16_01-58-51_212131_1/runtime_resources/working_dir_files/_ray_pkg_b55ff192fa810b59/main.py\n",
      "2023-11-16 02:10:49,002\tINFO worker.py:1334 -- Using address 172.63.0.3:6379 set in the environment variable RAY_ADDRESS\n",
      "2023-11-16 02:10:49,002\tINFO worker.py:1452 -- Connecting to existing Ray cluster at address: 172.63.0.3:6379...\n",
      "2023-11-16 02:10:49,009\tINFO worker.py:1627 -- Connected to Ray cluster. View the dashboard at \u001b[1m\u001b[32m172.63.0.3:8265 \u001b[39m\u001b[22m\n",
      "\u001b[2m\u001b[36m(run_recipe_on_ray pid=144, ip=172.63.0.5)\u001b[0m mlflow.experiment.name: 3e527848-209b-4f39-b812-7a4d8f04db99\n",
      "\u001b[2m\u001b[36m(run_recipe_on_ray pid=144, ip=172.63.0.5)\u001b[0m mlflow.experiment.id: 3\n",
      "\u001b[2m\u001b[36m(run_recipe_on_ray pid=144, ip=172.63.0.5)\u001b[0m 2023/11/16 02:10:49 INFO mlflow.tracking.fluent: Experiment with name '3e527848-209b-4f39-b812-7a4d8f04db99' does not exist. Creating a new experiment.\n",
      "\u001b[2m\u001b[36m(run_recipe_on_ray pid=144, ip=172.63.0.5)\u001b[0m 2023/11/16 02:10:50 WARNING mlflow.utils.git_utils: Failed to import Git (the Git executable is probably not on your PATH), so Git SHA is not available. Error: Failed to initialize: Bad git executable.\n",
      "\u001b[2m\u001b[36m(run_recipe_on_ray pid=144, ip=172.63.0.5)\u001b[0m The git executable must be specified in one of the following ways:\n",
      "\u001b[2m\u001b[36m(run_recipe_on_ray pid=144, ip=172.63.0.5)\u001b[0m     - be included in your $PATH\n",
      "\u001b[2m\u001b[36m(run_recipe_on_ray pid=144, ip=172.63.0.5)\u001b[0m     - be set via $GIT_PYTHON_GIT_EXECUTABLE\n",
      "\u001b[2m\u001b[36m(run_recipe_on_ray pid=144, ip=172.63.0.5)\u001b[0m     - explicitly set via git.refresh()\n",
      "\u001b[2m\u001b[36m(run_recipe_on_ray pid=144, ip=172.63.0.5)\u001b[0m \n",
      "\u001b[2m\u001b[36m(run_recipe_on_ray pid=144, ip=172.63.0.5)\u001b[0m All git commands will error until this is rectified.\n",
      "\u001b[2m\u001b[36m(run_recipe_on_ray pid=144, ip=172.63.0.5)\u001b[0m \n",
      "\u001b[2m\u001b[36m(run_recipe_on_ray pid=144, ip=172.63.0.5)\u001b[0m This initial warning can be silenced or aggravated in the future by setting the\n",
      "\u001b[2m\u001b[36m(run_recipe_on_ray pid=144, ip=172.63.0.5)\u001b[0m $GIT_PYTHON_REFRESH environment variable. Use one of the following values:\n",
      "\u001b[2m\u001b[36m(run_recipe_on_ray pid=144, ip=172.63.0.5)\u001b[0m     - quiet|q|silence|s|none|n|0: for no warning or exception\n",
      "\u001b[2m\u001b[36m(run_recipe_on_ray pid=144, ip=172.63.0.5)\u001b[0m     - warn|w|warning|1: for a printed warning\n",
      "\u001b[2m\u001b[36m(run_recipe_on_ray pid=144, ip=172.63.0.5)\u001b[0m     - error|e|raise|r|2: for a raised exception\n",
      "\u001b[2m\u001b[36m(run_recipe_on_ray pid=144, ip=172.63.0.5)\u001b[0m \n",
      "\u001b[2m\u001b[36m(run_recipe_on_ray pid=144, ip=172.63.0.5)\u001b[0m Example:\n",
      "\u001b[2m\u001b[36m(run_recipe_on_ray pid=144, ip=172.63.0.5)\u001b[0m     export GIT_PYTHON_REFRESH=quiet\n",
      "\u001b[2m\u001b[36m(run_recipe_on_ray pid=144, ip=172.63.0.5)\u001b[0m \n",
      "\u001b[2m\u001b[36m(run_recipe_on_ray pid=144, ip=172.63.0.5)\u001b[0m Launching new run for entrypoint=wml_authentication and parameters={'wml_credentials_file_path': 's3://testdataupload/3e527848-209b-4f39-b812-7a4d8f04db99_wml-credentials.json', 'endpoint': 'electrical_transformer_deployments'}\n",
      "\u001b[2m\u001b[36m(run_recipe_on_ray pid=144, ip=172.63.0.5)\u001b[0m No matching run has been found.\n",
      "\u001b[2m\u001b[36m(run_recipe_on_ray pid=144, ip=172.63.0.5)\u001b[0m 2023/11/16 02:10:50 WARNING mlflow.tracking._tracking_service.utils: Failed to import Git (the git executable is probably not on your PATH), so Git SHA is not available. Error: Failed to initialize: Bad git executable.\n",
      "\u001b[2m\u001b[36m(run_recipe_on_ray pid=144, ip=172.63.0.5)\u001b[0m The git executable must be specified in one of the following ways:\n",
      "\u001b[2m\u001b[36m(run_recipe_on_ray pid=144, ip=172.63.0.5)\u001b[0m     - be included in your $PATH\n",
      "\u001b[2m\u001b[36m(run_recipe_on_ray pid=144, ip=172.63.0.5)\u001b[0m     - be set via $GIT_PYTHON_GIT_EXECUTABLE\n",
      "\u001b[2m\u001b[36m(run_recipe_on_ray pid=144, ip=172.63.0.5)\u001b[0m     - explicitly set via git.refresh()\n",
      "\u001b[2m\u001b[36m(run_recipe_on_ray pid=144, ip=172.63.0.5)\u001b[0m \n",
      "\u001b[2m\u001b[36m(run_recipe_on_ray pid=144, ip=172.63.0.5)\u001b[0m All git commands will error until this is rectified.\n",
      "\u001b[2m\u001b[36m(run_recipe_on_ray pid=144, ip=172.63.0.5)\u001b[0m \n",
      "\u001b[2m\u001b[36m(run_recipe_on_ray pid=144, ip=172.63.0.5)\u001b[0m This initial warning can be silenced or aggravated in the future by setting the\n",
      "\u001b[2m\u001b[36m(run_recipe_on_ray pid=144, ip=172.63.0.5)\u001b[0m $GIT_PYTHON_REFRESH environment variable. Use one of the following values:\n",
      "\u001b[2m\u001b[36m(run_recipe_on_ray pid=144, ip=172.63.0.5)\u001b[0m     - quiet|q|silence|s|none|n|0: for no warning or exception\n",
      "\u001b[2m\u001b[36m(run_recipe_on_ray pid=144, ip=172.63.0.5)\u001b[0m     - warn|w|warning|1: for a printed warning\n",
      "\u001b[2m\u001b[36m(run_recipe_on_ray pid=144, ip=172.63.0.5)\u001b[0m     - error|e|raise|r|2: for a raised exception\n",
      "\u001b[2m\u001b[36m(run_recipe_on_ray pid=144, ip=172.63.0.5)\u001b[0m \n",
      "\u001b[2m\u001b[36m(run_recipe_on_ray pid=144, ip=172.63.0.5)\u001b[0m Example:\n",
      "\u001b[2m\u001b[36m(run_recipe_on_ray pid=144, ip=172.63.0.5)\u001b[0m     export GIT_PYTHON_REFRESH=quiet\n",
      "\u001b[2m\u001b[36m(run_recipe_on_ray pid=144, ip=172.63.0.5)\u001b[0m \n",
      "\u001b[2m\u001b[36m(run_recipe_on_ray pid=144, ip=172.63.0.5)\u001b[0m 2023/11/16 02:10:50 WARNING mlflow.utils.git_utils: Failed to import Git (the Git executable is probably not on your PATH), so Git SHA is not available. Error: Failed to initialize: Bad git executable.\n",
      "\u001b[2m\u001b[36m(run_recipe_on_ray pid=144, ip=172.63.0.5)\u001b[0m The git executable must be specified in one of the following ways:\n",
      "\u001b[2m\u001b[36m(run_recipe_on_ray pid=144, ip=172.63.0.5)\u001b[0m     - be included in your $PATH\n",
      "\u001b[2m\u001b[36m(run_recipe_on_ray pid=144, ip=172.63.0.5)\u001b[0m     - be set via $GIT_PYTHON_GIT_EXECUTABLE\n",
      "\u001b[2m\u001b[36m(run_recipe_on_ray pid=144, ip=172.63.0.5)\u001b[0m     - explicitly set via git.refresh()\n",
      "\u001b[2m\u001b[36m(run_recipe_on_ray pid=144, ip=172.63.0.5)\u001b[0m \n",
      "\u001b[2m\u001b[36m(run_recipe_on_ray pid=144, ip=172.63.0.5)\u001b[0m All git commands will error until this is rectified.\n",
      "\u001b[2m\u001b[36m(run_recipe_on_ray pid=144, ip=172.63.0.5)\u001b[0m \n",
      "\u001b[2m\u001b[36m(run_recipe_on_ray pid=144, ip=172.63.0.5)\u001b[0m This initial warning can be silenced or aggravated in the future by setting the\n",
      "\u001b[2m\u001b[36m(run_recipe_on_ray pid=144, ip=172.63.0.5)\u001b[0m $GIT_PYTHON_REFRESH environment variable. Use one of the following values:\n",
      "\u001b[2m\u001b[36m(run_recipe_on_ray pid=144, ip=172.63.0.5)\u001b[0m     - quiet|q|silence|s|none|n|0: for no warning or exception\n",
      "\u001b[2m\u001b[36m(run_recipe_on_ray pid=144, ip=172.63.0.5)\u001b[0m     - warn|w|warning|1: for a printed warning\n",
      "\u001b[2m\u001b[36m(run_recipe_on_ray pid=144, ip=172.63.0.5)\u001b[0m     - error|e|raise|r|2: for a raised exception\n",
      "\u001b[2m\u001b[36m(run_recipe_on_ray pid=144, ip=172.63.0.5)\u001b[0m \n",
      "\u001b[2m\u001b[36m(run_recipe_on_ray pid=144, ip=172.63.0.5)\u001b[0m Example:\n",
      "\u001b[2m\u001b[36m(run_recipe_on_ray pid=144, ip=172.63.0.5)\u001b[0m     export GIT_PYTHON_REFRESH=quiet\n",
      "\u001b[2m\u001b[36m(run_recipe_on_ray pid=144, ip=172.63.0.5)\u001b[0m \n",
      "\u001b[2m\u001b[36m(run_recipe_on_ray pid=144, ip=172.63.0.5)\u001b[0m 2023/11/16 02:10:50 WARNING mlflow.utils.git_utils: Failed to import Git (the Git executable is probably not on your PATH), so Git SHA is not available. Error: Failed to initialize: Bad git executable.\n",
      "\u001b[2m\u001b[36m(run_recipe_on_ray pid=144, ip=172.63.0.5)\u001b[0m The git executable must be specified in one of the following ways:\n",
      "\u001b[2m\u001b[36m(run_recipe_on_ray pid=144, ip=172.63.0.5)\u001b[0m     - be included in your $PATH\n",
      "\u001b[2m\u001b[36m(run_recipe_on_ray pid=144, ip=172.63.0.5)\u001b[0m     - be set via $GIT_PYTHON_GIT_EXECUTABLE\n",
      "\u001b[2m\u001b[36m(run_recipe_on_ray pid=144, ip=172.63.0.5)\u001b[0m     - explicitly set via git.refresh()\n",
      "\u001b[2m\u001b[36m(run_recipe_on_ray pid=144, ip=172.63.0.5)\u001b[0m \n",
      "\u001b[2m\u001b[36m(run_recipe_on_ray pid=144, ip=172.63.0.5)\u001b[0m All git commands will error until this is rectified.\n",
      "\u001b[2m\u001b[36m(run_recipe_on_ray pid=144, ip=172.63.0.5)\u001b[0m \n",
      "\u001b[2m\u001b[36m(run_recipe_on_ray pid=144, ip=172.63.0.5)\u001b[0m This initial warning can be silenced or aggravated in the future by setting the\n",
      "\u001b[2m\u001b[36m(run_recipe_on_ray pid=144, ip=172.63.0.5)\u001b[0m $GIT_PYTHON_REFRESH environment variable. Use one of the following values:\n",
      "\u001b[2m\u001b[36m(run_recipe_on_ray pid=144, ip=172.63.0.5)\u001b[0m     - quiet|q|silence|s|none|n|0: for no warning or exception\n",
      "\u001b[2m\u001b[36m(run_recipe_on_ray pid=144, ip=172.63.0.5)\u001b[0m     - warn|w|warning|1: for a printed warning\n",
      "\u001b[2m\u001b[36m(run_recipe_on_ray pid=144, ip=172.63.0.5)\u001b[0m     - error|e|raise|r|2: for a raised exception\n",
      "\u001b[2m\u001b[36m(run_recipe_on_ray pid=144, ip=172.63.0.5)\u001b[0m \n",
      "\u001b[2m\u001b[36m(run_recipe_on_ray pid=144, ip=172.63.0.5)\u001b[0m Example:\n",
      "\u001b[2m\u001b[36m(run_recipe_on_ray pid=144, ip=172.63.0.5)\u001b[0m     export GIT_PYTHON_REFRESH=quiet\n",
      "\u001b[2m\u001b[36m(run_recipe_on_ray pid=144, ip=172.63.0.5)\u001b[0m \n",
      "\u001b[2m\u001b[36m(run_recipe_on_ray pid=144, ip=172.63.0.5)\u001b[0m 2023/11/16 02:10:50 INFO mlflow.projects.utils: === Created directory /tmp/tmp7a9c3nt0 for downloading remote URIs passed to arguments of type 'path' ===\n",
      "\u001b[2m\u001b[36m(run_recipe_on_ray pid=144, ip=172.63.0.5)\u001b[0m 2023/11/16 02:10:50 INFO mlflow.projects.backend.local: === Running command 'python steps/authenticate.py --wml_credentials_file_path s3://testdataupload/3e527848-209b-4f39-b812-7a4d8f04db99_wml-credentials.json --endpoint electrical_transformer_deployments' in run with ID 'ca86270f1ee04d8db5926a86fc24209f' === \n",
      "\u001b[2m\u001b[36m(run_recipe_on_ray pid=144, ip=172.63.0.5)\u001b[0m /usr/local/lib/python3.9/site-packages/ibm_watson_machine_learning/client.py:192: UserWarning: The provided version: 4.0 is different from the current CP4D version: 4.6. Correct the wml_credentials with proper CP4D version number.\n",
      "\u001b[2m\u001b[36m(run_recipe_on_ray pid=144, ip=172.63.0.5)\u001b[0m   warn(\n",
      "\u001b[2m\u001b[36m(run_recipe_on_ray pid=144, ip=172.63.0.5)\u001b[0m 2023/11/16 02:10:54 INFO mlflow.projects: === Run (ID 'ca86270f1ee04d8db5926a86fc24209f') succeeded ===\n",
      "\u001b[2m\u001b[36m(run_recipe_on_ray pid=144, ip=172.63.0.5)\u001b[0m Launching new run for entrypoint=software_specification and parameters={'wml_credentials': '{\"username\": \"modelfactory\", \"apikey\": \"AfoFUqMdeTrdCpKgOFNFLeXITQMrtsdVi9A17Ga2\", \"url\": \"https://cpd-ibm-cpd.modelfactory-9ca4d14d48413d18ce61b80811ba4308-0000.us-south.containers.appdomain.cloud/\", \"instance_id\": \"openshift\", \"version\": \"4.0\"}', 'endpoint': 'electrical_transformer_deployments', 'pkg_path': 'None', 'conda_yaml': 'None', 'software_spec_name': 'modelfactory', 'rewrite': 'False'}\n",
      "\u001b[2m\u001b[36m(run_recipe_on_ray pid=144, ip=172.63.0.5)\u001b[0m No matching run has been found.\n",
      "\u001b[2m\u001b[36m(run_recipe_on_ray pid=144, ip=172.63.0.5)\u001b[0m 2023/11/16 02:10:56 WARNING mlflow.tracking._tracking_service.utils: Failed to import Git (the git executable is probably not on your PATH), so Git SHA is not available. Error: Failed to initialize: Bad git executable.\n",
      "\u001b[2m\u001b[36m(run_recipe_on_ray pid=144, ip=172.63.0.5)\u001b[0m The git executable must be specified in one of the following ways:\n",
      "\u001b[2m\u001b[36m(run_recipe_on_ray pid=144, ip=172.63.0.5)\u001b[0m     - be included in your $PATH\n",
      "\u001b[2m\u001b[36m(run_recipe_on_ray pid=144, ip=172.63.0.5)\u001b[0m     - be set via $GIT_PYTHON_GIT_EXECUTABLE\n",
      "\u001b[2m\u001b[36m(run_recipe_on_ray pid=144, ip=172.63.0.5)\u001b[0m     - explicitly set via git.refresh()\n",
      "\u001b[2m\u001b[36m(run_recipe_on_ray pid=144, ip=172.63.0.5)\u001b[0m \n",
      "\u001b[2m\u001b[36m(run_recipe_on_ray pid=144, ip=172.63.0.5)\u001b[0m All git commands will error until this is rectified.\n",
      "\u001b[2m\u001b[36m(run_recipe_on_ray pid=144, ip=172.63.0.5)\u001b[0m \n",
      "\u001b[2m\u001b[36m(run_recipe_on_ray pid=144, ip=172.63.0.5)\u001b[0m This initial warning can be silenced or aggravated in the future by setting the\n",
      "\u001b[2m\u001b[36m(run_recipe_on_ray pid=144, ip=172.63.0.5)\u001b[0m $GIT_PYTHON_REFRESH environment variable. Use one of the following values:\n",
      "\u001b[2m\u001b[36m(run_recipe_on_ray pid=144, ip=172.63.0.5)\u001b[0m     - quiet|q|silence|s|none|n|0: for no warning or exception\n",
      "\u001b[2m\u001b[36m(run_recipe_on_ray pid=144, ip=172.63.0.5)\u001b[0m     - warn|w|warning|1: for a printed warning\n",
      "\u001b[2m\u001b[36m(run_recipe_on_ray pid=144, ip=172.63.0.5)\u001b[0m     - error|e|raise|r|2: for a raised exception\n",
      "\u001b[2m\u001b[36m(run_recipe_on_ray pid=144, ip=172.63.0.5)\u001b[0m \n",
      "\u001b[2m\u001b[36m(run_recipe_on_ray pid=144, ip=172.63.0.5)\u001b[0m Example:\n",
      "\u001b[2m\u001b[36m(run_recipe_on_ray pid=144, ip=172.63.0.5)\u001b[0m     export GIT_PYTHON_REFRESH=quiet\n",
      "\u001b[2m\u001b[36m(run_recipe_on_ray pid=144, ip=172.63.0.5)\u001b[0m \n",
      "\u001b[2m\u001b[36m(run_recipe_on_ray pid=144, ip=172.63.0.5)\u001b[0m 2023/11/16 02:10:56 WARNING mlflow.utils.git_utils: Failed to import Git (the Git executable is probably not on your PATH), so Git SHA is not available. Error: Failed to initialize: Bad git executable.\n",
      "\u001b[2m\u001b[36m(run_recipe_on_ray pid=144, ip=172.63.0.5)\u001b[0m The git executable must be specified in one of the following ways:\n",
      "\u001b[2m\u001b[36m(run_recipe_on_ray pid=144, ip=172.63.0.5)\u001b[0m     - be included in your $PATH\n",
      "\u001b[2m\u001b[36m(run_recipe_on_ray pid=144, ip=172.63.0.5)\u001b[0m     - be set via $GIT_PYTHON_GIT_EXECUTABLE\n",
      "\u001b[2m\u001b[36m(run_recipe_on_ray pid=144, ip=172.63.0.5)\u001b[0m     - explicitly set via git.refresh()\n",
      "\u001b[2m\u001b[36m(run_recipe_on_ray pid=144, ip=172.63.0.5)\u001b[0m \n",
      "\u001b[2m\u001b[36m(run_recipe_on_ray pid=144, ip=172.63.0.5)\u001b[0m All git commands will error until this is rectified.\n",
      "\u001b[2m\u001b[36m(run_recipe_on_ray pid=144, ip=172.63.0.5)\u001b[0m \n",
      "\u001b[2m\u001b[36m(run_recipe_on_ray pid=144, ip=172.63.0.5)\u001b[0m This initial warning can be silenced or aggravated in the future by setting the\n",
      "\u001b[2m\u001b[36m(run_recipe_on_ray pid=144, ip=172.63.0.5)\u001b[0m $GIT_PYTHON_REFRESH environment variable. Use one of the following values:\n",
      "\u001b[2m\u001b[36m(run_recipe_on_ray pid=144, ip=172.63.0.5)\u001b[0m     - quiet|q|silence|s|none|n|0: for no warning or exception\n",
      "\u001b[2m\u001b[36m(run_recipe_on_ray pid=144, ip=172.63.0.5)\u001b[0m     - warn|w|warning|1: for a printed warning\n",
      "\u001b[2m\u001b[36m(run_recipe_on_ray pid=144, ip=172.63.0.5)\u001b[0m     - error|e|raise|r|2: for a raised exception\n",
      "\u001b[2m\u001b[36m(run_recipe_on_ray pid=144, ip=172.63.0.5)\u001b[0m \n",
      "\u001b[2m\u001b[36m(run_recipe_on_ray pid=144, ip=172.63.0.5)\u001b[0m Example:\n",
      "\u001b[2m\u001b[36m(run_recipe_on_ray pid=144, ip=172.63.0.5)\u001b[0m     export GIT_PYTHON_REFRESH=quiet\n",
      "\u001b[2m\u001b[36m(run_recipe_on_ray pid=144, ip=172.63.0.5)\u001b[0m \n",
      "\u001b[2m\u001b[36m(run_recipe_on_ray pid=144, ip=172.63.0.5)\u001b[0m 2023/11/16 02:10:56 WARNING mlflow.utils.git_utils: Failed to import Git (the Git executable is probably not on your PATH), so Git SHA is not available. Error: Failed to initialize: Bad git executable.\n",
      "\u001b[2m\u001b[36m(run_recipe_on_ray pid=144, ip=172.63.0.5)\u001b[0m The git executable must be specified in one of the following ways:\n",
      "\u001b[2m\u001b[36m(run_recipe_on_ray pid=144, ip=172.63.0.5)\u001b[0m     - be included in your $PATH\n",
      "\u001b[2m\u001b[36m(run_recipe_on_ray pid=144, ip=172.63.0.5)\u001b[0m     - be set via $GIT_PYTHON_GIT_EXECUTABLE\n",
      "\u001b[2m\u001b[36m(run_recipe_on_ray pid=144, ip=172.63.0.5)\u001b[0m     - explicitly set via git.refresh()\n",
      "\u001b[2m\u001b[36m(run_recipe_on_ray pid=144, ip=172.63.0.5)\u001b[0m \n",
      "\u001b[2m\u001b[36m(run_recipe_on_ray pid=144, ip=172.63.0.5)\u001b[0m All git commands will error until this is rectified.\n",
      "\u001b[2m\u001b[36m(run_recipe_on_ray pid=144, ip=172.63.0.5)\u001b[0m \n",
      "\u001b[2m\u001b[36m(run_recipe_on_ray pid=144, ip=172.63.0.5)\u001b[0m This initial warning can be silenced or aggravated in the future by setting the\n",
      "\u001b[2m\u001b[36m(run_recipe_on_ray pid=144, ip=172.63.0.5)\u001b[0m $GIT_PYTHON_REFRESH environment variable. Use one of the following values:\n",
      "\u001b[2m\u001b[36m(run_recipe_on_ray pid=144, ip=172.63.0.5)\u001b[0m     - quiet|q|silence|s|none|n|0: for no warning or exception\n",
      "\u001b[2m\u001b[36m(run_recipe_on_ray pid=144, ip=172.63.0.5)\u001b[0m     - warn|w|warning|1: for a printed warning\n",
      "\u001b[2m\u001b[36m(run_recipe_on_ray pid=144, ip=172.63.0.5)\u001b[0m     - error|e|raise|r|2: for a raised exception\n",
      "\u001b[2m\u001b[36m(run_recipe_on_ray pid=144, ip=172.63.0.5)\u001b[0m \n",
      "\u001b[2m\u001b[36m(run_recipe_on_ray pid=144, ip=172.63.0.5)\u001b[0m Example:\n",
      "\u001b[2m\u001b[36m(run_recipe_on_ray pid=144, ip=172.63.0.5)\u001b[0m     export GIT_PYTHON_REFRESH=quiet\n",
      "\u001b[2m\u001b[36m(run_recipe_on_ray pid=144, ip=172.63.0.5)\u001b[0m \n",
      "\u001b[2m\u001b[36m(run_recipe_on_ray pid=144, ip=172.63.0.5)\u001b[0m 2023/11/16 02:10:56 INFO mlflow.projects.utils: === Created directory /tmp/tmp63qhfxbu for downloading remote URIs passed to arguments of type 'path' ===\n",
      "\u001b[2m\u001b[36m(run_recipe_on_ray pid=144, ip=172.63.0.5)\u001b[0m 2023/11/16 02:10:56 INFO mlflow.projects.backend.local: === Running command 'python steps/create_software_spec.py --wml_credentials '{\"username\": \"modelfactory\", \"apikey\": \"AfoFUqMdeTrdCpKgOFNFLeXITQMrtsdVi9A17Ga2\", \"url\": \"https://cpd-ibm-cpd.modelfactory-9ca4d14d48413d18ce61b80811ba4308-0000.us-south.containers.appdomain.cloud/\", \"instance_id\": \"openshift\", \"version\": \"4.0\"}' --endpoint electrical_transformer_deployments --pkg_path None --conda_yaml None --software_spec_name modelfactory --rewrite False' in run with ID '0b920fb8e82544dabe333e04feafd94d' === \n",
      "\n"
     ]
    }
   ],
   "source": [
    "print(json.loads(response.text)[\"logs\"])"
   ]
  },
  {
   "cell_type": "markdown",
   "metadata": {
    "id": "cf0c392fd72c49c880347373851deeb3"
   },
   "source": [
    "## Get the summary of the job"
   ]
  },
  {
   "cell_type": "code",
   "execution_count": 17,
   "metadata": {
    "id": "70eb24d8218d4ec8886f252fdb8a6b19"
   },
   "outputs": [],
   "source": [
    "url = endpoint_url + \"/summary\" + f\"/{job_id}\""
   ]
  },
  {
   "cell_type": "code",
   "execution_count": 18,
   "metadata": {
    "id": "2ed2c0191b5a444484d394bfe62edf22"
   },
   "outputs": [],
   "source": [
    "response = requests.request(\"GET\", url, headers=headers, data={}, files=[])"
   ]
  },
  {
   "cell_type": "code",
   "execution_count": 19,
   "metadata": {
    "id": "4ae29bfdf20f4d4f8d32779466be5f9e"
   },
   "outputs": [],
   "source": [
    "# More print functions using display \n",
    "from IPython.display import display, HTML\n",
    "import requests\n",
    "\n",
    "def print_job_details(job_id, endpoint_url):\n",
    "    # Extract the job ID and construct the URL\n",
    "    url = endpoint_url + \"/summary/\" + job_id\n",
    "    \n",
    "    # Send a GET request to fetch the job status\n",
    "    get_response = requests.get(url, headers={})\n",
    "    summary_data = get_response.json()\n",
    "    \n",
    "    # Display the job status\n",
    "    display(HTML(print_keys_and_values(summary_data)))\n",
    "\n",
    "    \n",
    "def print_keys_and_values(json_data):\n",
    "    # Start the HTML code\n",
    "    html_code = \"<div style='font-family: Arial; font-size: 1.2em;'>\"\n",
    "    \n",
    "    # Add the job details to the HTML code\n",
    "    html_code += f\"<p>job_id: {json_data['job_id']}</p>\"\n",
    "    if \"status\" in json_data:\n",
    "        html_code += f\"<p>status: {json_data['status']}</p>\"\n",
    "    html_code += \"<br>\"\n",
    "    if \"detailed_summary\" in json_data:\n",
    "        for summary in json_data['detailed_summary']:\n",
    "            html_code += f\"<p>run_id: {summary['run_id']}</p>\"\n",
    "            html_code += f\"<p>experiment_id: {summary['experiment_id']}</p>\"\n",
    "            html_code += f\"<p>status: {summary['status']}</p>\"\n",
    "            html_code += f\"<p>artifact_uri: {summary['artifact_uri']}</p>\"\n",
    "            html_code += f\"<p>artifact_name: {summary.get('tags.artifact_name', 'No artifact_name found')}</p>\"\n",
    "            html_code += \"<br>\"\n",
    "    \n",
    "    # Close the HTML code\n",
    "    html_code += \"</div>\"\n",
    "    \n",
    "    return html_code"
   ]
  },
  {
   "cell_type": "code",
   "execution_count": 28,
   "metadata": {
    "id": "f1ab7d51fce04eb48d0a806880531929"
   },
   "outputs": [
    {
     "data": {
      "text/html": [
       "<div style='font-family: Arial; font-size: 1.2em;'><p>job_id: 3e527848-209b-4f39-b812-7a4d8f04db99</p><p>status: DONE</p><br><p>run_id: 36403f11fb1b4fdcbfc1ab75ecbe74d2</p><p>experiment_id: 3</p><p>status: FINISHED</p><p>artifact_uri: s3://testdataupload/3/36403f11fb1b4fdcbfc1ab75ecbe74d2/artifacts</p><p>artifact_name: No artifact_name found</p><br><p>run_id: 0b920fb8e82544dabe333e04feafd94d</p><p>experiment_id: 3</p><p>status: FINISHED</p><p>artifact_uri: s3://testdataupload/3/0b920fb8e82544dabe333e04feafd94d/artifacts</p><p>artifact_name: No artifact_name found</p><br><p>run_id: ca86270f1ee04d8db5926a86fc24209f</p><p>experiment_id: 3</p><p>status: FINISHED</p><p>artifact_uri: s3://testdataupload/3/ca86270f1ee04d8db5926a86fc24209f/artifacts</p><p>artifact_name: No artifact_name found</p><br><p>run_id: 55ae5fde6287485a91e20d75cb8a07ca</p><p>experiment_id: 3</p><p>status: FINISHED</p><p>artifact_uri: s3://testdataupload/3/55ae5fde6287485a91e20d75cb8a07ca/artifacts</p><p>artifact_name: No artifact_name found</p><br></div>"
      ],
      "text/plain": [
       "<IPython.core.display.HTML object>"
      ]
     },
     "metadata": {},
     "output_type": "display_data"
    }
   ],
   "source": [
    "print_job_details(job_id, endpoint_url)"
   ]
  },
  {
   "cell_type": "code",
   "execution_count": null,
   "metadata": {
    "id": "22cb01a95686499584b6ecc033c9296b"
   },
   "outputs": [],
   "source": []
  },
  {
   "cell_type": "code",
   "execution_count": 29,
   "metadata": {},
   "outputs": [
    {
     "name": "stdout",
     "output_type": "stream",
     "text": [
      "{'job_id': '3e527848-209b-4f39-b812-7a4d8f04db99', 'status': 'DONE', 'summary': {'deployment_details': {'entity': {'asset': {'id': '9f3672e8-015b-439b-9ab6-24023315abe1', 'rev': '1'}, 'custom': {'AWS_ACCESS_KEY_ID': 'e6d28d7de535464da066c608726b4ee3', 'AWS_SECRET_ACCESS_KEY': '2fc6029cc5d799b6c572c0e730d6bc912c047cb1dddce409', 'MLFLOW_S3_ENDPOINT_URL': 'https://s3.us-south.cloud-object-storage.appdomain.cloud', 'MLFLOW_TRACKING_URI': 'http://mlflow:5000'}, 'deployed_asset_type': 'model', 'hardware_spec': {'id': 'b128f957-581d-46d0-95b6-8af5cd5be580', 'name': 'XXS', 'num_nodes': 1}, 'name': 'energyloss_111523_v2_three_kpis_loss_rate_joe', 'online': {}, 'space_id': 'a0521ce5-5547-41e2-8495-66012d7e8780', 'status': {'online_url': {'url': 'https://cpd-ibm-cpd.modelfactory-9ca4d14d48413d18ce61b80811ba4308-0000.us-south.containers.appdomain.cloud/ml/v4/deployments/d5744d1b-e921-462c-bfe4-d77ca2489968/predictions'}, 'serving_urls': ['https://cpd-ibm-cpd.modelfactory-9ca4d14d48413d18ce61b80811ba4308-0000.us-south.containers.appdomain.cloud/ml/v4/deployments/d5744d1b-e921-462c-bfe4-d77ca2489968/predictions'], 'state': 'ready'}}, 'metadata': {'created_at': '2023-11-16T02:11:23.739Z', 'id': 'd5744d1b-e921-462c-bfe4-d77ca2489968', 'modified_at': '2023-11-16T02:11:23.739Z', 'name': 'energyloss_111523_v2_three_kpis_loss_rate_joe', 'owner': '1000331002', 'space_id': 'a0521ce5-5547-41e2-8495-66012d7e8780'}, 'system': {'warnings': [{'id': 'Deprecated', 'message': 'online_url is deprecated and will be removed in a future release. Use serving_urls instead.'}]}, 'name': 'energyloss_111523_v2_three_kpis_loss_rate_joe'}}, 'detailed_summary': [{'run_id': '36403f11fb1b4fdcbfc1ab75ecbe74d2', 'experiment_id': '3', 'status': 'FINISHED', 'artifact_uri': 's3://testdataupload/3/36403f11fb1b4fdcbfc1ab75ecbe74d2/artifacts', 'start_time': '2023-11-16T02:11:05.425000+00:00', 'end_time': '2023-11-16T02:16:11.108000+00:00', 'params.deployment_name': 'energyloss_111523_v2_three_kpis_loss_rate_joe', 'params.model_uri': 's3://testdataupload/2/d443512c9ba54cc5993beb2a56ba5480/artifacts/energyloss', 'params.software_spec_name': 'modelfactory', 'params.flavor': 'sklearn', 'params.wml_credentials': '\\'{\"username\": \"modelfactory\", \"apikey\": \"AfoFUqMdeTrdCpKgOFNFLeXITQMrtsdVi9A17Ga2\", \"url\": \"https://cpd-ibm-cpd.modelfactory-9ca4d14d48413d18ce61b80811ba4308-0000.us-south.containers.appdomain.cloud/\", \"instance_id\": \"openshift\", \"version\": \"4.0\"}\\'', 'params.endpoint': 'electrical_transformer_deployments', 'params.conda_yaml': '', 'params.pkg_path': '', 'params.rewrite': '', 'params.wml_credentials_file_path': '', 'tags.mlflow.source.name': '/tmp/ray/session_2023-11-16_01-58-51_212131_1/runtime_resources/working_dir_files/_ray_pkg_b55ff192fa810b59', 'tags.mlflow.project.entryPoint': 'model_deployment', 'tags.mlflow.source.type': 'PROJECT', 'tags.summary': 'true', 'tags.mlflow.runName': 'intrigued-shrike-846', 'tags.mlflow.user': 'root', 'tags.mlflow.project.backend': 'local', 'tags.mlflow.parentRunId': '55ae5fde6287485a91e20d75cb8a07ca', 'tags.recipe': ''}, {'run_id': '0b920fb8e82544dabe333e04feafd94d', 'experiment_id': '3', 'status': 'FINISHED', 'artifact_uri': 's3://testdataupload/3/0b920fb8e82544dabe333e04feafd94d/artifacts', 'start_time': '2023-11-16T02:10:56.575000+00:00', 'end_time': '2023-11-16T02:11:05.105000+00:00', 'params.deployment_name': '', 'params.model_uri': '', 'params.software_spec_name': 'modelfactory', 'params.flavor': '', 'params.wml_credentials': '\\'{\"username\": \"modelfactory\", \"apikey\": \"AfoFUqMdeTrdCpKgOFNFLeXITQMrtsdVi9A17Ga2\", \"url\": \"https://cpd-ibm-cpd.modelfactory-9ca4d14d48413d18ce61b80811ba4308-0000.us-south.containers.appdomain.cloud/\", \"instance_id\": \"openshift\", \"version\": \"4.0\"}\\'', 'params.endpoint': 'electrical_transformer_deployments', 'params.conda_yaml': 'None', 'params.pkg_path': 'None', 'params.rewrite': 'False', 'params.wml_credentials_file_path': '', 'tags.mlflow.source.name': '/tmp/ray/session_2023-11-16_01-58-51_212131_1/runtime_resources/working_dir_files/_ray_pkg_b55ff192fa810b59', 'tags.mlflow.project.entryPoint': 'software_specification', 'tags.mlflow.source.type': 'PROJECT', 'tags.summary': '', 'tags.mlflow.runName': 'tasteful-mule-513', 'tags.mlflow.user': 'root', 'tags.mlflow.project.backend': 'local', 'tags.mlflow.parentRunId': '55ae5fde6287485a91e20d75cb8a07ca', 'tags.recipe': ''}, {'run_id': 'ca86270f1ee04d8db5926a86fc24209f', 'experiment_id': '3', 'status': 'FINISHED', 'artifact_uri': 's3://testdataupload/3/ca86270f1ee04d8db5926a86fc24209f/artifacts', 'start_time': '2023-11-16T02:10:50.065000+00:00', 'end_time': '2023-11-16T02:10:54.957000+00:00', 'params.deployment_name': '', 'params.model_uri': '', 'params.software_spec_name': '', 'params.flavor': '', 'params.wml_credentials': '', 'params.endpoint': 'electrical_transformer_deployments', 'params.conda_yaml': '', 'params.pkg_path': '', 'params.rewrite': '', 'params.wml_credentials_file_path': 's3://testdataupload/3e527848-209b-4f39-b812-7a4d8f04db99_wml-credentials.json', 'tags.mlflow.source.name': '/tmp/ray/session_2023-11-16_01-58-51_212131_1/runtime_resources/working_dir_files/_ray_pkg_b55ff192fa810b59', 'tags.mlflow.project.entryPoint': 'wml_authentication', 'tags.mlflow.source.type': 'PROJECT', 'tags.summary': '', 'tags.mlflow.runName': 'victorious-sloth-911', 'tags.mlflow.user': 'root', 'tags.mlflow.project.backend': 'local', 'tags.mlflow.parentRunId': '55ae5fde6287485a91e20d75cb8a07ca', 'tags.recipe': ''}, {'run_id': '55ae5fde6287485a91e20d75cb8a07ca', 'experiment_id': '3', 'status': 'FINISHED', 'artifact_uri': 's3://testdataupload/3/55ae5fde6287485a91e20d75cb8a07ca/artifacts', 'start_time': '2023-11-16T02:10:50.002000+00:00', 'end_time': '2023-11-16T02:16:11.138000+00:00', 'params.deployment_name': '', 'params.model_uri': '', 'params.software_spec_name': '', 'params.flavor': '', 'params.wml_credentials': '', 'params.endpoint': '', 'params.conda_yaml': '', 'params.pkg_path': '', 'params.rewrite': '', 'params.wml_credentials_file_path': '', 'tags.mlflow.source.name': '/usr/local/lib/python3.9/site-packages/ray/_private/workers/default_worker.py', 'tags.mlflow.project.entryPoint': '', 'tags.mlflow.source.type': 'LOCAL', 'tags.summary': '', 'tags.mlflow.runName': 'skillful-ant-254', 'tags.mlflow.user': 'root', 'tags.mlflow.project.backend': '', 'tags.mlflow.parentRunId': '', 'tags.recipe': 'wml_deployment'}]}\n"
     ]
    }
   ],
   "source": [
    "# Check the summary\n",
    "summary_url = endpoint_url + \"/summary/\"\n",
    "get_response = requests.get(summary_url+job_id, headers={})\n",
    "summary_data = get_response.json()\n",
    "print(summary_data)"
   ]
  },
  {
   "cell_type": "code",
   "execution_count": 52,
   "metadata": {},
   "outputs": [
    {
     "data": {
      "text/plain": [
       "{'job_id': '3e527848-209b-4f39-b812-7a4d8f04db99',\n",
       " 'status': 'DONE',\n",
       " 'summary': {'deployment_details': {'entity': {'asset': {'id': '9f3672e8-015b-439b-9ab6-24023315abe1',\n",
       "     'rev': '1'},\n",
       "    'custom': {'AWS_ACCESS_KEY_ID': 'e6d28d7de535464da066c608726b4ee3',\n",
       "     'AWS_SECRET_ACCESS_KEY': '2fc6029cc5d799b6c572c0e730d6bc912c047cb1dddce409',\n",
       "     'MLFLOW_S3_ENDPOINT_URL': 'https://s3.us-south.cloud-object-storage.appdomain.cloud',\n",
       "     'MLFLOW_TRACKING_URI': 'http://mlflow:5000'},\n",
       "    'deployed_asset_type': 'model',\n",
       "    'hardware_spec': {'id': 'b128f957-581d-46d0-95b6-8af5cd5be580',\n",
       "     'name': 'XXS',\n",
       "     'num_nodes': 1},\n",
       "    'name': 'energyloss_111523_v2_three_kpis_loss_rate_joe',\n",
       "    'online': {},\n",
       "    'space_id': 'a0521ce5-5547-41e2-8495-66012d7e8780',\n",
       "    'status': {'online_url': {'url': 'https://cpd-ibm-cpd.modelfactory-9ca4d14d48413d18ce61b80811ba4308-0000.us-south.containers.appdomain.cloud/ml/v4/deployments/d5744d1b-e921-462c-bfe4-d77ca2489968/predictions'},\n",
       "     'serving_urls': ['https://cpd-ibm-cpd.modelfactory-9ca4d14d48413d18ce61b80811ba4308-0000.us-south.containers.appdomain.cloud/ml/v4/deployments/d5744d1b-e921-462c-bfe4-d77ca2489968/predictions'],\n",
       "     'state': 'ready',\n",
       "     'cp4d_urls': 'https://cpd-ibm-cpd.modelfactory-9ca4d14d48413d18ce61b80811ba4308-0000.us-south.containers.appdomain.cloud/ml/v4/deployments/d5744d1b-e921-462c-bfe4-d77ca2489968/predictions?version=2023-11-15',\n",
       "     'cp4d_url': 'https://cpd-ibm-cpd.modelfactory-9ca4d14d48413d18ce61b80811ba4308-0000.us-south.containers.appdomain.cloud/ml/v4/deployments/d5744d1b-e921-462c-bfe4-d77ca2489968/predictions?version=2023-11-16'}},\n",
       "   'metadata': {'created_at': '2023-11-16T02:11:23.739Z',\n",
       "    'id': 'd5744d1b-e921-462c-bfe4-d77ca2489968',\n",
       "    'modified_at': '2023-11-16T02:11:23.739Z',\n",
       "    'name': 'energyloss_111523_v2_three_kpis_loss_rate_joe',\n",
       "    'owner': '1000331002',\n",
       "    'space_id': 'a0521ce5-5547-41e2-8495-66012d7e8780'},\n",
       "   'system': {'warnings': [{'id': 'Deprecated',\n",
       "      'message': 'online_url is deprecated and will be removed in a future release. Use serving_urls instead.'}]},\n",
       "   'name': 'energyloss_111523_v2_three_kpis_loss_rate_joe'}},\n",
       " 'detailed_summary': [{'run_id': '36403f11fb1b4fdcbfc1ab75ecbe74d2',\n",
       "   'experiment_id': '3',\n",
       "   'status': 'FINISHED',\n",
       "   'artifact_uri': 's3://testdataupload/3/36403f11fb1b4fdcbfc1ab75ecbe74d2/artifacts',\n",
       "   'start_time': '2023-11-16T02:11:05.425000+00:00',\n",
       "   'end_time': '2023-11-16T02:16:11.108000+00:00',\n",
       "   'params.deployment_name': 'energyloss_111523_v2_three_kpis_loss_rate_joe',\n",
       "   'params.model_uri': 's3://testdataupload/2/d443512c9ba54cc5993beb2a56ba5480/artifacts/energyloss',\n",
       "   'params.software_spec_name': 'modelfactory',\n",
       "   'params.flavor': 'sklearn',\n",
       "   'params.wml_credentials': '\\'{\"username\": \"modelfactory\", \"apikey\": \"AfoFUqMdeTrdCpKgOFNFLeXITQMrtsdVi9A17Ga2\", \"url\": \"https://cpd-ibm-cpd.modelfactory-9ca4d14d48413d18ce61b80811ba4308-0000.us-south.containers.appdomain.cloud/\", \"instance_id\": \"openshift\", \"version\": \"4.0\"}\\'',\n",
       "   'params.endpoint': 'electrical_transformer_deployments',\n",
       "   'params.conda_yaml': '',\n",
       "   'params.pkg_path': '',\n",
       "   'params.rewrite': '',\n",
       "   'params.wml_credentials_file_path': '',\n",
       "   'tags.mlflow.source.name': '/tmp/ray/session_2023-11-16_01-58-51_212131_1/runtime_resources/working_dir_files/_ray_pkg_b55ff192fa810b59',\n",
       "   'tags.mlflow.project.entryPoint': 'model_deployment',\n",
       "   'tags.mlflow.source.type': 'PROJECT',\n",
       "   'tags.summary': 'true',\n",
       "   'tags.mlflow.runName': 'intrigued-shrike-846',\n",
       "   'tags.mlflow.user': 'root',\n",
       "   'tags.mlflow.project.backend': 'local',\n",
       "   'tags.mlflow.parentRunId': '55ae5fde6287485a91e20d75cb8a07ca',\n",
       "   'tags.recipe': ''},\n",
       "  {'run_id': '0b920fb8e82544dabe333e04feafd94d',\n",
       "   'experiment_id': '3',\n",
       "   'status': 'FINISHED',\n",
       "   'artifact_uri': 's3://testdataupload/3/0b920fb8e82544dabe333e04feafd94d/artifacts',\n",
       "   'start_time': '2023-11-16T02:10:56.575000+00:00',\n",
       "   'end_time': '2023-11-16T02:11:05.105000+00:00',\n",
       "   'params.deployment_name': '',\n",
       "   'params.model_uri': '',\n",
       "   'params.software_spec_name': 'modelfactory',\n",
       "   'params.flavor': '',\n",
       "   'params.wml_credentials': '\\'{\"username\": \"modelfactory\", \"apikey\": \"AfoFUqMdeTrdCpKgOFNFLeXITQMrtsdVi9A17Ga2\", \"url\": \"https://cpd-ibm-cpd.modelfactory-9ca4d14d48413d18ce61b80811ba4308-0000.us-south.containers.appdomain.cloud/\", \"instance_id\": \"openshift\", \"version\": \"4.0\"}\\'',\n",
       "   'params.endpoint': 'electrical_transformer_deployments',\n",
       "   'params.conda_yaml': 'None',\n",
       "   'params.pkg_path': 'None',\n",
       "   'params.rewrite': 'False',\n",
       "   'params.wml_credentials_file_path': '',\n",
       "   'tags.mlflow.source.name': '/tmp/ray/session_2023-11-16_01-58-51_212131_1/runtime_resources/working_dir_files/_ray_pkg_b55ff192fa810b59',\n",
       "   'tags.mlflow.project.entryPoint': 'software_specification',\n",
       "   'tags.mlflow.source.type': 'PROJECT',\n",
       "   'tags.summary': '',\n",
       "   'tags.mlflow.runName': 'tasteful-mule-513',\n",
       "   'tags.mlflow.user': 'root',\n",
       "   'tags.mlflow.project.backend': 'local',\n",
       "   'tags.mlflow.parentRunId': '55ae5fde6287485a91e20d75cb8a07ca',\n",
       "   'tags.recipe': ''},\n",
       "  {'run_id': 'ca86270f1ee04d8db5926a86fc24209f',\n",
       "   'experiment_id': '3',\n",
       "   'status': 'FINISHED',\n",
       "   'artifact_uri': 's3://testdataupload/3/ca86270f1ee04d8db5926a86fc24209f/artifacts',\n",
       "   'start_time': '2023-11-16T02:10:50.065000+00:00',\n",
       "   'end_time': '2023-11-16T02:10:54.957000+00:00',\n",
       "   'params.deployment_name': '',\n",
       "   'params.model_uri': '',\n",
       "   'params.software_spec_name': '',\n",
       "   'params.flavor': '',\n",
       "   'params.wml_credentials': '',\n",
       "   'params.endpoint': 'electrical_transformer_deployments',\n",
       "   'params.conda_yaml': '',\n",
       "   'params.pkg_path': '',\n",
       "   'params.rewrite': '',\n",
       "   'params.wml_credentials_file_path': 's3://testdataupload/3e527848-209b-4f39-b812-7a4d8f04db99_wml-credentials.json',\n",
       "   'tags.mlflow.source.name': '/tmp/ray/session_2023-11-16_01-58-51_212131_1/runtime_resources/working_dir_files/_ray_pkg_b55ff192fa810b59',\n",
       "   'tags.mlflow.project.entryPoint': 'wml_authentication',\n",
       "   'tags.mlflow.source.type': 'PROJECT',\n",
       "   'tags.summary': '',\n",
       "   'tags.mlflow.runName': 'victorious-sloth-911',\n",
       "   'tags.mlflow.user': 'root',\n",
       "   'tags.mlflow.project.backend': 'local',\n",
       "   'tags.mlflow.parentRunId': '55ae5fde6287485a91e20d75cb8a07ca',\n",
       "   'tags.recipe': ''},\n",
       "  {'run_id': '55ae5fde6287485a91e20d75cb8a07ca',\n",
       "   'experiment_id': '3',\n",
       "   'status': 'FINISHED',\n",
       "   'artifact_uri': 's3://testdataupload/3/55ae5fde6287485a91e20d75cb8a07ca/artifacts',\n",
       "   'start_time': '2023-11-16T02:10:50.002000+00:00',\n",
       "   'end_time': '2023-11-16T02:16:11.138000+00:00',\n",
       "   'params.deployment_name': '',\n",
       "   'params.model_uri': '',\n",
       "   'params.software_spec_name': '',\n",
       "   'params.flavor': '',\n",
       "   'params.wml_credentials': '',\n",
       "   'params.endpoint': '',\n",
       "   'params.conda_yaml': '',\n",
       "   'params.pkg_path': '',\n",
       "   'params.rewrite': '',\n",
       "   'params.wml_credentials_file_path': '',\n",
       "   'tags.mlflow.source.name': '/usr/local/lib/python3.9/site-packages/ray/_private/workers/default_worker.py',\n",
       "   'tags.mlflow.project.entryPoint': '',\n",
       "   'tags.mlflow.source.type': 'LOCAL',\n",
       "   'tags.summary': '',\n",
       "   'tags.mlflow.runName': 'skillful-ant-254',\n",
       "   'tags.mlflow.user': 'root',\n",
       "   'tags.mlflow.project.backend': '',\n",
       "   'tags.mlflow.parentRunId': '',\n",
       "   'tags.recipe': 'wml_deployment'}]}"
      ]
     },
     "execution_count": 52,
     "metadata": {},
     "output_type": "execute_result"
    }
   ],
   "source": [
    "summary_data"
   ]
  },
  {
   "cell_type": "code",
   "execution_count": 50,
   "metadata": {},
   "outputs": [],
   "source": [
    "deployment_endpoint = summary_data['summary']['deployment_details']['entity']['status']"
   ]
  },
  {
   "cell_type": "code",
   "execution_count": 51,
   "metadata": {},
   "outputs": [
    {
     "data": {
      "text/plain": [
       "{'online_url': {'url': 'https://cpd-ibm-cpd.modelfactory-9ca4d14d48413d18ce61b80811ba4308-0000.us-south.containers.appdomain.cloud/ml/v4/deployments/d5744d1b-e921-462c-bfe4-d77ca2489968/predictions'},\n",
       " 'serving_urls': ['https://cpd-ibm-cpd.modelfactory-9ca4d14d48413d18ce61b80811ba4308-0000.us-south.containers.appdomain.cloud/ml/v4/deployments/d5744d1b-e921-462c-bfe4-d77ca2489968/predictions'],\n",
       " 'state': 'ready',\n",
       " 'cp4d_urls': 'https://cpd-ibm-cpd.modelfactory-9ca4d14d48413d18ce61b80811ba4308-0000.us-south.containers.appdomain.cloud/ml/v4/deployments/d5744d1b-e921-462c-bfe4-d77ca2489968/predictions?version=2023-11-15',\n",
       " 'cp4d_url': 'https://cpd-ibm-cpd.modelfactory-9ca4d14d48413d18ce61b80811ba4308-0000.us-south.containers.appdomain.cloud/ml/v4/deployments/d5744d1b-e921-462c-bfe4-d77ca2489968/predictions?version=2023-11-16'}"
      ]
     },
     "execution_count": 51,
     "metadata": {},
     "output_type": "execute_result"
    }
   ],
   "source": [
    "deployment_endpoint"
   ]
  },
  {
   "cell_type": "code",
   "execution_count": 53,
   "metadata": {},
   "outputs": [
    {
     "data": {
      "text/plain": [
       "['https://cpd-ibm-cpd.modelfactory-9ca4d14d48413d18ce61b80811ba4308-0000.us-south.containers.appdomain.cloud/ml/v4/deployments/d5744d1b-e921-462c-bfe4-d77ca2489968/predictions']"
      ]
     },
     "execution_count": 53,
     "metadata": {},
     "output_type": "execute_result"
    }
   ],
   "source": [
    "deployment_endpoint['serving_urls']"
   ]
  },
  {
   "cell_type": "code",
   "execution_count": 54,
   "metadata": {},
   "outputs": [],
   "source": [
    "deployment_endpoint['cp4d_url'] = deployment_endpoint['serving_urls'][0]"
   ]
  },
  {
   "cell_type": "code",
   "execution_count": 55,
   "metadata": {},
   "outputs": [
    {
     "data": {
      "text/plain": [
       "'https://cpd-ibm-cpd.modelfactory-9ca4d14d48413d18ce61b80811ba4308-0000.us-south.containers.appdomain.cloud/ml/v4/deployments/d5744d1b-e921-462c-bfe4-d77ca2489968/predictions'"
      ]
     },
     "execution_count": 55,
     "metadata": {},
     "output_type": "execute_result"
    }
   ],
   "source": [
    "deployment_endpoint['cp4d_url']"
   ]
  },
  {
   "cell_type": "code",
   "execution_count": 56,
   "metadata": {},
   "outputs": [],
   "source": [
    "from datetime import datetime\n",
    "# Get the current date\n",
    "current_date = datetime.now()\n",
    "\n",
    "# Format the date and create the string\n",
    "version_string = f\"?version={current_date.strftime('%Y-%m-%d')}\""
   ]
  },
  {
   "cell_type": "code",
   "execution_count": 57,
   "metadata": {},
   "outputs": [],
   "source": [
    "deployment_endpoint['cp4d_url'] = deployment_endpoint['cp4d_url'] + version_string"
   ]
  },
  {
   "cell_type": "code",
   "execution_count": 58,
   "metadata": {},
   "outputs": [
    {
     "data": {
      "text/plain": [
       "{'online_url': {'url': 'https://cpd-ibm-cpd.modelfactory-9ca4d14d48413d18ce61b80811ba4308-0000.us-south.containers.appdomain.cloud/ml/v4/deployments/d5744d1b-e921-462c-bfe4-d77ca2489968/predictions'},\n",
       " 'serving_urls': ['https://cpd-ibm-cpd.modelfactory-9ca4d14d48413d18ce61b80811ba4308-0000.us-south.containers.appdomain.cloud/ml/v4/deployments/d5744d1b-e921-462c-bfe4-d77ca2489968/predictions'],\n",
       " 'state': 'ready',\n",
       " 'cp4d_urls': 'https://cpd-ibm-cpd.modelfactory-9ca4d14d48413d18ce61b80811ba4308-0000.us-south.containers.appdomain.cloud/ml/v4/deployments/d5744d1b-e921-462c-bfe4-d77ca2489968/predictions?version=2023-11-15',\n",
       " 'cp4d_url': 'https://cpd-ibm-cpd.modelfactory-9ca4d14d48413d18ce61b80811ba4308-0000.us-south.containers.appdomain.cloud/ml/v4/deployments/d5744d1b-e921-462c-bfe4-d77ca2489968/predictions?version=2023-11-16'}"
      ]
     },
     "execution_count": 58,
     "metadata": {},
     "output_type": "execute_result"
    }
   ],
   "source": [
    "deployment_endpoint"
   ]
  },
  {
   "cell_type": "code",
   "execution_count": 59,
   "metadata": {},
   "outputs": [],
   "source": [
    "with open(\"../config/deployment_info_three_kpis_loss_rate.yml\",\"w\") as file:\n",
    "    yaml.dump(deployment_endpoint, file)"
   ]
  },
  {
   "cell_type": "code",
   "execution_count": null,
   "metadata": {},
   "outputs": [],
   "source": []
  }
 ],
 "metadata": {
  "kernelspec": {
   "display_name": "Python 3 (ipykernel)",
   "language": "python",
   "name": "python3"
  },
  "language_info": {
   "codemirror_mode": {
    "name": "ipython",
    "version": 3
   },
   "file_extension": ".py",
   "mimetype": "text/x-python",
   "name": "python",
   "nbconvert_exporter": "python",
   "pygments_lexer": "ipython3",
   "version": "3.10.9"
  }
 },
 "nbformat": 4,
 "nbformat_minor": 1
}
