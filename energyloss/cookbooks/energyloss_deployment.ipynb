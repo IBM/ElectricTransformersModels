{
 "cells": [
  {
   "cell_type": "markdown",
   "metadata": {
    "collapsed": true,
    "id": "7833b763-af27-48ee-ae84-254f6055ebdd"
   },
   "source": [
    "# Energy Loss WML Deployment Recipe\n",
    "\n",
    "This notebook demonstrates the use of AI Model Factory recipes to deploy energy loss pipeline to WML"
   ]
  },
  {
   "cell_type": "markdown",
   "metadata": {
    "id": "d28b8309522643658c238a9cd5828175"
   },
   "source": [
    "## Import libraries"
   ]
  },
  {
   "cell_type": "code",
   "execution_count": null,
   "metadata": {
    "id": "18207117e3a44e0983cd4dc1cde9143a"
   },
   "outputs": [],
   "source": [
    "import json\n",
    "import requests\n",
    "import yaml"
   ]
  },
  {
   "cell_type": "markdown",
   "metadata": {
    "id": "ee4cb92bab36420c83b6fcbb30ccf44c"
   },
   "source": [
    "## Set Variables\n",
    "\n",
    "model_uri - URI to fetch the model from \\\n",
    "deployment_name - name to set for the deployment"
   ]
  },
  {
   "cell_type": "code",
   "execution_count": null,
   "metadata": {},
   "outputs": [],
   "source": [
    "deployment_name = \"energyloss_111523_v2_three_kpis_loss_rate_joe\""
   ]
  },
  {
   "cell_type": "code",
   "execution_count": null,
   "metadata": {
    "id": "e53d63c62331482184471d05f623b457"
   },
   "outputs": [],
   "source": [
    "model_factory_config_file_name = \"../config/model_info_three_kpis_loss_rate.yml\"\n",
    "\n",
    "\n",
    "with open(model_factory_config_file_name, 'r') as file:\n",
    "    model_factory_config = yaml.safe_load(file)\n",
    "\n",
    "print(model_factory_config)"
   ]
  },
  {
   "cell_type": "code",
   "execution_count": null,
   "metadata": {},
   "outputs": [],
   "source": [
    "model_uri = model_factory_config['s3_uri']"
   ]
  },
  {
   "cell_type": "code",
   "execution_count": null,
   "metadata": {},
   "outputs": [],
   "source": [
    "print(model_uri)"
   ]
  },
  {
   "cell_type": "code",
   "execution_count": null,
   "metadata": {
    "id": "6d61996d90e84a1ea0b005b66a26ba2e"
   },
   "outputs": [],
   "source": [
    "endpoint_url = \"http://localhost:8000/ibm/modelfactory/service\"\n",
    "credentials_path = \"../../config/credentials/wml-credentials.json\""
   ]
  },
  {
   "cell_type": "code",
   "execution_count": null,
   "metadata": {
    "id": "e7b9319a09494eab999f85e8aa50ba4a"
   },
   "outputs": [],
   "source": [
    "url = endpoint_url + \"/deployment/wml/create\""
   ]
  },
  {
   "cell_type": "markdown",
   "metadata": {
    "id": "03090a1f00034ddb8dc06bd1487d6f41"
   },
   "source": [
    "## Create a request to call WML deployment recipe"
   ]
  },
  {
   "cell_type": "code",
   "execution_count": null,
   "metadata": {
    "id": "09a737f5762d4aba8c6efa6472887d95"
   },
   "outputs": [],
   "source": [
    "payload = {\n",
    "    'endpoint': 'electrical_transformer_deployments',\n",
    "    'deployment_name': deployment_name,\n",
    "    'model_uri': model_uri,\n",
    "    'flavor': 'sklearn',\n",
    "    'software_spec_name': 'modelfactory',\n",
    "    \n",
    "}"
   ]
  },
  {
   "cell_type": "code",
   "execution_count": null,
   "metadata": {
    "id": "14533cdc237a4b108d3491ad9c4d889e"
   },
   "outputs": [],
   "source": [
    "files={\n",
    "      \"wml_credentials_file\": ('wml-credentials.json',open(credentials_path,'rb'),'application/json')\n",
    "}"
   ]
  },
  {
   "cell_type": "code",
   "execution_count": null,
   "metadata": {
    "id": "091fd47b465d48a08a39cf8a3e66a30a"
   },
   "outputs": [],
   "source": [
    "headers = {\n",
    "  'accept': 'application/json'\n",
    "}"
   ]
  },
  {
   "cell_type": "code",
   "execution_count": null,
   "metadata": {
    "id": "9b577f31a38f48af968cae58119e43f0"
   },
   "outputs": [],
   "source": [
    "response = requests.request(\"POST\", url, headers=headers, data=payload, files=files)"
   ]
  },
  {
   "cell_type": "code",
   "execution_count": null,
   "metadata": {
    "id": "233b91f743994a718b79d2ce679a83f1"
   },
   "outputs": [],
   "source": [
    "print(response.text)"
   ]
  },
  {
   "cell_type": "markdown",
   "metadata": {
    "id": "ba96b5fb4bb9488d8e278c44ff87299d"
   },
   "source": [
    "## Check the status of the job"
   ]
  },
  {
   "cell_type": "code",
   "execution_count": null,
   "metadata": {
    "id": "8fa7f458600044508926071df59ec268"
   },
   "outputs": [],
   "source": [
    "job_id = json.loads(response.text)[\"job_id\"]"
   ]
  },
  {
   "cell_type": "code",
   "execution_count": null,
   "metadata": {
    "id": "a11c50476b544f7ca0acba72ff927116"
   },
   "outputs": [],
   "source": [
    "url = endpoint_url + \"/log\" + f\"/{job_id}\""
   ]
  },
  {
   "cell_type": "code",
   "execution_count": null,
   "metadata": {
    "id": "ef2cc1d1ad02496aa0114b9a9047f1cc"
   },
   "outputs": [],
   "source": [
    "response = requests.request(\"GET\", url, headers=headers, data={}, files=[])"
   ]
  },
  {
   "cell_type": "code",
   "execution_count": null,
   "metadata": {
    "id": "1969e8d4e5314aa08e74b3c029f980a6"
   },
   "outputs": [],
   "source": [
    "print(json.loads(response.text)[\"logs\"])"
   ]
  },
  {
   "cell_type": "markdown",
   "metadata": {
    "id": "cf0c392fd72c49c880347373851deeb3"
   },
   "source": [
    "## Get the summary of the job"
   ]
  },
  {
   "cell_type": "code",
   "execution_count": null,
   "metadata": {
    "id": "70eb24d8218d4ec8886f252fdb8a6b19"
   },
   "outputs": [],
   "source": [
    "url = endpoint_url + \"/summary\" + f\"/{job_id}\""
   ]
  },
  {
   "cell_type": "code",
   "execution_count": null,
   "metadata": {
    "id": "2ed2c0191b5a444484d394bfe62edf22"
   },
   "outputs": [],
   "source": [
    "response = requests.request(\"GET\", url, headers=headers, data={}, files=[])"
   ]
  },
  {
   "cell_type": "code",
   "execution_count": null,
   "metadata": {
    "id": "4ae29bfdf20f4d4f8d32779466be5f9e"
   },
   "outputs": [],
   "source": [
    "# More print functions using display \n",
    "from IPython.display import display, HTML\n",
    "import requests\n",
    "\n",
    "def print_job_details(job_id, endpoint_url):\n",
    "    # Extract the job ID and construct the URL\n",
    "    url = endpoint_url + \"/summary/\" + job_id\n",
    "    \n",
    "    # Send a GET request to fetch the job status\n",
    "    get_response = requests.get(url, headers={})\n",
    "    summary_data = get_response.json()\n",
    "    \n",
    "    # Display the job status\n",
    "    display(HTML(print_keys_and_values(summary_data)))\n",
    "\n",
    "    \n",
    "def print_keys_and_values(json_data):\n",
    "    # Start the HTML code\n",
    "    html_code = \"<div style='font-family: Arial; font-size: 1.2em;'>\"\n",
    "    \n",
    "    # Add the job details to the HTML code\n",
    "    html_code += f\"<p>job_id: {json_data['job_id']}</p>\"\n",
    "    if \"status\" in json_data:\n",
    "        html_code += f\"<p>status: {json_data['status']}</p>\"\n",
    "    html_code += \"<br>\"\n",
    "    if \"detailed_summary\" in json_data:\n",
    "        for summary in json_data['detailed_summary']:\n",
    "            html_code += f\"<p>run_id: {summary['run_id']}</p>\"\n",
    "            html_code += f\"<p>experiment_id: {summary['experiment_id']}</p>\"\n",
    "            html_code += f\"<p>status: {summary['status']}</p>\"\n",
    "            html_code += f\"<p>artifact_uri: {summary['artifact_uri']}</p>\"\n",
    "            html_code += f\"<p>artifact_name: {summary.get('tags.artifact_name', 'No artifact_name found')}</p>\"\n",
    "            html_code += \"<br>\"\n",
    "    \n",
    "    # Close the HTML code\n",
    "    html_code += \"</div>\"\n",
    "    \n",
    "    return html_code"
   ]
  },
  {
   "cell_type": "code",
   "execution_count": null,
   "metadata": {
    "id": "f1ab7d51fce04eb48d0a806880531929"
   },
   "outputs": [],
   "source": [
    "print_job_details(job_id, endpoint_url)"
   ]
  },
  {
   "cell_type": "code",
   "execution_count": null,
   "metadata": {
    "id": "22cb01a95686499584b6ecc033c9296b"
   },
   "outputs": [],
   "source": []
  },
  {
   "cell_type": "code",
   "execution_count": null,
   "metadata": {},
   "outputs": [],
   "source": [
    "# Check the summary\n",
    "summary_url = endpoint_url + \"/summary/\"\n",
    "get_response = requests.get(summary_url+job_id, headers={})\n",
    "summary_data = get_response.json()\n",
    "print(summary_data)"
   ]
  },
  {
   "cell_type": "code",
   "execution_count": null,
   "metadata": {},
   "outputs": [],
   "source": [
    "summary_data"
   ]
  },
  {
   "cell_type": "code",
   "execution_count": null,
   "metadata": {},
   "outputs": [],
   "source": [
    "deployment_endpoint = summary_data['summary']['deployment_details']['entity']['status']"
   ]
  },
  {
   "cell_type": "code",
   "execution_count": null,
   "metadata": {},
   "outputs": [],
   "source": [
    "deployment_endpoint"
   ]
  },
  {
   "cell_type": "code",
   "execution_count": null,
   "metadata": {},
   "outputs": [],
   "source": [
    "deployment_endpoint['serving_urls']"
   ]
  },
  {
   "cell_type": "code",
   "execution_count": null,
   "metadata": {},
   "outputs": [],
   "source": [
    "deployment_endpoint['cp4d_url'] = deployment_endpoint['serving_urls'][0]"
   ]
  },
  {
   "cell_type": "code",
   "execution_count": null,
   "metadata": {},
   "outputs": [],
   "source": [
    "deployment_endpoint['cp4d_url']"
   ]
  },
  {
   "cell_type": "code",
   "execution_count": null,
   "metadata": {},
   "outputs": [],
   "source": [
    "from datetime import datetime\n",
    "# Get the current date\n",
    "current_date = datetime.now()\n",
    "\n",
    "# Format the date and create the string\n",
    "version_string = f\"?version={current_date.strftime('%Y-%m-%d')}\""
   ]
  },
  {
   "cell_type": "code",
   "execution_count": null,
   "metadata": {},
   "outputs": [],
   "source": [
    "deployment_endpoint['cp4d_url'] = deployment_endpoint['cp4d_url'] + version_string"
   ]
  },
  {
   "cell_type": "code",
   "execution_count": null,
   "metadata": {},
   "outputs": [],
   "source": [
    "deployment_endpoint"
   ]
  },
  {
   "cell_type": "code",
   "execution_count": null,
   "metadata": {},
   "outputs": [],
   "source": [
    "with open(\"../config/deployment_info_three_kpis_loss_rate.yml\",\"w\") as file:\n",
    "    yaml.dump(deployment_endpoint, file)"
   ]
  },
  {
   "cell_type": "code",
   "execution_count": null,
   "metadata": {},
   "outputs": [],
   "source": []
  }
 ],
 "metadata": {
  "kernelspec": {
   "display_name": "Python 3 (ipykernel)",
   "language": "python",
   "name": "python3"
  },
  "language_info": {
   "codemirror_mode": {
    "name": "ipython",
    "version": 3
   },
   "file_extension": ".py",
   "mimetype": "text/x-python",
   "name": "python",
   "nbconvert_exporter": "python",
   "pygments_lexer": "ipython3",
   "version": "3.10.9"
  }
 },
 "nbformat": 4,
 "nbformat_minor": 1
}
