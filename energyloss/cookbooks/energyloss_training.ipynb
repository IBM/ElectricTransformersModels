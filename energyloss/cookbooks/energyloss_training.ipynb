{
 "cells": [
  {
   "cell_type": "code",
   "execution_count": null,
   "metadata": {
    "id": "fd003cc9-2fc0-47b4-9ffa-5fd5e1b337d0"
   },
   "outputs": [],
   "source": [
    "###############\n",
    "# Service version : 1.2.2\n",
    "# Language        : Python/Jupyter"
   ]
  },
  {
   "cell_type": "markdown",
   "metadata": {
    "id": "c475f171a368439c9a10c3b5868308fb"
   },
   "source": [
    "# Energy Loss Training\n",
    "This recipe performs the training of a model that calculates an electrical transformer's the load factor, loss factor and energy loss in any given range of time. \n",
    "\n",
    "\n",
    "The data requirements are power quality data that contain timestamps, active power readings, and completion of the provided configuration file."
   ]
  },
  {
   "cell_type": "markdown",
   "metadata": {
    "id": "0dd48c3548fc4072927e9b5414499d2c"
   },
   "source": [
    "## Input\n",
    "The data requirements for running the recipe for a given asset are Timestamps, and Active Power measurements:\n",
    "\n",
    "\n",
    "| **asset_id** | **DeviceTimeStamp** | **Active Power (KW)** |\n",
    "|--------------|---------------------|--------|\n",
    "| 9010        | 2019-06-27T10:51    | 78.23312|\n",
    "| 9010        | 2019-06-27T10:52    | 76.65175|\n",
    "| 9010        | 2019-06-27T10:53    | 78.66275|\n",
    "| 9010        | 2019-06-27T10:53    | 76.65175|"
   ]
  },
  {
   "cell_type": "markdown",
   "metadata": {
    "id": "826c14a4aa624285ae8e0c38e3ca341d"
   },
   "source": [
    "## Output\n",
    "\n",
    "\n",
    "Load Factor: The ratio of the transformer's average load to its maximum rated capacity, indicating how efficiently it is utilized.\n",
    "\n",
    "Loss Factor: A measure of the transformer's energy loss during operation, accounting for factors such as resistance, core, and stray load losses as per either Gustafson's or Buller & Woodrow's method.\n",
    "\n",
    "Estimated Energy Loss: A calculated value representing the anticipated energy loss in the transformer during a given period, based on its load factor and peak power.\n"
   ]
  },
  {
   "cell_type": "markdown",
   "metadata": {
    "id": "47a0986f6f0d491380bc004e51d64086"
   },
   "source": [
    "| asset_id | period | load_factor | loss_factor | energyloss (WH) |\n",
    "|-------------|-------------|-------------|-------------|-------------|\n",
    "|9010| 2019-06-25  | 0.353592    | 0.137005    | 345.253615 |\n",
    "|9010| 2019-07-25  | 0.471900    | 0.237904    | 599.518190 |\n",
    "|9010| 2019-08-24  | 0.512072    | 0.278126    | 700.876400 |\n",
    "|9010| 2019-09-23  | 0.525415    | 0.292146    | 736.208374 |"
   ]
  },
  {
   "cell_type": "markdown",
   "metadata": {
    "id": "3ce55bda8f964f319af8829ac6416122"
   },
   "source": [
    "# Import Libraries & Functions"
   ]
  },
  {
   "cell_type": "code",
   "execution_count": null,
   "metadata": {
    "id": "b410bf90f86343339c742a270b29d4fd"
   },
   "outputs": [],
   "source": [
    "#Imports\n",
    "import numpy as np\n",
    "import pandas as pd\n",
    "import matplotlib.pyplot as plt\n",
    "import time"
   ]
  },
  {
   "cell_type": "code",
   "execution_count": null,
   "metadata": {
    "id": "41527f379a4347418d365f6b4373004e"
   },
   "outputs": [],
   "source": [
    "# Print functions\n",
    "def print_job_status(job_id, endpoint_url):\n",
    "    # Extract the job ID and construct the URL\n",
    "    url = endpoint_url + \"/summary/\" + job_id\n",
    "    \n",
    "    # Send a GET request to fetch the job status\n",
    "    get_response = requests.get(url, headers={})\n",
    "    status_data = get_response.json()\n",
    "    \n",
    "    # Print the job status\n",
    "    if \"status\" in status_data:\n",
    "        print(\"The status of job {} is {}.\".format(job_id, status_data['status']))\n",
    "    else:\n",
    "        print(status_data)\n",
    "    \n",
    "def print_all_status(job_id, endpoint_url):\n",
    "    # Extract the job ID and construct the URL\n",
    "    url = endpoint_url + \"/summary/\" + job_id\n",
    "    \n",
    "    # Send a GET request to fetch the job status\n",
    "    get_response = requests.get(url, headers={})\n",
    "    status_data = get_response.json()\n",
    "    \n",
    "    # Print the job status\n",
    "    print(status_data)\n"
   ]
  },
  {
   "cell_type": "code",
   "execution_count": null,
   "metadata": {
    "id": "d359c6a3b0c04cbd86ba13e2b0ccbad9"
   },
   "outputs": [],
   "source": [
    "# More print functions using display \n",
    "from IPython.display import display, HTML\n",
    "import requests\n",
    "\n",
    "def print_job_details(job_id, endpoint_url):\n",
    "    # Extract the job ID and construct the URL\n",
    "    url = endpoint_url + \"/summary/\" + job_id\n",
    "    \n",
    "    # Send a GET request to fetch the job status\n",
    "    get_response = requests.get(url, headers={})\n",
    "    summary_data = get_response.json()\n",
    "    \n",
    "    # Display the job status\n",
    "    display(HTML(print_keys_and_values(summary_data)))\n",
    "    return summary_data\n",
    "\n",
    "    \n",
    "def print_keys_and_values(json_data):\n",
    "    # Start the HTML code\n",
    "    html_code = \"<div style='font-family: Arial; font-size: 1.2em;'>\"\n",
    "    \n",
    "    # Add the job details to the HTML code\n",
    "    html_code += f\"<p>job_id: {json_data['job_id']}</p>\"\n",
    "    if \"status\" in json_data:\n",
    "        html_code += f\"<p>status: {json_data['status']}</p>\"\n",
    "    html_code += \"<br>\"\n",
    "    if \"detailed_summary\" in json_data:\n",
    "        for summary in json_data['detailed_summary']:\n",
    "            html_code += f\"<p>run_id: {summary['run_id']}</p>\"\n",
    "            html_code += f\"<p>experiment_id: {summary['experiment_id']}</p>\"\n",
    "            if \"status\" in summary:\n",
    "                html_code += f\"<p>status: {summary['status']}</p>\"\n",
    "            html_code += f\"<p>artifact_uri: {summary['artifact_uri']}</p>\"\n",
    "            html_code += f\"<p>artifact_name: {summary.get('tags.artifact_name', 'No artifact_name found')}</p>\"\n",
    "            html_code += \"<br>\"\n",
    "    \n",
    "    # Close the HTML code\n",
    "    html_code += \"</div>\"\n",
    "    \n",
    "    return html_code\n"
   ]
  },
  {
   "cell_type": "markdown",
   "metadata": {
    "id": "330469d285b6405a8bcdc7849d2079b0"
   },
   "source": [
    "# Loading  Dataset"
   ]
  },
  {
   "cell_type": "markdown",
   "metadata": {
    "id": "df2350f20cfb45ec82c6b21736b27ec7"
   },
   "source": [
    "Loading the power quality dataset from the local project space"
   ]
  },
  {
   "cell_type": "code",
   "execution_count": null,
   "metadata": {
    "id": "393f37d1c03c4a958f56460006fb1cf0"
   },
   "outputs": [],
   "source": [
    "df = pd.read_csv(\"../data/training.csv\")\n",
    "df[\"Timestamp\"] = df[\"Timestamp\"].astype(str)\n",
    "df.head(10)"
   ]
  },
  {
   "cell_type": "markdown",
   "metadata": {
    "id": "eea4638e2f4341298f524e32a5933ece"
   },
   "source": [
    "# Energy Loss Deployment"
   ]
  },
  {
   "cell_type": "markdown",
   "metadata": {
    "id": "b8e26869dec246ae875d19f035b898a3"
   },
   "source": [
    "## Defining Paths"
   ]
  },
  {
   "cell_type": "code",
   "execution_count": null,
   "metadata": {
    "id": "bbfcfded66554860873936a932bd363c"
   },
   "outputs": [],
   "source": [
    "# Define the file paths\n",
    "endpoint_url = \"http://localhost:8000/ibm/modelfactory/service\"\n",
    "config_file_path = \"../config/parameter_config_three_kpis_loss_rate.yaml\"\n",
    "data_file_path = \"../data/training.csv\""
   ]
  },
  {
   "cell_type": "markdown",
   "metadata": {
    "id": "33b4abb6ddea42498612df7ebdcc22c0"
   },
   "source": [
    "## Preparation of Configuration File"
   ]
  },
  {
   "cell_type": "markdown",
   "metadata": {
    "id": "df8187bce9f5402ab9898baa77ccafcf"
   },
   "source": [
    "A requirement of the recipe is preparation of the configuration file for training. \n",
    "\n",
    "\n",
    "Information including column specification, loss factor calculation method, the option to use an a priori peak power are all options that can be configured.\n",
    "\n",
    "\n",
    "Most important the \"output\" can be changed to \"energy_loss\", \"load_factor\" or \"loss_factor\"\n",
    "\n",
    "For more detail for preparing the configuration file see the [documentation](https://github.ibm.com/srom/ModelFactory/blob/development/model_factory/recipes/electrical_transformer/docs/energyloss.md)"
   ]
  },
  {
   "cell_type": "code",
   "execution_count": null,
   "metadata": {
    "id": "876e25f6c27e47b1bc789370ea81b03b"
   },
   "outputs": [],
   "source": [
    "import requests\n",
    "\n",
    "# Read the content of the config file\n",
    "with open(config_file_path, 'r') as config_file:\n",
    "    config_content = config_file.read()\n",
    "\n",
    "# Display the content\n",
    "print(config_content)"
   ]
  },
  {
   "cell_type": "markdown",
   "metadata": {
    "id": "a97e1ea93e874ac08d9d2bb176feaa0d"
   },
   "source": [
    "## POST Response"
   ]
  },
  {
   "cell_type": "code",
   "execution_count": null,
   "metadata": {
    "id": "cf44ddd4-43ed-453c-bad9-33ecbffaa7ed"
   },
   "outputs": [],
   "source": [
    "import requests\n",
    "\n",
    "files = {\n",
    "    \"data_file\": (\"training.csv\", open(data_file_path, 'rb')),\n",
    "    \"config_file\": (\"parameter_config.yaml\", open(config_file_path, 'rb')),    \n",
    "}\n",
    "\n",
    "url = endpoint_url + \"/recipe/electrical-transformer/kpi/energyloss\"\n",
    "post_response = requests.request(\"POST\", url, headers={}, data={}, files=files)"
   ]
  },
  {
   "cell_type": "code",
   "execution_count": null,
   "metadata": {
    "id": "7b2be84a-f6b4-4b45-861e-d4f8541550cf"
   },
   "outputs": [],
   "source": [
    "post_r_json = post_response.json()\n",
    "\n",
    "anomaly_service_jobId = None\n",
    "\n",
    "if 'jobId' in post_r_json:\n",
    "    anomaly_service_jobId = post_r_json['jobId']\n",
    "    print ('submitted successfully job : ', post_r_json['jobId'])\n",
    "else:\n",
    "    print (post_r_json)\n",
    "time.sleep(5)"
   ]
  },
  {
   "cell_type": "markdown",
   "metadata": {},
   "source": [
    "## GET Response  - Keep Refresh it for a while until seeing the STATUS changed to DONE"
   ]
  },
  {
   "cell_type": "markdown",
   "metadata": {},
   "source": [
    "The status of the job may be running, flagged by INITALIZING or EXECUTING\n",
    "\n",
    "After a while the model recipe training is complete, and the STATUS changes to DONE"
   ]
  },
  {
   "cell_type": "code",
   "execution_count": null,
   "metadata": {},
   "outputs": [],
   "source": [
    "log_url = endpoint_url + \"/log/\"\n",
    "job_id = post_r_json['job_id']"
   ]
  },
  {
   "cell_type": "code",
   "execution_count": null,
   "metadata": {},
   "outputs": [],
   "source": [
    "print(log_url + job_id)"
   ]
  },
  {
   "cell_type": "markdown",
   "metadata": {
    "id": "5cbe57589c8d4db49bad58d0f3a99f43"
   },
   "source": [
    "## GET Response"
   ]
  },
  {
   "cell_type": "code",
   "execution_count": null,
   "metadata": {
    "id": "6b5b8e5a-69bd-4475-84c7-2ba67afb886b"
   },
   "outputs": [],
   "source": [
    "job_id = post_r_json[\"job_id\"]\n",
    "# Get Status\n",
    "print_job_status(job_id,endpoint_url)"
   ]
  },
  {
   "cell_type": "markdown",
   "metadata": {
    "id": "59d9803bc69b4fc986044a2a8bddbe65"
   },
   "source": [
    "The status of the job may be running, flagged by INITALIZING or EXECUTING\n",
    "\n",
    "After a while the model recipe training is complete, and the STATUS changes to DONE"
   ]
  },
  {
   "cell_type": "code",
   "execution_count": null,
   "metadata": {
    "id": "2985e21c-f3d5-4de9-a7cc-c2edffcb6c26"
   },
   "outputs": [],
   "source": [
    "# Get Status\n",
    "print_job_status(job_id,endpoint_url)"
   ]
  },
  {
   "cell_type": "code",
   "execution_count": null,
   "metadata": {
    "id": "171793bf1263465e800fc999c7e17d6f"
   },
   "outputs": [],
   "source": [
    "# Get selected details\n",
    "json_data = print_job_details(job_id,endpoint_url)\n",
    "\n",
    "# Get all details\n",
    "\n",
    "print_all_status(job_id, endpoint_url)"
   ]
  },
  {
   "cell_type": "markdown",
   "metadata": {},
   "source": [
    "### Saving details for deployment"
   ]
  },
  {
   "cell_type": "code",
   "execution_count": null,
   "metadata": {},
   "outputs": [],
   "source": [
    "json_data[\"detailed_summary\"]"
   ]
  },
  {
   "cell_type": "code",
   "execution_count": null,
   "metadata": {},
   "outputs": [],
   "source": [
    "json_data[\"detailed_summary\"]"
   ]
  },
  {
   "cell_type": "code",
   "execution_count": null,
   "metadata": {},
   "outputs": [],
   "source": [
    "import yaml\n",
    "if 'status' in json_data:\n",
    "    if json_data['status'] == 'DONE':\n",
    "        for summary in json_data[\"detailed_summary\"]:\n",
    "            if summary[\"params.output_artifact_name\"] != \"\":\n",
    "                s3_uri = summary[\"artifact_uri\"] + \"/\" + summary[\"params.output_artifact_name\"]\n",
    "            if summary['tags.artifact_name']!=\"\":\n",
    "                model_uri = \"runs:/\" + summary['run_id'] + \"/\" + summary['tags.artifact_name']\n",
    "        output_data = {\n",
    "            \"model_uri\" : model_uri,\n",
    "            \"train_job_id\" : job_id,\n",
    "            \"s3_uri\": s3_uri,\n",
    "        }\n",
    "        with open(\"../config/model_info.yml\",\"w\") as file:\n",
    "            yaml.dump(output_data, file)\n",
    "        output_data"
   ]
  },
  {
   "cell_type": "code",
   "execution_count": null,
   "metadata": {},
   "outputs": [],
   "source": [
    "output_data"
   ]
  },
  {
   "cell_type": "code",
   "execution_count": null,
   "metadata": {},
   "outputs": [],
   "source": []
  }
 ],
 "metadata": {
  "kernelspec": {
   "display_name": "mf",
   "language": "python",
   "name": "mf"
  },
  "language_info": {
   "codemirror_mode": {
    "name": "ipython",
    "version": 3
   },
   "file_extension": ".py",
   "mimetype": "text/x-python",
   "name": "python",
   "nbconvert_exporter": "python",
   "pygments_lexer": "ipython3",
   "version": "3.9.12"
  }
 },
 "nbformat": 4,
 "nbformat_minor": 1
}
