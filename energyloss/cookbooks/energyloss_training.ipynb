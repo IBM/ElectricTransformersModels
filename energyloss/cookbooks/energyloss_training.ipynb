{
 "cells": [
  {
   "cell_type": "code",
   "execution_count": 24,
   "metadata": {
    "id": "fd003cc9-2fc0-47b4-9ffa-5fd5e1b337d0"
   },
   "outputs": [],
   "source": [
    "###############\n",
    "# Service version : 1.2.2\n",
    "# Language        : Python/Jupyter"
   ]
  },
  {
   "cell_type": "markdown",
   "metadata": {
    "id": "c475f171a368439c9a10c3b5868308fb"
   },
   "source": [
    "# Energy Loss Training\n",
    "This recipe performs the training of a model that calculates an electrical transformer's the load factor, loss factor and energy loss in any given range of time. \n",
    "\n",
    "\n",
    "The data requirements are power quality data that contain timestamps, active power readings, and completion of the provided configuration file."
   ]
  },
  {
   "cell_type": "markdown",
   "metadata": {
    "id": "0dd48c3548fc4072927e9b5414499d2c"
   },
   "source": [
    "## Input\n",
    "The data requirements for running the recipe for a given asset are Timestamps, and Active Power measurements:\n",
    "\n",
    "\n",
    "| **asset_id** | **DeviceTimeStamp** | **Active Power (KW)** |\n",
    "|--------------|---------------------|--------|\n",
    "| 9010        | 2019-06-27T10:51    | 78.23312|\n",
    "| 9010        | 2019-06-27T10:52    | 76.65175|\n",
    "| 9010        | 2019-06-27T10:53    | 78.66275|\n",
    "| 9010        | 2019-06-27T10:53    | 76.65175|"
   ]
  },
  {
   "cell_type": "markdown",
   "metadata": {
    "id": "826c14a4aa624285ae8e0c38e3ca341d"
   },
   "source": [
    "## Output\n",
    "\n",
    "\n",
    "Load Factor: The ratio of the transformer's average load to its maximum rated capacity, indicating how efficiently it is utilized.\n",
    "\n",
    "Loss Factor: A measure of the transformer's energy loss during operation, accounting for factors such as resistance, core, and stray load losses as per either Gustafson's or Buller & Woodrow's method.\n",
    "\n",
    "Estimated Energy Loss: A calculated value representing the anticipated energy loss in the transformer during a given period, based on its load factor and peak power.\n"
   ]
  },
  {
   "cell_type": "markdown",
   "metadata": {
    "id": "47a0986f6f0d491380bc004e51d64086"
   },
   "source": [
    "| asset_id | period | load_factor | loss_factor | energyloss (WH) |\n",
    "|-------------|-------------|-------------|-------------|-------------|\n",
    "|9010| 2019-06-25  | 0.353592    | 0.137005    | 345.253615 |\n",
    "|9010| 2019-07-25  | 0.471900    | 0.237904    | 599.518190 |\n",
    "|9010| 2019-08-24  | 0.512072    | 0.278126    | 700.876400 |\n",
    "|9010| 2019-09-23  | 0.525415    | 0.292146    | 736.208374 |"
   ]
  },
  {
   "cell_type": "markdown",
   "metadata": {
    "id": "3ce55bda8f964f319af8829ac6416122"
   },
   "source": [
    "# Import Libraries & Functions"
   ]
  },
  {
   "cell_type": "code",
   "execution_count": 2,
   "metadata": {
    "id": "b410bf90f86343339c742a270b29d4fd"
   },
   "outputs": [],
   "source": [
    "#Imports\n",
    "import numpy as np\n",
    "import pandas as pd\n",
    "import matplotlib.pyplot as plt\n",
    "import time"
   ]
  },
  {
   "cell_type": "code",
   "execution_count": 3,
   "metadata": {
    "id": "41527f379a4347418d365f6b4373004e"
   },
   "outputs": [],
   "source": [
    "# Print functions\n",
    "def print_job_status(job_id, endpoint_url):\n",
    "    # Extract the job ID and construct the URL\n",
    "    url = endpoint_url + \"/summary/\" + job_id\n",
    "    \n",
    "    # Send a GET request to fetch the job status\n",
    "    get_response = requests.get(url, headers={})\n",
    "    status_data = get_response.json()\n",
    "    \n",
    "    # Print the job status\n",
    "    if \"status\" in status_data:\n",
    "        print(\"The status of job {} is {}.\".format(job_id, status_data['status']))\n",
    "    else:\n",
    "        print(status_data)\n",
    "    \n",
    "def print_all_status(job_id, endpoint_url):\n",
    "    # Extract the job ID and construct the URL\n",
    "    url = endpoint_url + \"/summary/\" + job_id\n",
    "    \n",
    "    # Send a GET request to fetch the job status\n",
    "    get_response = requests.get(url, headers={})\n",
    "    status_data = get_response.json()\n",
    "    \n",
    "    # Print the job status\n",
    "    print(status_data)\n"
   ]
  },
  {
   "cell_type": "code",
   "execution_count": 4,
   "metadata": {
    "id": "d359c6a3b0c04cbd86ba13e2b0ccbad9"
   },
   "outputs": [],
   "source": [
    "# More print functions using display \n",
    "from IPython.display import display, HTML\n",
    "import requests\n",
    "\n",
    "def print_job_details(job_id, endpoint_url):\n",
    "    # Extract the job ID and construct the URL\n",
    "    url = endpoint_url + \"/summary/\" + job_id\n",
    "    \n",
    "    # Send a GET request to fetch the job status\n",
    "    get_response = requests.get(url, headers={})\n",
    "    summary_data = get_response.json()\n",
    "    \n",
    "    # Display the job status\n",
    "    display(HTML(print_keys_and_values(summary_data)))\n",
    "    return summary_data\n",
    "\n",
    "    \n",
    "def print_keys_and_values(json_data):\n",
    "    # Start the HTML code\n",
    "    html_code = \"<div style='font-family: Arial; font-size: 1.2em;'>\"\n",
    "    \n",
    "    # Add the job details to the HTML code\n",
    "    html_code += f\"<p>job_id: {json_data['job_id']}</p>\"\n",
    "    if \"status\" in json_data:\n",
    "        html_code += f\"<p>status: {json_data['status']}</p>\"\n",
    "    html_code += \"<br>\"\n",
    "    if \"detailed_summary\" in json_data:\n",
    "        for summary in json_data['detailed_summary']:\n",
    "            html_code += f\"<p>run_id: {summary['run_id']}</p>\"\n",
    "            html_code += f\"<p>experiment_id: {summary['experiment_id']}</p>\"\n",
    "            if \"status\" in summary:\n",
    "                html_code += f\"<p>status: {summary['status']}</p>\"\n",
    "            html_code += f\"<p>artifact_uri: {summary['artifact_uri']}</p>\"\n",
    "            html_code += f\"<p>artifact_name: {summary.get('tags.artifact_name', 'No artifact_name found')}</p>\"\n",
    "            html_code += \"<br>\"\n",
    "    \n",
    "    # Close the HTML code\n",
    "    html_code += \"</div>\"\n",
    "    \n",
    "    return html_code\n"
   ]
  },
  {
   "cell_type": "markdown",
   "metadata": {
    "id": "330469d285b6405a8bcdc7849d2079b0"
   },
   "source": [
    "# Loading  Dataset"
   ]
  },
  {
   "cell_type": "markdown",
   "metadata": {
    "id": "df2350f20cfb45ec82c6b21736b27ec7"
   },
   "source": [
    "Loading the power quality dataset from the local project space"
   ]
  },
  {
   "cell_type": "code",
   "execution_count": 5,
   "metadata": {
    "id": "393f37d1c03c4a958f56460006fb1cf0"
   },
   "outputs": [
    {
     "data": {
      "text/html": [
       "<div>\n",
       "<style scoped>\n",
       "    .dataframe tbody tr th:only-of-type {\n",
       "        vertical-align: middle;\n",
       "    }\n",
       "\n",
       "    .dataframe tbody tr th {\n",
       "        vertical-align: top;\n",
       "    }\n",
       "\n",
       "    .dataframe thead th {\n",
       "        text-align: right;\n",
       "    }\n",
       "</style>\n",
       "<table border=\"1\" class=\"dataframe\">\n",
       "  <thead>\n",
       "    <tr style=\"text-align: right;\">\n",
       "      <th></th>\n",
       "      <th>Timestamp</th>\n",
       "      <th>Active Power (KW)</th>\n",
       "    </tr>\n",
       "  </thead>\n",
       "  <tbody>\n",
       "    <tr>\n",
       "      <th>0</th>\n",
       "      <td>2022-07-08 10:51:00</td>\n",
       "      <td>0.0</td>\n",
       "    </tr>\n",
       "    <tr>\n",
       "      <th>1</th>\n",
       "      <td>2022-07-08 10:52:00</td>\n",
       "      <td>0.0</td>\n",
       "    </tr>\n",
       "    <tr>\n",
       "      <th>2</th>\n",
       "      <td>2022-07-08 10:53:00</td>\n",
       "      <td>0.0</td>\n",
       "    </tr>\n",
       "    <tr>\n",
       "      <th>3</th>\n",
       "      <td>2022-07-08 10:53:00</td>\n",
       "      <td>0.0</td>\n",
       "    </tr>\n",
       "    <tr>\n",
       "      <th>4</th>\n",
       "      <td>2022-07-08 10:56:00</td>\n",
       "      <td>0.0</td>\n",
       "    </tr>\n",
       "    <tr>\n",
       "      <th>5</th>\n",
       "      <td>2022-07-08 10:56:00</td>\n",
       "      <td>0.0</td>\n",
       "    </tr>\n",
       "    <tr>\n",
       "      <th>6</th>\n",
       "      <td>2022-07-08 10:57:00</td>\n",
       "      <td>0.0</td>\n",
       "    </tr>\n",
       "    <tr>\n",
       "      <th>7</th>\n",
       "      <td>2022-07-08 11:01:00</td>\n",
       "      <td>0.0</td>\n",
       "    </tr>\n",
       "    <tr>\n",
       "      <th>8</th>\n",
       "      <td>2022-07-08 11:01:00</td>\n",
       "      <td>0.0</td>\n",
       "    </tr>\n",
       "    <tr>\n",
       "      <th>9</th>\n",
       "      <td>2022-07-08 11:10:00</td>\n",
       "      <td>0.0</td>\n",
       "    </tr>\n",
       "  </tbody>\n",
       "</table>\n",
       "</div>"
      ],
      "text/plain": [
       "             Timestamp  Active Power (KW)\n",
       "0  2022-07-08 10:51:00                0.0\n",
       "1  2022-07-08 10:52:00                0.0\n",
       "2  2022-07-08 10:53:00                0.0\n",
       "3  2022-07-08 10:53:00                0.0\n",
       "4  2022-07-08 10:56:00                0.0\n",
       "5  2022-07-08 10:56:00                0.0\n",
       "6  2022-07-08 10:57:00                0.0\n",
       "7  2022-07-08 11:01:00                0.0\n",
       "8  2022-07-08 11:01:00                0.0\n",
       "9  2022-07-08 11:10:00                0.0"
      ]
     },
     "execution_count": 5,
     "metadata": {},
     "output_type": "execute_result"
    }
   ],
   "source": [
    "df = pd.read_csv(\"../data/training.csv\")\n",
    "df[\"Timestamp\"] = df[\"Timestamp\"].astype(str)\n",
    "df.head(10)"
   ]
  },
  {
   "cell_type": "markdown",
   "metadata": {
    "id": "eea4638e2f4341298f524e32a5933ece"
   },
   "source": [
    "# Energy Loss Deployment"
   ]
  },
  {
   "cell_type": "markdown",
   "metadata": {
    "id": "b8e26869dec246ae875d19f035b898a3"
   },
   "source": [
    "## Defining Paths"
   ]
  },
  {
   "cell_type": "code",
   "execution_count": 6,
   "metadata": {
    "id": "bbfcfded66554860873936a932bd363c"
   },
   "outputs": [],
   "source": [
    "# Define the file paths\n",
    "endpoint_url = \"http://localhost:8000/ibm/modelfactory/service\"\n",
    "config_file_path = \"../config/parameter_config_three_kpis_loss_rate.yaml\"\n",
    "data_file_path = \"../data/training.csv\""
   ]
  },
  {
   "cell_type": "markdown",
   "metadata": {
    "id": "33b4abb6ddea42498612df7ebdcc22c0"
   },
   "source": [
    "## Preparation of Configuration File"
   ]
  },
  {
   "cell_type": "markdown",
   "metadata": {
    "id": "df8187bce9f5402ab9898baa77ccafcf"
   },
   "source": [
    "A requirement of the recipe is preparation of the configuration file for training. \n",
    "\n",
    "\n",
    "Information including column specification, loss factor calculation method, the option to use an a priori peak power are all options that can be configured.\n",
    "\n",
    "\n",
    "Most important the \"output\" can be changed to \"energy_loss\", \"load_factor\" or \"loss_factor\"\n",
    "\n",
    "For more detail for preparing the configuration file see the [documentation](https://github.ibm.com/srom/ModelFactory/blob/development/model_factory/recipes/electrical_transformer/docs/energyloss.md)"
   ]
  },
  {
   "cell_type": "code",
   "execution_count": 7,
   "metadata": {
    "id": "876e25f6c27e47b1bc789370ea81b03b"
   },
   "outputs": [
    {
     "name": "stdout",
     "output_type": "stream",
     "text": [
      "dataset_param:\n",
      "  timestamp_col_name: 'Timestamp' # the dataset column specifies the sampling time\n",
      "  power_col_name: 'Active Power (KW)' # the dataset column specifies the power of the electrical transformer\n",
      "transformer:\n",
      "  power_unit: 'KW'  # All the output is based on this unit\n",
      "  transformer_rating: 100 # The maximum capacity to handle power without exceeding its design temperature\n",
      "  peak_power: 104.45  # The peak value of the power transferred\n",
      "estimate_loss_factor_method:  # estimate the power loss factor\n",
      "  smooth_time_period: '1h'   # Smooth time range to allow the loss factor to be smoothed (medium is used), say '1h' or '2H'\n",
      "  method: 'gustafson'  # Please choose  either 'gustafson' or 'buller_woodrow'\n",
      "  gustafson_parameter: 1.912 # only used for 'gustafson' method, should be 1.912 all the time (only pertain to USA)\n",
      "  buller_woodrow_parameter: 0.7 # only used for 'buller_woodrow' method, say 0.7, can be estimated (see README file)\n",
      "energyloss_output:\n",
      "  full_load_winding_loss: 3.5  # the energy loss in the electrical transformer's windings when operating at full load.\n",
      "  type: 'energyloss_rate'  # Can be 'energyloss_rate' with output as 'w', 'kw' or 'mw' or 'energyloss' with output as 'wh', 'kwh', or 'mwh')\n",
      "  aggregation_time_period: '1D'  # Only required and appliable when type is 'energyloss', say '1H', '2H' or '1D'\n",
      "list_of_outputs:   # Please select from the following list load_factor, loss_factor and energyloss\n",
      "  - load_factor\n",
      "  - loss_factor\n",
      "  - energyloss\n"
     ]
    }
   ],
   "source": [
    "import requests\n",
    "\n",
    "# Read the content of the config file\n",
    "with open(config_file_path, 'r') as config_file:\n",
    "    config_content = config_file.read()\n",
    "\n",
    "# Display the content\n",
    "print(config_content)"
   ]
  },
  {
   "cell_type": "markdown",
   "metadata": {
    "id": "a97e1ea93e874ac08d9d2bb176feaa0d"
   },
   "source": [
    "## POST Response"
   ]
  },
  {
   "cell_type": "code",
   "execution_count": 8,
   "metadata": {
    "id": "cf44ddd4-43ed-453c-bad9-33ecbffaa7ed"
   },
   "outputs": [],
   "source": [
    "import requests\n",
    "\n",
    "files = {\n",
    "    \"data_file\": (\"training.csv\", open(data_file_path, 'rb')),\n",
    "    \"config_file\": (\"parameter_config.yaml\", open(config_file_path, 'rb')),    \n",
    "}\n",
    "\n",
    "url = endpoint_url + \"/recipe/electrical-transformer/kpi/energyloss\"\n",
    "post_response = requests.request(\"POST\", url, headers={}, data={}, files=files)"
   ]
  },
  {
   "cell_type": "code",
   "execution_count": 15,
   "metadata": {
    "id": "7b2be84a-f6b4-4b45-861e-d4f8541550cf"
   },
   "outputs": [
    {
     "name": "stdout",
     "output_type": "stream",
     "text": [
      "{'job_id': 'e7f53652-ae73-413f-8d3d-67af26eea92b', 'message': 'Job e7f53652-ae73-413f-8d3d-67af26eea92b was submitted.', 'status': 'INITIALIZING'}\n"
     ]
    }
   ],
   "source": [
    "post_r_json = post_response.json()\n",
    "\n",
    "anomaly_service_jobId = None\n",
    "\n",
    "if 'jobId' in post_r_json:\n",
    "    anomaly_service_jobId = post_r_json['jobId']\n",
    "    print ('submitted successfully job : ', post_r_json['jobId'])\n",
    "else:\n",
    "    print (post_r_json)\n",
    "time.sleep(5)"
   ]
  },
  {
   "cell_type": "markdown",
   "metadata": {},
   "source": [
    "## GET Response  - Keep Refresh it for a while until seeing the STATUS changed to DONE"
   ]
  },
  {
   "cell_type": "markdown",
   "metadata": {},
   "source": [
    "The status of the job may be running, flagged by INITALIZING or EXECUTING\n",
    "\n",
    "After a while the model recipe training is complete, and the STATUS changes to DONE"
   ]
  },
  {
   "cell_type": "code",
   "execution_count": 16,
   "metadata": {},
   "outputs": [],
   "source": [
    "log_url = endpoint_url + \"/log/\"\n",
    "job_id = post_r_json['job_id']"
   ]
  },
  {
   "cell_type": "code",
   "execution_count": 17,
   "metadata": {},
   "outputs": [
    {
     "name": "stdout",
     "output_type": "stream",
     "text": [
      "http://localhost:8000/ibm/modelfactory/service/log/e7f53652-ae73-413f-8d3d-67af26eea92b\n"
     ]
    }
   ],
   "source": [
    "print(log_url + job_id)"
   ]
  },
  {
   "cell_type": "markdown",
   "metadata": {
    "id": "5cbe57589c8d4db49bad58d0f3a99f43"
   },
   "source": [
    "## GET Response"
   ]
  },
  {
   "cell_type": "code",
   "execution_count": 18,
   "metadata": {
    "id": "6b5b8e5a-69bd-4475-84c7-2ba67afb886b"
   },
   "outputs": [
    {
     "name": "stdout",
     "output_type": "stream",
     "text": [
      "The status of job e7f53652-ae73-413f-8d3d-67af26eea92b is DONE.\n"
     ]
    }
   ],
   "source": [
    "job_id = post_r_json[\"job_id\"]\n",
    "# Get Status\n",
    "print_job_status(job_id,endpoint_url)"
   ]
  },
  {
   "cell_type": "markdown",
   "metadata": {
    "id": "59d9803bc69b4fc986044a2a8bddbe65"
   },
   "source": [
    "The status of the job may be running, flagged by INITALIZING or EXECUTING\n",
    "\n",
    "After a while the model recipe training is complete, and the STATUS changes to DONE"
   ]
  },
  {
   "cell_type": "code",
   "execution_count": 19,
   "metadata": {
    "id": "2985e21c-f3d5-4de9-a7cc-c2edffcb6c26"
   },
   "outputs": [
    {
     "name": "stdout",
     "output_type": "stream",
     "text": [
      "The status of job e7f53652-ae73-413f-8d3d-67af26eea92b is DONE.\n"
     ]
    }
   ],
   "source": [
    "# Get Status\n",
    "print_job_status(job_id,endpoint_url)"
   ]
  },
  {
   "cell_type": "code",
   "execution_count": 20,
   "metadata": {
    "id": "171793bf1263465e800fc999c7e17d6f"
   },
   "outputs": [
    {
     "data": {
      "text/html": [
       "<div style='font-family: Arial; font-size: 1.2em;'><p>job_id: e7f53652-ae73-413f-8d3d-67af26eea92b</p><p>status: DONE</p><br><p>run_id: d443512c9ba54cc5993beb2a56ba5480</p><p>experiment_id: 2</p><p>status: FINISHED</p><p>artifact_uri: s3://testdataupload/2/d443512c9ba54cc5993beb2a56ba5480/artifacts</p><p>artifact_name: </p><br><p>run_id: 794a004e0fae4a28a80fe456ed08ae3d</p><p>experiment_id: 2</p><p>status: FINISHED</p><p>artifact_uri: s3://testdataupload/2/794a004e0fae4a28a80fe456ed08ae3d/artifacts</p><p>artifact_name: energyloss</p><br><p>run_id: 3bc240c4bed74d4d837e355399b9fdd5</p><p>experiment_id: 2</p><p>status: FINISHED</p><p>artifact_uri: s3://testdataupload/2/3bc240c4bed74d4d837e355399b9fdd5/artifacts</p><p>artifact_name: </p><br></div>"
      ],
      "text/plain": [
       "<IPython.core.display.HTML object>"
      ]
     },
     "metadata": {},
     "output_type": "display_data"
    },
    {
     "name": "stdout",
     "output_type": "stream",
     "text": [
      "{'job_id': 'e7f53652-ae73-413f-8d3d-67af26eea92b', 'status': 'DONE', 'summary': {'Deployment Instruction': 'For deployment, pass the parent_run_id as an argument in the deployment recipe', 'parent_run_id': '3bc240c4bed74d4d837e355399b9fdd5'}, 'detailed_summary': [{'run_id': 'd443512c9ba54cc5993beb2a56ba5480', 'experiment_id': '2', 'status': 'FINISHED', 'artifact_uri': 's3://testdataupload/2/d443512c9ba54cc5993beb2a56ba5480/artifacts', 'start_time': '2023-11-16T02:04:51.760000+00:00', 'end_time': '2023-11-16T02:04:58.062000+00:00', 'params.steps': 'energyloss', 'params.output_artifact_name': 'energyloss', 'params.spec_yaml': '', 'params.processed_data_path': '', 'params.storage_path': '', 'tags.mlflow.source.name': '/tmp/ray/session_2023-11-16_01-58-51_212131_1/runtime_resources/working_dir_files/_ray_pkg_b4ad6be3ad44c709', 'tags.mlflow.project.entryPoint': 'deployment_artifact', 'tags.mlflow.log-model.history': '[{\"run_id\": \"d443512c9ba54cc5993beb2a56ba5480\", \"artifact_path\": \"energyloss\", \"utc_time_created\": \"2023-11-16 02:04:54.775976\", \"flavors\": {\"python_function\": {\"model_path\": \"model.pkl\", \"predict_fn\": \"predict\", \"loader_module\": \"mlflow.sklearn\", \"python_version\": \"3.9.2\", \"env\": {\"conda\": \"conda.yaml\", \"virtualenv\": \"python_env.yaml\"}}, \"sklearn\": {\"pickled_model\": \"model.pkl\", \"sklearn_version\": \"1.1.1\", \"serialization_format\": \"cloudpickle\", \"code\": null}}, \"model_uuid\": \"7434b8e9607a4cb9ac1254c65bb7089e\", \"mlflow_version\": \"2.8.0\", \"model_size_bytes\": 1522742}]', 'tags.mlflow.source.type': 'PROJECT', 'tags.mlflow.runName': 'agreeable-gnat-667', 'tags.mlflow.user': 'root', 'tags.mlflow.project.backend': 'local', 'tags.mlflow.parentRunId': '3bc240c4bed74d4d837e355399b9fdd5', 'tags.recipe': '', 'tags.step': '', 'tags.summary': '', 'tags.artifact_name': ''}, {'run_id': '794a004e0fae4a28a80fe456ed08ae3d', 'experiment_id': '2', 'status': 'FINISHED', 'artifact_uri': 's3://testdataupload/2/794a004e0fae4a28a80fe456ed08ae3d/artifacts', 'start_time': '2023-11-16T02:04:41.959000+00:00', 'end_time': '2023-11-16T02:04:51.688000+00:00', 'params.steps': '', 'params.output_artifact_name': '', 'params.spec_yaml': 's3://testdataupload/e7f53652-ae73-413f-8d3d-67af26eea92b_parameter_config.yaml', 'params.processed_data_path': 's3://testdataupload/e7f53652-ae73-413f-8d3d-67af26eea92b_training.csv', 'params.storage_path': 'file://./storage/', 'tags.mlflow.source.name': '/tmp/ray/session_2023-11-16_01-58-51_212131_1/runtime_resources/working_dir_files/_ray_pkg_b4ad6be3ad44c709', 'tags.mlflow.project.entryPoint': 'energyloss', 'tags.mlflow.log-model.history': '[{\"run_id\": \"794a004e0fae4a28a80fe456ed08ae3d\", \"artifact_path\": \"energyloss\", \"utc_time_created\": \"2023-11-16 02:04:46.322757\", \"flavors\": {\"python_function\": {\"model_path\": \"model.pkl\", \"predict_fn\": \"predict\", \"loader_module\": \"mlflow.sklearn\", \"python_version\": \"3.9.2\", \"env\": {\"conda\": \"conda.yaml\", \"virtualenv\": \"python_env.yaml\"}}, \"sklearn\": {\"pickled_model\": \"model.pkl\", \"sklearn_version\": \"1.1.1\", \"serialization_format\": \"cloudpickle\", \"code\": null}}, \"model_uuid\": \"35fa2128ef7442d482e0c76f55a367b8\", \"mlflow_version\": \"2.8.0\", \"model_size_bytes\": 1522692}]', 'tags.mlflow.source.type': 'PROJECT', 'tags.mlflow.runName': 'wise-cow-302', 'tags.mlflow.user': 'root', 'tags.mlflow.project.backend': 'local', 'tags.mlflow.parentRunId': '3bc240c4bed74d4d837e355399b9fdd5', 'tags.recipe': 'electrical-transformer', 'tags.step': 'energy_pipeline', 'tags.summary': 'true', 'tags.artifact_name': 'energyloss'}, {'run_id': '3bc240c4bed74d4d837e355399b9fdd5', 'experiment_id': '2', 'status': 'FINISHED', 'artifact_uri': 's3://testdataupload/2/3bc240c4bed74d4d837e355399b9fdd5/artifacts', 'start_time': '2023-11-16T02:04:41.888000+00:00', 'end_time': '2023-11-16T02:04:58.090000+00:00', 'params.steps': '', 'params.output_artifact_name': '', 'params.spec_yaml': '', 'params.processed_data_path': '', 'params.storage_path': '', 'tags.mlflow.source.name': '/usr/local/lib/python3.9/site-packages/ray/_private/workers/default_worker.py', 'tags.mlflow.project.entryPoint': '', 'tags.mlflow.log-model.history': '', 'tags.mlflow.source.type': 'LOCAL', 'tags.mlflow.runName': 'peaceful-dolphin-752', 'tags.mlflow.user': 'root', 'tags.mlflow.project.backend': '', 'tags.mlflow.parentRunId': '', 'tags.recipe': 'electrical-transformer', 'tags.step': '', 'tags.summary': '', 'tags.artifact_name': ''}]}\n"
     ]
    }
   ],
   "source": [
    "# Get selected details\n",
    "json_data = print_job_details(job_id,endpoint_url)\n",
    "\n",
    "# Get all details\n",
    "\n",
    "print_all_status(job_id, endpoint_url)"
   ]
  },
  {
   "cell_type": "markdown",
   "metadata": {},
   "source": [
    "### Saving details for deployment"
   ]
  },
  {
   "cell_type": "code",
   "execution_count": 21,
   "metadata": {},
   "outputs": [
    {
     "data": {
      "text/plain": [
       "[{'run_id': 'd443512c9ba54cc5993beb2a56ba5480',\n",
       "  'experiment_id': '2',\n",
       "  'status': 'FINISHED',\n",
       "  'artifact_uri': 's3://testdataupload/2/d443512c9ba54cc5993beb2a56ba5480/artifacts',\n",
       "  'start_time': '2023-11-16T02:04:51.760000+00:00',\n",
       "  'end_time': '2023-11-16T02:04:58.062000+00:00',\n",
       "  'params.steps': 'energyloss',\n",
       "  'params.output_artifact_name': 'energyloss',\n",
       "  'params.spec_yaml': '',\n",
       "  'params.processed_data_path': '',\n",
       "  'params.storage_path': '',\n",
       "  'tags.mlflow.source.name': '/tmp/ray/session_2023-11-16_01-58-51_212131_1/runtime_resources/working_dir_files/_ray_pkg_b4ad6be3ad44c709',\n",
       "  'tags.mlflow.project.entryPoint': 'deployment_artifact',\n",
       "  'tags.mlflow.log-model.history': '[{\"run_id\": \"d443512c9ba54cc5993beb2a56ba5480\", \"artifact_path\": \"energyloss\", \"utc_time_created\": \"2023-11-16 02:04:54.775976\", \"flavors\": {\"python_function\": {\"model_path\": \"model.pkl\", \"predict_fn\": \"predict\", \"loader_module\": \"mlflow.sklearn\", \"python_version\": \"3.9.2\", \"env\": {\"conda\": \"conda.yaml\", \"virtualenv\": \"python_env.yaml\"}}, \"sklearn\": {\"pickled_model\": \"model.pkl\", \"sklearn_version\": \"1.1.1\", \"serialization_format\": \"cloudpickle\", \"code\": null}}, \"model_uuid\": \"7434b8e9607a4cb9ac1254c65bb7089e\", \"mlflow_version\": \"2.8.0\", \"model_size_bytes\": 1522742}]',\n",
       "  'tags.mlflow.source.type': 'PROJECT',\n",
       "  'tags.mlflow.runName': 'agreeable-gnat-667',\n",
       "  'tags.mlflow.user': 'root',\n",
       "  'tags.mlflow.project.backend': 'local',\n",
       "  'tags.mlflow.parentRunId': '3bc240c4bed74d4d837e355399b9fdd5',\n",
       "  'tags.recipe': '',\n",
       "  'tags.step': '',\n",
       "  'tags.summary': '',\n",
       "  'tags.artifact_name': ''},\n",
       " {'run_id': '794a004e0fae4a28a80fe456ed08ae3d',\n",
       "  'experiment_id': '2',\n",
       "  'status': 'FINISHED',\n",
       "  'artifact_uri': 's3://testdataupload/2/794a004e0fae4a28a80fe456ed08ae3d/artifacts',\n",
       "  'start_time': '2023-11-16T02:04:41.959000+00:00',\n",
       "  'end_time': '2023-11-16T02:04:51.688000+00:00',\n",
       "  'params.steps': '',\n",
       "  'params.output_artifact_name': '',\n",
       "  'params.spec_yaml': 's3://testdataupload/e7f53652-ae73-413f-8d3d-67af26eea92b_parameter_config.yaml',\n",
       "  'params.processed_data_path': 's3://testdataupload/e7f53652-ae73-413f-8d3d-67af26eea92b_training.csv',\n",
       "  'params.storage_path': 'file://./storage/',\n",
       "  'tags.mlflow.source.name': '/tmp/ray/session_2023-11-16_01-58-51_212131_1/runtime_resources/working_dir_files/_ray_pkg_b4ad6be3ad44c709',\n",
       "  'tags.mlflow.project.entryPoint': 'energyloss',\n",
       "  'tags.mlflow.log-model.history': '[{\"run_id\": \"794a004e0fae4a28a80fe456ed08ae3d\", \"artifact_path\": \"energyloss\", \"utc_time_created\": \"2023-11-16 02:04:46.322757\", \"flavors\": {\"python_function\": {\"model_path\": \"model.pkl\", \"predict_fn\": \"predict\", \"loader_module\": \"mlflow.sklearn\", \"python_version\": \"3.9.2\", \"env\": {\"conda\": \"conda.yaml\", \"virtualenv\": \"python_env.yaml\"}}, \"sklearn\": {\"pickled_model\": \"model.pkl\", \"sklearn_version\": \"1.1.1\", \"serialization_format\": \"cloudpickle\", \"code\": null}}, \"model_uuid\": \"35fa2128ef7442d482e0c76f55a367b8\", \"mlflow_version\": \"2.8.0\", \"model_size_bytes\": 1522692}]',\n",
       "  'tags.mlflow.source.type': 'PROJECT',\n",
       "  'tags.mlflow.runName': 'wise-cow-302',\n",
       "  'tags.mlflow.user': 'root',\n",
       "  'tags.mlflow.project.backend': 'local',\n",
       "  'tags.mlflow.parentRunId': '3bc240c4bed74d4d837e355399b9fdd5',\n",
       "  'tags.recipe': 'electrical-transformer',\n",
       "  'tags.step': 'energy_pipeline',\n",
       "  'tags.summary': 'true',\n",
       "  'tags.artifact_name': 'energyloss'},\n",
       " {'run_id': '3bc240c4bed74d4d837e355399b9fdd5',\n",
       "  'experiment_id': '2',\n",
       "  'status': 'FINISHED',\n",
       "  'artifact_uri': 's3://testdataupload/2/3bc240c4bed74d4d837e355399b9fdd5/artifacts',\n",
       "  'start_time': '2023-11-16T02:04:41.888000+00:00',\n",
       "  'end_time': '2023-11-16T02:04:58.090000+00:00',\n",
       "  'params.steps': '',\n",
       "  'params.output_artifact_name': '',\n",
       "  'params.spec_yaml': '',\n",
       "  'params.processed_data_path': '',\n",
       "  'params.storage_path': '',\n",
       "  'tags.mlflow.source.name': '/usr/local/lib/python3.9/site-packages/ray/_private/workers/default_worker.py',\n",
       "  'tags.mlflow.project.entryPoint': '',\n",
       "  'tags.mlflow.log-model.history': '',\n",
       "  'tags.mlflow.source.type': 'LOCAL',\n",
       "  'tags.mlflow.runName': 'peaceful-dolphin-752',\n",
       "  'tags.mlflow.user': 'root',\n",
       "  'tags.mlflow.project.backend': '',\n",
       "  'tags.mlflow.parentRunId': '',\n",
       "  'tags.recipe': 'electrical-transformer',\n",
       "  'tags.step': '',\n",
       "  'tags.summary': '',\n",
       "  'tags.artifact_name': ''}]"
      ]
     },
     "execution_count": 21,
     "metadata": {},
     "output_type": "execute_result"
    }
   ],
   "source": [
    "json_data[\"detailed_summary\"]"
   ]
  },
  {
   "cell_type": "code",
   "execution_count": 29,
   "metadata": {},
   "outputs": [
    {
     "data": {
      "text/plain": [
       "[{'run_id': 'd443512c9ba54cc5993beb2a56ba5480',\n",
       "  'experiment_id': '2',\n",
       "  'status': 'FINISHED',\n",
       "  'artifact_uri': 's3://testdataupload/2/d443512c9ba54cc5993beb2a56ba5480/artifacts',\n",
       "  'start_time': '2023-11-16T02:04:51.760000+00:00',\n",
       "  'end_time': '2023-11-16T02:04:58.062000+00:00',\n",
       "  'params.steps': 'energyloss',\n",
       "  'params.output_artifact_name': 'energyloss',\n",
       "  'params.spec_yaml': '',\n",
       "  'params.processed_data_path': '',\n",
       "  'params.storage_path': '',\n",
       "  'tags.mlflow.source.name': '/tmp/ray/session_2023-11-16_01-58-51_212131_1/runtime_resources/working_dir_files/_ray_pkg_b4ad6be3ad44c709',\n",
       "  'tags.mlflow.project.entryPoint': 'deployment_artifact',\n",
       "  'tags.mlflow.log-model.history': '[{\"run_id\": \"d443512c9ba54cc5993beb2a56ba5480\", \"artifact_path\": \"energyloss\", \"utc_time_created\": \"2023-11-16 02:04:54.775976\", \"flavors\": {\"python_function\": {\"model_path\": \"model.pkl\", \"predict_fn\": \"predict\", \"loader_module\": \"mlflow.sklearn\", \"python_version\": \"3.9.2\", \"env\": {\"conda\": \"conda.yaml\", \"virtualenv\": \"python_env.yaml\"}}, \"sklearn\": {\"pickled_model\": \"model.pkl\", \"sklearn_version\": \"1.1.1\", \"serialization_format\": \"cloudpickle\", \"code\": null}}, \"model_uuid\": \"7434b8e9607a4cb9ac1254c65bb7089e\", \"mlflow_version\": \"2.8.0\", \"model_size_bytes\": 1522742}]',\n",
       "  'tags.mlflow.source.type': 'PROJECT',\n",
       "  'tags.mlflow.runName': 'agreeable-gnat-667',\n",
       "  'tags.mlflow.user': 'root',\n",
       "  'tags.mlflow.project.backend': 'local',\n",
       "  'tags.mlflow.parentRunId': '3bc240c4bed74d4d837e355399b9fdd5',\n",
       "  'tags.recipe': '',\n",
       "  'tags.step': '',\n",
       "  'tags.summary': '',\n",
       "  'tags.artifact_name': ''},\n",
       " {'run_id': '794a004e0fae4a28a80fe456ed08ae3d',\n",
       "  'experiment_id': '2',\n",
       "  'status': 'FINISHED',\n",
       "  'artifact_uri': 's3://testdataupload/2/794a004e0fae4a28a80fe456ed08ae3d/artifacts',\n",
       "  'start_time': '2023-11-16T02:04:41.959000+00:00',\n",
       "  'end_time': '2023-11-16T02:04:51.688000+00:00',\n",
       "  'params.steps': '',\n",
       "  'params.output_artifact_name': '',\n",
       "  'params.spec_yaml': 's3://testdataupload/e7f53652-ae73-413f-8d3d-67af26eea92b_parameter_config.yaml',\n",
       "  'params.processed_data_path': 's3://testdataupload/e7f53652-ae73-413f-8d3d-67af26eea92b_training.csv',\n",
       "  'params.storage_path': 'file://./storage/',\n",
       "  'tags.mlflow.source.name': '/tmp/ray/session_2023-11-16_01-58-51_212131_1/runtime_resources/working_dir_files/_ray_pkg_b4ad6be3ad44c709',\n",
       "  'tags.mlflow.project.entryPoint': 'energyloss',\n",
       "  'tags.mlflow.log-model.history': '[{\"run_id\": \"794a004e0fae4a28a80fe456ed08ae3d\", \"artifact_path\": \"energyloss\", \"utc_time_created\": \"2023-11-16 02:04:46.322757\", \"flavors\": {\"python_function\": {\"model_path\": \"model.pkl\", \"predict_fn\": \"predict\", \"loader_module\": \"mlflow.sklearn\", \"python_version\": \"3.9.2\", \"env\": {\"conda\": \"conda.yaml\", \"virtualenv\": \"python_env.yaml\"}}, \"sklearn\": {\"pickled_model\": \"model.pkl\", \"sklearn_version\": \"1.1.1\", \"serialization_format\": \"cloudpickle\", \"code\": null}}, \"model_uuid\": \"35fa2128ef7442d482e0c76f55a367b8\", \"mlflow_version\": \"2.8.0\", \"model_size_bytes\": 1522692}]',\n",
       "  'tags.mlflow.source.type': 'PROJECT',\n",
       "  'tags.mlflow.runName': 'wise-cow-302',\n",
       "  'tags.mlflow.user': 'root',\n",
       "  'tags.mlflow.project.backend': 'local',\n",
       "  'tags.mlflow.parentRunId': '3bc240c4bed74d4d837e355399b9fdd5',\n",
       "  'tags.recipe': 'electrical-transformer',\n",
       "  'tags.step': 'energy_pipeline',\n",
       "  'tags.summary': 'true',\n",
       "  'tags.artifact_name': 'energyloss'},\n",
       " {'run_id': '3bc240c4bed74d4d837e355399b9fdd5',\n",
       "  'experiment_id': '2',\n",
       "  'status': 'FINISHED',\n",
       "  'artifact_uri': 's3://testdataupload/2/3bc240c4bed74d4d837e355399b9fdd5/artifacts',\n",
       "  'start_time': '2023-11-16T02:04:41.888000+00:00',\n",
       "  'end_time': '2023-11-16T02:04:58.090000+00:00',\n",
       "  'params.steps': '',\n",
       "  'params.output_artifact_name': '',\n",
       "  'params.spec_yaml': '',\n",
       "  'params.processed_data_path': '',\n",
       "  'params.storage_path': '',\n",
       "  'tags.mlflow.source.name': '/usr/local/lib/python3.9/site-packages/ray/_private/workers/default_worker.py',\n",
       "  'tags.mlflow.project.entryPoint': '',\n",
       "  'tags.mlflow.log-model.history': '',\n",
       "  'tags.mlflow.source.type': 'LOCAL',\n",
       "  'tags.mlflow.runName': 'peaceful-dolphin-752',\n",
       "  'tags.mlflow.user': 'root',\n",
       "  'tags.mlflow.project.backend': '',\n",
       "  'tags.mlflow.parentRunId': '',\n",
       "  'tags.recipe': 'electrical-transformer',\n",
       "  'tags.step': '',\n",
       "  'tags.summary': '',\n",
       "  'tags.artifact_name': ''}]"
      ]
     },
     "execution_count": 29,
     "metadata": {},
     "output_type": "execute_result"
    }
   ],
   "source": [
    "json_data[\"detailed_summary\"]"
   ]
  },
  {
   "cell_type": "code",
   "execution_count": 25,
   "metadata": {},
   "outputs": [],
   "source": [
    "import yaml\n",
    "if 'status' in json_data:\n",
    "    if json_data['status'] == 'DONE':\n",
    "        for summary in json_data[\"detailed_summary\"]:\n",
    "            if summary[\"params.output_artifact_name\"] != \"\":\n",
    "                s3_uri = summary[\"artifact_uri\"] + \"/\" + summary[\"params.output_artifact_name\"]\n",
    "            if summary['tags.artifact_name']!=\"\":\n",
    "                model_uri = \"runs:/\" + summary['run_id'] + \"/\" + summary['tags.artifact_name']\n",
    "        output_data = {\n",
    "            \"model_uri\" : model_uri,\n",
    "            \"train_job_id\" : job_id,\n",
    "            \"s3_uri\": s3_uri,\n",
    "        }\n",
    "        with open(\"../config/model_info.yml\",\"w\") as file:\n",
    "            yaml.dump(output_data, file)\n",
    "        output_data"
   ]
  },
  {
   "cell_type": "code",
   "execution_count": 26,
   "metadata": {},
   "outputs": [
    {
     "data": {
      "text/plain": [
       "{'model_uri': 'runs:/794a004e0fae4a28a80fe456ed08ae3d/energyloss',\n",
       " 'train_job_id': 'e7f53652-ae73-413f-8d3d-67af26eea92b',\n",
       " 's3_uri': 's3://testdataupload/2/d443512c9ba54cc5993beb2a56ba5480/artifacts/energyloss'}"
      ]
     },
     "execution_count": 26,
     "metadata": {},
     "output_type": "execute_result"
    }
   ],
   "source": [
    "output_data"
   ]
  },
  {
   "cell_type": "code",
   "execution_count": null,
   "metadata": {},
   "outputs": [],
   "source": []
  }
 ],
 "metadata": {
  "kernelspec": {
   "display_name": "mf",
   "language": "python",
   "name": "mf"
  },
  "language_info": {
   "codemirror_mode": {
    "name": "ipython",
    "version": 3
   },
   "file_extension": ".py",
   "mimetype": "text/x-python",
   "name": "python",
   "nbconvert_exporter": "python",
   "pygments_lexer": "ipython3",
   "version": "3.9.12"
  }
 },
 "nbformat": 4,
 "nbformat_minor": 1
}
