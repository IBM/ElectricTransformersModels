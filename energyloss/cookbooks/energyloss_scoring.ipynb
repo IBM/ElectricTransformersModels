{
 "cells": [
  {
   "cell_type": "markdown",
   "metadata": {
    "id": "0c02ad1bbbd24d7ebb5e50bf895ea57a"
   },
   "source": [
    "# Energy Loss Scoring\n"
   ]
  },
  {
   "cell_type": "markdown",
   "metadata": {
    "id": "cca190c797264f4781436dce9a3fda49"
   },
   "source": [
    "## Import Libraries"
   ]
  },
  {
   "cell_type": "code",
   "execution_count": null,
   "metadata": {
    "id": "2a2bc95e-4c20-4150-bf12-748e7781cd51"
   },
   "outputs": [],
   "source": [
    "import os\n",
    "import requests\n",
    "import json\n",
    "import ast\n",
    "import pandas as pd\n",
    "import yaml"
   ]
  },
  {
   "cell_type": "markdown",
   "metadata": {
    "id": "0a4d12b1d9134a7e9ba94f7e98d05bbc"
   },
   "source": [
    "## Retrieve the Credential"
   ]
  },
  {
   "cell_type": "code",
   "execution_count": null,
   "metadata": {
    "id": "6a9964bb340d46688e0ad5a93c545337"
   },
   "outputs": [],
   "source": [
    "credentials_file = '../../config/credentials/wml-credentials.json'\n",
    "\n",
    "with open(credentials_file, \"r\") as f:\n",
    "    credentials = json.load(f)"
   ]
  },
  {
   "cell_type": "code",
   "execution_count": null,
   "metadata": {},
   "outputs": [],
   "source": [
    "# Assuming you have these variables set somewhere in your script\n",
    "USERNAME = credentials[\"username\"]\n",
    "API_KEY = credentials[\"apikey\"]\n",
    "DATAPLATFORM_URL = credentials[\"url\"]"
   ]
  },
  {
   "cell_type": "code",
   "execution_count": null,
   "metadata": {},
   "outputs": [],
   "source": [
    "headers = {\n",
    "    'Content-type': 'application/json'\n",
    "}\n",
    "data = {\n",
    "    'username': USERNAME,\n",
    "    'api_key': API_KEY\n",
    "}"
   ]
  },
  {
   "cell_type": "code",
   "execution_count": null,
   "metadata": {},
   "outputs": [],
   "source": [
    "response = requests.post(\n",
    "    f\"{DATAPLATFORM_URL}/icp4d-api/v1/authorize\", \n",
    "    headers=headers, \n",
    "    data=json.dumps(data),\n",
    "    verify=False  # This corresponds to the '-k' or '--insecure' flag in curl\n",
    ")\n",
    "token = response.text\n",
    "dict_token = ast.literal_eval(token)\n",
    "bearer_token = dict_token['token']"
   ]
  },
  {
   "cell_type": "code",
   "execution_count": null,
   "metadata": {},
   "outputs": [],
   "source": []
  },
  {
   "cell_type": "markdown",
   "metadata": {
    "id": "e418d0fdc3ae43d9a1bf1165c79e7f8b"
   },
   "source": [
    "## Load Dataset"
   ]
  },
  {
   "cell_type": "code",
   "execution_count": null,
   "metadata": {},
   "outputs": [],
   "source": [
    "df = pd.read_csv('../data/training.csv')"
   ]
  },
  {
   "cell_type": "code",
   "execution_count": null,
   "metadata": {},
   "outputs": [],
   "source": [
    "df[\"Timestamp\"] = df[\"Timestamp\"].astype(str)"
   ]
  },
  {
   "cell_type": "markdown",
   "metadata": {},
   "source": [
    "#### Pick up only few lines of the rows"
   ]
  },
  {
   "cell_type": "code",
   "execution_count": null,
   "metadata": {
    "id": "1a7aaa4026a342258c3741a39fa10372"
   },
   "outputs": [],
   "source": [
    "df = df.tail(200)"
   ]
  },
  {
   "cell_type": "code",
   "execution_count": null,
   "metadata": {},
   "outputs": [],
   "source": [
    "df.columns"
   ]
  },
  {
   "cell_type": "code",
   "execution_count": null,
   "metadata": {},
   "outputs": [],
   "source": [
    "df_power = df[['Timestamp', 'Active Power (KW)']]"
   ]
  },
  {
   "cell_type": "code",
   "execution_count": null,
   "metadata": {},
   "outputs": [],
   "source": [
    "df_power = df_power.reset_index(drop=True)"
   ]
  },
  {
   "cell_type": "markdown",
   "metadata": {
    "id": "c3eab78bbe684f6683944207f4808714"
   },
   "source": [
    "## Send the Data for Scoring"
   ]
  },
  {
   "cell_type": "code",
   "execution_count": null,
   "metadata": {},
   "outputs": [],
   "source": [
    "model_factory_config_file_name = \"../config/deployment_info_three_kpis_loss_rate.yml\"\n",
    "\n",
    "with open(model_factory_config_file_name, 'r') as file:\n",
    "    model_factory_config = yaml.safe_load(file)\n",
    "\n",
    "print(model_factory_config)"
   ]
  },
  {
   "cell_type": "code",
   "execution_count": null,
   "metadata": {},
   "outputs": [],
   "source": [
    "# retrieve the CP4D endpoint at the IBM Watson Studio\n",
    "scoring_url = model_factory_config['cp4d_url']\n",
    "scoring_url"
   ]
  },
  {
   "cell_type": "code",
   "execution_count": null,
   "metadata": {
    "id": "3e958b9be827446494c6f159a64e2300"
   },
   "outputs": [],
   "source": [
    "# Select the relevant columns\n",
    "array_of_input_fields = ['Timestamp', 'Active Power (KW)']\n",
    "array_of_values_to_be_scored = df_power[array_of_input_fields].values.tolist()\n",
    "\n",
    "print(\"Input Data\")\n",
    "print(array_of_input_fields)\n",
    "df[array_of_input_fields].head(10)"
   ]
  },
  {
   "cell_type": "code",
   "execution_count": null,
   "metadata": {},
   "outputs": [],
   "source": [
    "array_of_values_to_be_scored = df_power[array_of_input_fields].values.tolist()"
   ]
  },
  {
   "cell_type": "code",
   "execution_count": null,
   "metadata": {},
   "outputs": [],
   "source": [
    "%%time\n",
    "import urllib3, requests, json\n",
    "\n",
    "# we can have this from \n",
    "#scoring_url = 'https://cpd-ibm-cpd.modelfactory-9ca4d14d48413d18ce61b80811ba4308-0000.us-south.containers.appdomain.cloud/ml/v4/deployments/60a32c38-e993-4f87-91c2-519b3df7b902/predictions?version=2023-11-09'\n",
    "#scoring_url = 'https://cpd-ibm-cpd.modelfactory-9ca4d14d48413d18ce61b80811ba4308-0000.us-south.containers.appdomain.cloud/ml/v4/deployments/d5744d1b-e921-462c-bfe4-d77ca2489968/predictions?version=2023-11-16'\n",
    "\n",
    "# NOTE: you must construct mltoken based on provided documentation\n",
    "header = {'Content-Type': 'application/json', 'Authorization': 'Bearer ' + bearer_token}\n",
    "\n",
    "# NOTE: manually define and pass the array(s) of values to be scored in the next line\n",
    "payload_scoring = {\"input_data\": [{\"fields\": array_of_input_fields, \"values\": array_of_values_to_be_scored}]}\n",
    "print(\"Input payload\")\n",
    "print(json.dumps(payload_scoring, indent=2))\n",
    "\n",
    "response_scoring = requests.post(scoring_url, json=payload_scoring, headers=header, verify=False)\n",
    "print(\"Scoring response\")\n",
    "predictions = json.loads(response_scoring.text)\n",
    "print(json.dumps(predictions, indent=2))"
   ]
  },
  {
   "cell_type": "code",
   "execution_count": null,
   "metadata": {
    "id": "a25108ec4fb4473985483adc688a12e5"
   },
   "outputs": [],
   "source": [
    "output = predictions[\"predictions\"][0][\"values\"]"
   ]
  },
  {
   "cell_type": "code",
   "execution_count": null,
   "metadata": {
    "id": "d78efd33807b4bb89b8d3825a6839577"
   },
   "outputs": [],
   "source": [
    "output"
   ]
  },
  {
   "cell_type": "markdown",
   "metadata": {},
   "source": [
    "## Combine the Results"
   ]
  },
  {
   "cell_type": "code",
   "execution_count": null,
   "metadata": {},
   "outputs": [],
   "source": [
    "reshaped_data = [row[0] for row in output]"
   ]
  },
  {
   "cell_type": "code",
   "execution_count": null,
   "metadata": {},
   "outputs": [],
   "source": [
    "column_names = ['load_factor','loss_factor','energyloss']"
   ]
  },
  {
   "cell_type": "code",
   "execution_count": null,
   "metadata": {},
   "outputs": [],
   "source": [
    "predictions_df = pd.DataFrame(reshaped_data, columns=column_names)"
   ]
  },
  {
   "cell_type": "code",
   "execution_count": null,
   "metadata": {},
   "outputs": [],
   "source": [
    "predictions_df = predictions_df.astype(int)"
   ]
  },
  {
   "cell_type": "code",
   "execution_count": null,
   "metadata": {},
   "outputs": [],
   "source": [
    "display(predictions_df)"
   ]
  },
  {
   "cell_type": "code",
   "execution_count": null,
   "metadata": {},
   "outputs": [],
   "source": [
    "df_merged = pd.concat([df_power, predictions_df], axis=1)"
   ]
  },
  {
   "cell_type": "code",
   "execution_count": null,
   "metadata": {},
   "outputs": [],
   "source": [
    "display(df_merged.tail(10))"
   ]
  },
  {
   "cell_type": "code",
   "execution_count": null,
   "metadata": {},
   "outputs": [],
   "source": []
  }
 ],
 "metadata": {
  "kernelspec": {
   "display_name": "mf",
   "language": "python",
   "name": "mf"
  },
  "language_info": {
   "codemirror_mode": {
    "name": "ipython",
    "version": 3
   },
   "file_extension": ".py",
   "mimetype": "text/x-python",
   "name": "python",
   "nbconvert_exporter": "python",
   "pygments_lexer": "ipython3",
   "version": "3.9.12"
  }
 },
 "nbformat": 4,
 "nbformat_minor": 1
}
