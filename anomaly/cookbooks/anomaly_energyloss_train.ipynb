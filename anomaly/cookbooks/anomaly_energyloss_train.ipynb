{
 "cells": [
  {
   "cell_type": "markdown",
   "metadata": {},
   "source": [
    "# Anomaly Model Train Noteook\n",
    "\n",
    "This notebook demonstrates the use of AI Model Factory recipes to train energy loss model\n",
    "\n",
    "Last Updated November 29, 2023"
   ]
  },
  {
   "cell_type": "markdown",
   "metadata": {
    "id": "3ce55bda8f964f319af8829ac6416122"
   },
   "source": [
    "# Import Libraries & Functions"
   ]
  },
  {
   "cell_type": "code",
   "execution_count": 2,
   "metadata": {
    "id": "b410bf90f86343339c742a270b29d4fd"
   },
   "outputs": [],
   "source": [
    "#Imports\n",
    "import numpy as np\n",
    "import pandas as pd\n",
    "import matplotlib.pyplot as plt\n",
    "import time"
   ]
  },
  {
   "cell_type": "code",
   "execution_count": 3,
   "metadata": {},
   "outputs": [],
   "source": [
    "# Print functions\n",
    "def print_job_status(job_id, endpoint_url):\n",
    "    # Extract the job ID and construct the URL\n",
    "    url = endpoint_url + \"/summary/\" + job_id\n",
    "    \n",
    "    # Send a GET request to fetch the job status\n",
    "    get_response = requests.get(url, headers={})\n",
    "    status_data = get_response.json()\n",
    "    \n",
    "    # Print the job status\n",
    "    if \"status\" in status_data:\n",
    "        print(\"The status of job {} is {}.\".format(job_id, status_data['status']))\n",
    "    else:\n",
    "        print(status_data)\n",
    "    if status_data['status']:\n",
    "        return status_data['status']\n",
    "    else:\n",
    "        return \"initializing\"\n",
    "    \n",
    "def print_all_status(job_id, endpoint_url):\n",
    "    # Extract the job ID and construct the URL\n",
    "    url = endpoint_url + \"/summary/\" + job_id\n",
    "    \n",
    "    # Send a GET request to fetch the job status\n",
    "    get_response = requests.get(url, headers={})\n",
    "    status_data = get_response.json()\n",
    "    \n",
    "    # Print the job status\n",
    "    print(status_data)"
   ]
  },
  {
   "cell_type": "code",
   "execution_count": 4,
   "metadata": {},
   "outputs": [],
   "source": [
    "# More print functions using display \n",
    "from IPython.display import display, HTML\n",
    "import requests\n",
    "\n",
    "def print_job_details(job_id, endpoint_url):\n",
    "    # Extract the job ID and construct the URL\n",
    "    url = endpoint_url + \"/summary/\" + job_id\n",
    "    \n",
    "    # Send a GET request to fetch the job status\n",
    "    get_response = requests.get(url, headers={})\n",
    "    summary_data = get_response.json()\n",
    "    \n",
    "    # Display the job status\n",
    "    display(HTML(print_keys_and_values(summary_data)))\n",
    "    return summary_data\n",
    "\n",
    "    \n",
    "def print_keys_and_values(json_data):\n",
    "    # Start the HTML code\n",
    "    html_code = \"<div style='font-family: Arial; font-size: 1.2em;'>\"\n",
    "    \n",
    "    # Add the job details to the HTML code\n",
    "    html_code += f\"<p>job_id: {json_data['job_id']}</p>\"\n",
    "    if \"status\" in json_data:\n",
    "        html_code += f\"<p>status: {json_data['status']}</p>\"\n",
    "    html_code += \"<br>\"\n",
    "    if \"detailed_summary\" in json_data:\n",
    "        for summary in json_data['detailed_summary']:\n",
    "            html_code += f\"<p>run_id: {summary['run_id']}</p>\"\n",
    "            html_code += f\"<p>experiment_id: {summary['experiment_id']}</p>\"\n",
    "            if \"status\" in summary:\n",
    "                print('summary',summary)\n",
    "                html_code += f\"<p>status: {summary['status']}</p>\"\n",
    "            html_code += f\"<p>artifact_uri: {summary['artifact_uri']}</p>\"\n",
    "            html_code += f\"<p>artifact_name: {summary.get('tags.artifact_name', 'No artifact_name found')}</p>\"\n",
    "            html_code += \"<br>\"\n",
    "\n",
    "    # Close the HTML code\n",
    "    html_code += \"</div>\"\n",
    "    \n",
    "    return html_code"
   ]
  },
  {
   "cell_type": "markdown",
   "metadata": {
    "id": "330469d285b6405a8bcdc7849d2079b0"
   },
   "source": [
    "# Loading  Dataset"
   ]
  },
  {
   "cell_type": "markdown",
   "metadata": {
    "id": "df2350f20cfb45ec82c6b21736b27ec7"
   },
   "source": [
    "Loading the power quality dataset from the local project space"
   ]
  },
  {
   "cell_type": "code",
   "execution_count": 5,
   "metadata": {},
   "outputs": [],
   "source": [
    "dict_variable_meaning = {\n",
    "    'KW':'the amount of energy transferred per unit of time',\n",
    "    'KVA':'kilovolt-ampere, apparent power',\n",
    "    'KVAR':'kilovolt-ampere reactive',\n",
    "    'OTI':'Oil Temperature Indicator Alarm',\n",
    "    'tag_WTI':'Winding Temperature Indicator',\n",
    "    'ATI':'Ambient Temperature Indicator',\n",
    "    'OLI':'Oil Level Indicator',\n",
    "    'tag_OTI_A':'Oil Temperature Indicator Alarm',\n",
    "    'tag_OTI_T':'Oil Temperature Indicator Trip',\n",
    "    'tag_MOG_A':'Magnetic oil gauge indicator',\n",
    "}"
   ]
  },
  {
   "cell_type": "code",
   "execution_count": 6,
   "metadata": {
    "id": "393f37d1c03c4a958f56460006fb1cf0"
   },
   "outputs": [
    {
     "data": {
      "text/html": [
       "<div>\n",
       "<style scoped>\n",
       "    .dataframe tbody tr th:only-of-type {\n",
       "        vertical-align: middle;\n",
       "    }\n",
       "\n",
       "    .dataframe tbody tr th {\n",
       "        vertical-align: top;\n",
       "    }\n",
       "\n",
       "    .dataframe thead th {\n",
       "        text-align: right;\n",
       "    }\n",
       "</style>\n",
       "<table border=\"1\" class=\"dataframe\">\n",
       "  <thead>\n",
       "    <tr style=\"text-align: right;\">\n",
       "      <th></th>\n",
       "      <th>datetime</th>\n",
       "      <th>load_factor</th>\n",
       "      <th>loss_factor</th>\n",
       "      <th>energy_loss</th>\n",
       "      <th>tag_WTI</th>\n",
       "      <th>tag_OTI_A</th>\n",
       "      <th>tag_OTI_T</th>\n",
       "      <th>tag_MOG_A</th>\n",
       "    </tr>\n",
       "  </thead>\n",
       "  <tbody>\n",
       "    <tr>\n",
       "      <th>0</th>\n",
       "      <td>2019-07-04 17:00:00</td>\n",
       "      <td>0.000392</td>\n",
       "      <td>3.063004e-07</td>\n",
       "      <td>5.375451e-07</td>\n",
       "      <td>0</td>\n",
       "      <td>0</td>\n",
       "      <td>0</td>\n",
       "      <td>0</td>\n",
       "    </tr>\n",
       "    <tr>\n",
       "      <th>1</th>\n",
       "      <td>2019-07-04 18:00:00</td>\n",
       "      <td>0.000519</td>\n",
       "      <td>5.247114e-07</td>\n",
       "      <td>9.439461e-07</td>\n",
       "      <td>0</td>\n",
       "      <td>0</td>\n",
       "      <td>0</td>\n",
       "      <td>0</td>\n",
       "    </tr>\n",
       "    <tr>\n",
       "      <th>2</th>\n",
       "      <td>2019-07-04 19:00:00</td>\n",
       "      <td>0.000517</td>\n",
       "      <td>5.200765e-07</td>\n",
       "      <td>9.352261e-07</td>\n",
       "      <td>0</td>\n",
       "      <td>0</td>\n",
       "      <td>0</td>\n",
       "      <td>0</td>\n",
       "    </tr>\n",
       "    <tr>\n",
       "      <th>3</th>\n",
       "      <td>2019-07-04 20:00:00</td>\n",
       "      <td>0.000536</td>\n",
       "      <td>5.577041e-07</td>\n",
       "      <td>1.006119e-06</td>\n",
       "      <td>0</td>\n",
       "      <td>0</td>\n",
       "      <td>0</td>\n",
       "      <td>0</td>\n",
       "    </tr>\n",
       "    <tr>\n",
       "      <th>4</th>\n",
       "      <td>2019-07-04 21:00:00</td>\n",
       "      <td>0.000548</td>\n",
       "      <td>5.818571e-07</td>\n",
       "      <td>1.051742e-06</td>\n",
       "      <td>0</td>\n",
       "      <td>0</td>\n",
       "      <td>0</td>\n",
       "      <td>0</td>\n",
       "    </tr>\n",
       "    <tr>\n",
       "      <th>...</th>\n",
       "      <td>...</td>\n",
       "      <td>...</td>\n",
       "      <td>...</td>\n",
       "      <td>...</td>\n",
       "      <td>...</td>\n",
       "      <td>...</td>\n",
       "      <td>...</td>\n",
       "      <td>...</td>\n",
       "    </tr>\n",
       "    <tr>\n",
       "      <th>4446</th>\n",
       "      <td>2020-04-13 20:00:00</td>\n",
       "      <td>0.517957</td>\n",
       "      <td>2.842694e-01</td>\n",
       "      <td>9.389795e-01</td>\n",
       "      <td>1</td>\n",
       "      <td>0</td>\n",
       "      <td>0</td>\n",
       "      <td>0</td>\n",
       "    </tr>\n",
       "    <tr>\n",
       "      <th>4447</th>\n",
       "      <td>2020-04-13 21:00:00</td>\n",
       "      <td>0.517996</td>\n",
       "      <td>2.843098e-01</td>\n",
       "      <td>9.391190e-01</td>\n",
       "      <td>1</td>\n",
       "      <td>0</td>\n",
       "      <td>0</td>\n",
       "      <td>0</td>\n",
       "    </tr>\n",
       "    <tr>\n",
       "      <th>4448</th>\n",
       "      <td>2020-04-13 22:00:00</td>\n",
       "      <td>0.521028</td>\n",
       "      <td>2.875000e-01</td>\n",
       "      <td>9.501444e-01</td>\n",
       "      <td>1</td>\n",
       "      <td>0</td>\n",
       "      <td>0</td>\n",
       "      <td>0</td>\n",
       "    </tr>\n",
       "    <tr>\n",
       "      <th>4449</th>\n",
       "      <td>2020-04-13 23:00:00</td>\n",
       "      <td>0.498605</td>\n",
       "      <td>2.643085e-01</td>\n",
       "      <td>8.701254e-01</td>\n",
       "      <td>1</td>\n",
       "      <td>0</td>\n",
       "      <td>0</td>\n",
       "      <td>0</td>\n",
       "    </tr>\n",
       "    <tr>\n",
       "      <th>4450</th>\n",
       "      <td>2020-04-14 00:00:00</td>\n",
       "      <td>0.443020</td>\n",
       "      <td>2.108439e-01</td>\n",
       "      <td>6.869330e-01</td>\n",
       "      <td>1</td>\n",
       "      <td>0</td>\n",
       "      <td>0</td>\n",
       "      <td>0</td>\n",
       "    </tr>\n",
       "  </tbody>\n",
       "</table>\n",
       "<p>4451 rows × 8 columns</p>\n",
       "</div>"
      ],
      "text/plain": [
       "                 datetime  load_factor   loss_factor   energy_loss  tag_WTI  \\\n",
       "0     2019-07-04 17:00:00     0.000392  3.063004e-07  5.375451e-07        0   \n",
       "1     2019-07-04 18:00:00     0.000519  5.247114e-07  9.439461e-07        0   \n",
       "2     2019-07-04 19:00:00     0.000517  5.200765e-07  9.352261e-07        0   \n",
       "3     2019-07-04 20:00:00     0.000536  5.577041e-07  1.006119e-06        0   \n",
       "4     2019-07-04 21:00:00     0.000548  5.818571e-07  1.051742e-06        0   \n",
       "...                   ...          ...           ...           ...      ...   \n",
       "4446  2020-04-13 20:00:00     0.517957  2.842694e-01  9.389795e-01        1   \n",
       "4447  2020-04-13 21:00:00     0.517996  2.843098e-01  9.391190e-01        1   \n",
       "4448  2020-04-13 22:00:00     0.521028  2.875000e-01  9.501444e-01        1   \n",
       "4449  2020-04-13 23:00:00     0.498605  2.643085e-01  8.701254e-01        1   \n",
       "4450  2020-04-14 00:00:00     0.443020  2.108439e-01  6.869330e-01        1   \n",
       "\n",
       "      tag_OTI_A  tag_OTI_T  tag_MOG_A  \n",
       "0             0          0          0  \n",
       "1             0          0          0  \n",
       "2             0          0          0  \n",
       "3             0          0          0  \n",
       "4             0          0          0  \n",
       "...         ...        ...        ...  \n",
       "4446          0          0          0  \n",
       "4447          0          0          0  \n",
       "4448          0          0          0  \n",
       "4449          0          0          0  \n",
       "4450          0          0          0  \n",
       "\n",
       "[4451 rows x 8 columns]"
      ]
     },
     "execution_count": 6,
     "metadata": {},
     "output_type": "execute_result"
    }
   ],
   "source": [
    "df = pd.read_csv(\"../data/training.csv\")\n",
    "df"
   ]
  },
  {
   "cell_type": "markdown",
   "metadata": {
    "id": "eea4638e2f4341298f524e32a5933ece"
   },
   "source": [
    "# Energy Loss Anomaly Deployment"
   ]
  },
  {
   "cell_type": "markdown",
   "metadata": {
    "id": "b8e26869dec246ae875d19f035b898a3"
   },
   "source": [
    "## Defining Paths"
   ]
  },
  {
   "cell_type": "code",
   "execution_count": 6,
   "metadata": {
    "id": "bbfcfded66554860873936a932bd363c"
   },
   "outputs": [],
   "source": [
    "# Define the file paths\n",
    "endpoint_url = \"http://localhost:8000/ibm/modelfactory/service\"\n",
    "data_file_path = \"../data/training.csv\""
   ]
  },
  {
   "cell_type": "markdown",
   "metadata": {
    "id": "33b4abb6ddea42498612df7ebdcc22c0"
   },
   "source": [
    "## Preparation of Configuration File"
   ]
  },
  {
   "cell_type": "markdown",
   "metadata": {
    "id": "df8187bce9f5402ab9898baa77ccafcf"
   },
   "source": [
    "A requirement of the recipe is preparation of the configuration file for training. \n",
    "\n",
    "\n",
    "Information including column specification, loss factor calculation method, the option to use an a priori peak power are all options that can be configured.\n",
    "\n",
    "\n",
    "Most important the \"output\" can be changed to \"energy_loss\", \"load_factor\" or \"loss_factor\"\n",
    "\n",
    "For more detail for preparing the configuration file see the [documentation](https://github.ibm.com/srom/ModelFactory/blob/development/model_factory/recipes/electrical_transformer/docs/energyloss.md)"
   ]
  },
  {
   "cell_type": "markdown",
   "metadata": {
    "id": "a97e1ea93e874ac08d9d2bb176feaa0d"
   },
   "source": [
    "## POST Response"
   ]
  },
  {
   "cell_type": "code",
   "execution_count": 7,
   "metadata": {
    "id": "cf44ddd4-43ed-453c-bad9-33ecbffaa7ed"
   },
   "outputs": [],
   "source": [
    "import requests\n",
    "\n",
    "data = {\n",
    "    \"feature_columns\": \"load_factor,loss_factor,energy_loss\",\n",
    "    \"result\": \"score\"\n",
    "}\n",
    "files = {\n",
    "    \"data_file\": (\"training.csv\", open(data_file_path, 'rb')),\n",
    "}\n",
    "\n",
    "url = endpoint_url + \"/recipe/electrical-transformer/anomaly/energyloss\"\n",
    "post_response = requests.request(\"POST\", url, headers={}, data=data, files=files)"
   ]
  },
  {
   "cell_type": "code",
   "execution_count": 8,
   "metadata": {
    "id": "7b2be84a-f6b4-4b45-861e-d4f8541550cf"
   },
   "outputs": [
    {
     "name": "stdout",
     "output_type": "stream",
     "text": [
      "{'job_id': '1eecb3db-4b03-49b7-a781-7c1b2e12a707', 'message': 'Job 1eecb3db-4b03-49b7-a781-7c1b2e12a707 was submitted.', 'status': 'INITIALIZING'}\n"
     ]
    }
   ],
   "source": [
    "post_r_json = post_response.json()\n",
    "\n",
    "anomaly_service_jobId = None\n",
    "\n",
    "if 'jobId' in post_r_json:\n",
    "    anomaly_service_jobId = post_r_json['jobId']\n",
    "    print ('submitted successfully job : ', post_r_json['jobId'])\n",
    "else:\n",
    "    print (post_r_json)\n",
    "time.sleep(5)"
   ]
  },
  {
   "cell_type": "markdown",
   "metadata": {},
   "source": [
    "## GET Response  - Keep Refresh it for a while until seeing the STATUS changed to DONE"
   ]
  },
  {
   "cell_type": "markdown",
   "metadata": {},
   "source": [
    "The status of the job may be running, flagged by INITALIZING or EXECUTING\n",
    "\n",
    "After a while the model recipe training is complete, and the STATUS changes to DONE"
   ]
  },
  {
   "cell_type": "code",
   "execution_count": 9,
   "metadata": {},
   "outputs": [],
   "source": [
    "log_url = endpoint_url + \"/log/\"\n",
    "job_id = post_r_json['job_id']"
   ]
  },
  {
   "cell_type": "code",
   "execution_count": 10,
   "metadata": {},
   "outputs": [
    {
     "name": "stdout",
     "output_type": "stream",
     "text": [
      "http://localhost:8000/ibm/modelfactory/service/log/1eecb3db-4b03-49b7-a781-7c1b2e12a707\n"
     ]
    }
   ],
   "source": [
    "print(log_url + job_id)"
   ]
  },
  {
   "cell_type": "markdown",
   "metadata": {
    "id": "5cbe57589c8d4db49bad58d0f3a99f43"
   },
   "source": [
    "## GET Response"
   ]
  },
  {
   "cell_type": "code",
   "execution_count": 11,
   "metadata": {
    "id": "6b5b8e5a-69bd-4475-84c7-2ba67afb886b"
   },
   "outputs": [
    {
     "name": "stdout",
     "output_type": "stream",
     "text": [
      "The status of job 1eecb3db-4b03-49b7-a781-7c1b2e12a707 is DONE.\n"
     ]
    },
    {
     "data": {
      "text/plain": [
       "'DONE'"
      ]
     },
     "execution_count": 11,
     "metadata": {},
     "output_type": "execute_result"
    }
   ],
   "source": [
    "job_id = post_r_json[\"job_id\"]\n",
    "# Get Status\n",
    "print_job_status(job_id,endpoint_url)"
   ]
  },
  {
   "cell_type": "markdown",
   "metadata": {
    "id": "59d9803bc69b4fc986044a2a8bddbe65"
   },
   "source": [
    "The status of the job may be running, flagged by INITALIZING or EXECUTING\n",
    "\n",
    "After a while the model recipe training is complete, and the STATUS changes to DONE"
   ]
  },
  {
   "cell_type": "code",
   "execution_count": 12,
   "metadata": {
    "id": "2985e21c-f3d5-4de9-a7cc-c2edffcb6c26"
   },
   "outputs": [
    {
     "name": "stdout",
     "output_type": "stream",
     "text": [
      "The status of job 1eecb3db-4b03-49b7-a781-7c1b2e12a707 is DONE.\n"
     ]
    },
    {
     "data": {
      "text/plain": [
       "'DONE'"
      ]
     },
     "execution_count": 12,
     "metadata": {},
     "output_type": "execute_result"
    }
   ],
   "source": [
    "# Get Status\n",
    "print_job_status(job_id,endpoint_url)"
   ]
  },
  {
   "cell_type": "code",
   "execution_count": 24,
   "metadata": {
    "id": "171793bf1263465e800fc999c7e17d6f"
   },
   "outputs": [
    {
     "name": "stdout",
     "output_type": "stream",
     "text": [
      "summary {'run_id': 'ec9217cf80f841f5a3bebca8ef8632be', 'experiment_id': '16', 'status': 'FINISHED', 'artifact_uri': 's3://testdataupload/16/ec9217cf80f841f5a3bebca8ef8632be/artifacts', 'start_time': '2023-11-17T21:09:00.092000+00:00', 'end_time': '2023-11-17T21:09:39.665000+00:00', 'params.data_path': 's3://testdataupload/1eecb3db-4b03-49b7-a781-7c1b2e12a707', 'params.result': 'label', 'params.feature_columns': 'load_factor,loss_factor,energy_loss', 'tags.mlflow.user': 'root', 'tags.mlflow.source.name': '/tmp/ray/session_2023-11-17_16-39-41_914185_1/runtime_resources/working_dir_files/_ray_pkg_9ef5300bceae2146', 'tags.mlflow.project.entryPoint': 'anomaly_unsupervised', 'tags.step': 'anomaly_unsupervised', 'tags.mlflow.project.backend': 'local', 'tags.mlflow.runName': 'gregarious-kit-47', 'tags.mlflow.source.type': 'PROJECT', 'tags.mlflow.log-model.history': '[{\"run_id\": \"ec9217cf80f841f5a3bebca8ef8632be\", \"artifact_path\": \"energyloss_AD\", \"utc_time_created\": \"2023-11-17 21:09:35.287806\", \"flavors\": {\"python_function\": {\"model_path\": \"model.pkl\", \"predict_fn\": \"predict\", \"loader_module\": \"mlflow.sklearn\", \"python_version\": \"3.9.2\", \"env\": {\"conda\": \"conda.yaml\", \"virtualenv\": \"python_env.yaml\"}}, \"sklearn\": {\"pickled_model\": \"model.pkl\", \"sklearn_version\": \"1.1.1\", \"serialization_format\": \"cloudpickle\", \"code\": null}}, \"model_uuid\": \"d7de5911743e4ef7858ed4528cf72c9b\", \"mlflow_version\": \"2.8.0\", \"model_size_bytes\": 203584}]', 'tags.mlflow.parentRunId': '0e9994216dbb4903a5b8fc1cfda2e35e', 'tags.summary': 'true', 'tags.recipe': 'electrical-transformer'}\n",
      "summary {'run_id': '0e9994216dbb4903a5b8fc1cfda2e35e', 'experiment_id': '16', 'status': 'FINISHED', 'artifact_uri': 's3://testdataupload/16/0e9994216dbb4903a5b8fc1cfda2e35e/artifacts', 'start_time': '2023-11-17T21:09:00.014000+00:00', 'end_time': '2023-11-17T21:09:39.696000+00:00', 'params.data_path': '', 'params.result': '', 'params.feature_columns': '', 'tags.mlflow.user': 'root', 'tags.mlflow.source.name': '/tmp/ray/session_2023-11-17_16-39-41_914185_1/runtime_resources/working_dir_files/_ray_pkg_9ef5300bceae2146/main.py', 'tags.mlflow.project.entryPoint': '', 'tags.step': '', 'tags.mlflow.project.backend': '', 'tags.mlflow.runName': 'angry-chimp-991', 'tags.mlflow.source.type': 'LOCAL', 'tags.mlflow.log-model.history': '', 'tags.mlflow.parentRunId': '', 'tags.summary': '', 'tags.recipe': 'electrical-transformer'}\n"
     ]
    },
    {
     "data": {
      "text/html": [
       "<div style='font-family: Arial; font-size: 1.2em;'><p>job_id: 1eecb3db-4b03-49b7-a781-7c1b2e12a707</p><p>status: DONE</p><br><p>run_id: ec9217cf80f841f5a3bebca8ef8632be</p><p>experiment_id: 16</p><p>status: FINISHED</p><p>artifact_uri: s3://testdataupload/16/ec9217cf80f841f5a3bebca8ef8632be/artifacts</p><p>artifact_name: No artifact_name found</p><br><p>run_id: 0e9994216dbb4903a5b8fc1cfda2e35e</p><p>experiment_id: 16</p><p>status: FINISHED</p><p>artifact_uri: s3://testdataupload/16/0e9994216dbb4903a5b8fc1cfda2e35e/artifacts</p><p>artifact_name: No artifact_name found</p><br></div>"
      ],
      "text/plain": [
       "<IPython.core.display.HTML object>"
      ]
     },
     "metadata": {},
     "output_type": "display_data"
    },
    {
     "name": "stdout",
     "output_type": "stream",
     "text": [
      "{'job_id': '1eecb3db-4b03-49b7-a781-7c1b2e12a707', 'status': 'DONE', 'summary': {'model_uri': 'runs:/ec9217cf80f841f5a3bebca8ef8632be/energyloss_AD', 'dag_info': {'total_stage': 1, 'total_nodes': 4, 'total_paths': 4, 'total_pipelines': 4}, 'best_score': 19.711957218209626}, 'detailed_summary': [{'run_id': 'ec9217cf80f841f5a3bebca8ef8632be', 'experiment_id': '16', 'status': 'FINISHED', 'artifact_uri': 's3://testdataupload/16/ec9217cf80f841f5a3bebca8ef8632be/artifacts', 'start_time': '2023-11-17T21:09:00.092000+00:00', 'end_time': '2023-11-17T21:09:39.665000+00:00', 'params.data_path': 's3://testdataupload/1eecb3db-4b03-49b7-a781-7c1b2e12a707', 'params.result': 'label', 'params.feature_columns': 'load_factor,loss_factor,energy_loss', 'tags.mlflow.user': 'root', 'tags.mlflow.source.name': '/tmp/ray/session_2023-11-17_16-39-41_914185_1/runtime_resources/working_dir_files/_ray_pkg_9ef5300bceae2146', 'tags.mlflow.project.entryPoint': 'anomaly_unsupervised', 'tags.step': 'anomaly_unsupervised', 'tags.mlflow.project.backend': 'local', 'tags.mlflow.runName': 'gregarious-kit-47', 'tags.mlflow.source.type': 'PROJECT', 'tags.mlflow.log-model.history': '[{\"run_id\": \"ec9217cf80f841f5a3bebca8ef8632be\", \"artifact_path\": \"energyloss_AD\", \"utc_time_created\": \"2023-11-17 21:09:35.287806\", \"flavors\": {\"python_function\": {\"model_path\": \"model.pkl\", \"predict_fn\": \"predict\", \"loader_module\": \"mlflow.sklearn\", \"python_version\": \"3.9.2\", \"env\": {\"conda\": \"conda.yaml\", \"virtualenv\": \"python_env.yaml\"}}, \"sklearn\": {\"pickled_model\": \"model.pkl\", \"sklearn_version\": \"1.1.1\", \"serialization_format\": \"cloudpickle\", \"code\": null}}, \"model_uuid\": \"d7de5911743e4ef7858ed4528cf72c9b\", \"mlflow_version\": \"2.8.0\", \"model_size_bytes\": 203584}]', 'tags.mlflow.parentRunId': '0e9994216dbb4903a5b8fc1cfda2e35e', 'tags.summary': 'true', 'tags.recipe': 'electrical-transformer'}, {'run_id': '0e9994216dbb4903a5b8fc1cfda2e35e', 'experiment_id': '16', 'status': 'FINISHED', 'artifact_uri': 's3://testdataupload/16/0e9994216dbb4903a5b8fc1cfda2e35e/artifacts', 'start_time': '2023-11-17T21:09:00.014000+00:00', 'end_time': '2023-11-17T21:09:39.696000+00:00', 'params.data_path': '', 'params.result': '', 'params.feature_columns': '', 'tags.mlflow.user': 'root', 'tags.mlflow.source.name': '/tmp/ray/session_2023-11-17_16-39-41_914185_1/runtime_resources/working_dir_files/_ray_pkg_9ef5300bceae2146/main.py', 'tags.mlflow.project.entryPoint': '', 'tags.step': '', 'tags.mlflow.project.backend': '', 'tags.mlflow.runName': 'angry-chimp-991', 'tags.mlflow.source.type': 'LOCAL', 'tags.mlflow.log-model.history': '', 'tags.mlflow.parentRunId': '', 'tags.summary': '', 'tags.recipe': 'electrical-transformer'}]}\n"
     ]
    }
   ],
   "source": [
    "# Get selected details\n",
    "json_data = print_job_details(job_id,endpoint_url)\n",
    "\n",
    "# Get all details\n",
    "\n",
    "print_all_status(job_id, endpoint_url)"
   ]
  },
  {
   "cell_type": "code",
   "execution_count": 25,
   "metadata": {},
   "outputs": [
    {
     "data": {
      "text/plain": [
       "{'job_id': '1eecb3db-4b03-49b7-a781-7c1b2e12a707',\n",
       " 'status': 'DONE',\n",
       " 'summary': {'model_uri': 'runs:/ec9217cf80f841f5a3bebca8ef8632be/energyloss_AD',\n",
       "  'dag_info': {'total_stage': 1,\n",
       "   'total_nodes': 4,\n",
       "   'total_paths': 4,\n",
       "   'total_pipelines': 4},\n",
       "  'best_score': 19.711957218209626},\n",
       " 'detailed_summary': [{'run_id': 'ec9217cf80f841f5a3bebca8ef8632be',\n",
       "   'experiment_id': '16',\n",
       "   'status': 'FINISHED',\n",
       "   'artifact_uri': 's3://testdataupload/16/ec9217cf80f841f5a3bebca8ef8632be/artifacts',\n",
       "   'start_time': '2023-11-17T21:09:00.092000+00:00',\n",
       "   'end_time': '2023-11-17T21:09:39.665000+00:00',\n",
       "   'params.data_path': 's3://testdataupload/1eecb3db-4b03-49b7-a781-7c1b2e12a707',\n",
       "   'params.result': 'label',\n",
       "   'params.feature_columns': 'load_factor,loss_factor,energy_loss',\n",
       "   'tags.mlflow.user': 'root',\n",
       "   'tags.mlflow.source.name': '/tmp/ray/session_2023-11-17_16-39-41_914185_1/runtime_resources/working_dir_files/_ray_pkg_9ef5300bceae2146',\n",
       "   'tags.mlflow.project.entryPoint': 'anomaly_unsupervised',\n",
       "   'tags.step': 'anomaly_unsupervised',\n",
       "   'tags.mlflow.project.backend': 'local',\n",
       "   'tags.mlflow.runName': 'gregarious-kit-47',\n",
       "   'tags.mlflow.source.type': 'PROJECT',\n",
       "   'tags.mlflow.log-model.history': '[{\"run_id\": \"ec9217cf80f841f5a3bebca8ef8632be\", \"artifact_path\": \"energyloss_AD\", \"utc_time_created\": \"2023-11-17 21:09:35.287806\", \"flavors\": {\"python_function\": {\"model_path\": \"model.pkl\", \"predict_fn\": \"predict\", \"loader_module\": \"mlflow.sklearn\", \"python_version\": \"3.9.2\", \"env\": {\"conda\": \"conda.yaml\", \"virtualenv\": \"python_env.yaml\"}}, \"sklearn\": {\"pickled_model\": \"model.pkl\", \"sklearn_version\": \"1.1.1\", \"serialization_format\": \"cloudpickle\", \"code\": null}}, \"model_uuid\": \"d7de5911743e4ef7858ed4528cf72c9b\", \"mlflow_version\": \"2.8.0\", \"model_size_bytes\": 203584}]',\n",
       "   'tags.mlflow.parentRunId': '0e9994216dbb4903a5b8fc1cfda2e35e',\n",
       "   'tags.summary': 'true',\n",
       "   'tags.recipe': 'electrical-transformer'},\n",
       "  {'run_id': '0e9994216dbb4903a5b8fc1cfda2e35e',\n",
       "   'experiment_id': '16',\n",
       "   'status': 'FINISHED',\n",
       "   'artifact_uri': 's3://testdataupload/16/0e9994216dbb4903a5b8fc1cfda2e35e/artifacts',\n",
       "   'start_time': '2023-11-17T21:09:00.014000+00:00',\n",
       "   'end_time': '2023-11-17T21:09:39.696000+00:00',\n",
       "   'params.data_path': '',\n",
       "   'params.result': '',\n",
       "   'params.feature_columns': '',\n",
       "   'tags.mlflow.user': 'root',\n",
       "   'tags.mlflow.source.name': '/tmp/ray/session_2023-11-17_16-39-41_914185_1/runtime_resources/working_dir_files/_ray_pkg_9ef5300bceae2146/main.py',\n",
       "   'tags.mlflow.project.entryPoint': '',\n",
       "   'tags.step': '',\n",
       "   'tags.mlflow.project.backend': '',\n",
       "   'tags.mlflow.runName': 'angry-chimp-991',\n",
       "   'tags.mlflow.source.type': 'LOCAL',\n",
       "   'tags.mlflow.log-model.history': '',\n",
       "   'tags.mlflow.parentRunId': '',\n",
       "   'tags.summary': '',\n",
       "   'tags.recipe': 'electrical-transformer'}]}"
      ]
     },
     "execution_count": 25,
     "metadata": {},
     "output_type": "execute_result"
    }
   ],
   "source": [
    "json_data"
   ]
  },
  {
   "cell_type": "code",
   "execution_count": 28,
   "metadata": {},
   "outputs": [],
   "source": [
    "s3_folder_name = 'energyloss_AD'"
   ]
  },
  {
   "cell_type": "code",
   "execution_count": 29,
   "metadata": {},
   "outputs": [],
   "source": [
    "import yaml\n",
    "if 'status' in json_data:\n",
    "    if json_data['status'] == 'DONE':\n",
    "        if \"summary\" in json_data:\n",
    "            if \"model_uri\" in json_data['summary']:\n",
    "                model_uri = json_data['summary']['model_uri']                 \n",
    "        for summary in json_data[\"detailed_summary\"]:\n",
    "            if summary['tags.step']!=\"\":\n",
    "                s3_uri = summary[\"artifact_uri\"] + \"/\" + s3_folder_name                \n",
    "        output_data = {\n",
    "            \"model_uri\" : model_uri,\n",
    "            \"train_job_id\" : job_id,\n",
    "            \"s3_uri\": s3_uri,\n",
    "        }\n",
    "        with open(\"../config/model_info.yml\",\"w\") as file:\n",
    "            yaml.dump(output_data, file)\n",
    "        output_data"
   ]
  },
  {
   "cell_type": "code",
   "execution_count": 30,
   "metadata": {},
   "outputs": [
    {
     "data": {
      "text/plain": [
       "{'model_uri': 'runs:/ec9217cf80f841f5a3bebca8ef8632be/energyloss_AD',\n",
       " 'train_job_id': '1eecb3db-4b03-49b7-a781-7c1b2e12a707',\n",
       " 's3_uri': 's3://testdataupload/16/ec9217cf80f841f5a3bebca8ef8632be/artifacts/energyloss_AD'}"
      ]
     },
     "execution_count": 30,
     "metadata": {},
     "output_type": "execute_result"
    }
   ],
   "source": [
    "output_data"
   ]
  },
  {
   "cell_type": "code",
   "execution_count": null,
   "metadata": {},
   "outputs": [],
   "source": []
  }
 ],
 "metadata": {
  "kernelspec": {
   "display_name": "mf",
   "language": "python",
   "name": "mf"
  },
  "language_info": {
   "codemirror_mode": {
    "name": "ipython",
    "version": 3
   },
   "file_extension": ".py",
   "mimetype": "text/x-python",
   "name": "python",
   "nbconvert_exporter": "python",
   "pygments_lexer": "ipython3",
   "version": "3.9.12"
  }
 },
 "nbformat": 4,
 "nbformat_minor": 1
}
