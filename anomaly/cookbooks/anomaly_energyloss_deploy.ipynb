{
 "cells": [
  {
   "cell_type": "markdown",
   "metadata": {},
   "source": [
    "# Anomaly WML Deployment Noteook\n",
    "\n",
    "This notebook demonstrates the use of AI Model Factory recipes to deploy energy loss pipeline to WML\n",
    "\n",
    "Last Updated November 29 2023"
   ]
  },
  {
   "cell_type": "markdown",
   "metadata": {
    "id": "d28b8309522643658c238a9cd5828175"
   },
   "source": [
    "## Import libraries"
   ]
  },
  {
   "cell_type": "code",
   "execution_count": 1,
   "metadata": {
    "id": "18207117e3a44e0983cd4dc1cde9143a"
   },
   "outputs": [],
   "source": [
    "import json\n",
    "import requests\n",
    "import yaml"
   ]
  },
  {
   "cell_type": "markdown",
   "metadata": {
    "id": "ee4cb92bab36420c83b6fcbb30ccf44c"
   },
   "source": [
    "## Set Variables\n",
    "\n",
    "model_uri - URI to fetch the model from \\\n",
    "deployment_name - name to set for the deployment"
   ]
  },
  {
   "cell_type": "code",
   "execution_count": 2,
   "metadata": {
    "id": "e53d63c62331482184471d05f623b457"
   },
   "outputs": [
    {
     "name": "stdout",
     "output_type": "stream",
     "text": [
      "{'model_uri': 'runs:/ec9217cf80f841f5a3bebca8ef8632be/energyloss_AD', 's3_uri': 's3://testdataupload/16/ec9217cf80f841f5a3bebca8ef8632be/artifacts/energyloss_AD', 'train_job_id': '1eecb3db-4b03-49b7-a781-7c1b2e12a707'}\n"
     ]
    }
   ],
   "source": [
    "model_factory_config_file_name = \"../config/model_info.yml\"\n",
    "\n",
    "\n",
    "with open(model_factory_config_file_name, 'r') as file:\n",
    "    model_factory_config = yaml.safe_load(file)\n",
    "\n",
    "print(model_factory_config)"
   ]
  },
  {
   "cell_type": "code",
   "execution_count": 3,
   "metadata": {},
   "outputs": [],
   "source": [
    "model_uri = model_factory_config['s3_uri']\n",
    "deployment_name = \"energyloss_AD_111723_joe\""
   ]
  },
  {
   "cell_type": "code",
   "execution_count": 4,
   "metadata": {},
   "outputs": [
    {
     "data": {
      "text/plain": [
       "'s3://testdataupload/16/ec9217cf80f841f5a3bebca8ef8632be/artifacts/energyloss_AD'"
      ]
     },
     "execution_count": 4,
     "metadata": {},
     "output_type": "execute_result"
    }
   ],
   "source": [
    "model_uri"
   ]
  },
  {
   "cell_type": "code",
   "execution_count": 5,
   "metadata": {},
   "outputs": [
    {
     "name": "stdout",
     "output_type": "stream",
     "text": [
      "s3://testdataupload/16/ec9217cf80f841f5a3bebca8ef8632be/artifacts/energyloss_AD\n"
     ]
    }
   ],
   "source": [
    "print(model_uri)"
   ]
  },
  {
   "cell_type": "code",
   "execution_count": 6,
   "metadata": {
    "id": "6d61996d90e84a1ea0b005b66a26ba2e"
   },
   "outputs": [],
   "source": [
    "endpoint_url = \"http://localhost:8000/ibm/modelfactory/service\"\n",
    "credentials_path = \"../../config/credentials/wml-credentials.json\""
   ]
  },
  {
   "cell_type": "code",
   "execution_count": 7,
   "metadata": {
    "id": "e7b9319a09494eab999f85e8aa50ba4a"
   },
   "outputs": [],
   "source": [
    "url = endpoint_url + \"/deployment/wml/create\""
   ]
  },
  {
   "cell_type": "markdown",
   "metadata": {
    "id": "03090a1f00034ddb8dc06bd1487d6f41"
   },
   "source": [
    "## Create a request to call WML deployment recipe"
   ]
  },
  {
   "cell_type": "code",
   "execution_count": 8,
   "metadata": {
    "id": "09a737f5762d4aba8c6efa6472887d95"
   },
   "outputs": [],
   "source": [
    "payload = {\n",
    "    'endpoint': 'electrical_transformer_deployments',\n",
    "    'deployment_name': deployment_name,\n",
    "    'model_uri': model_uri,\n",
    "    'flavor': 'sklearn',\n",
    "    'software_spec_name': 'modelfactory',\n",
    "    \n",
    "}"
   ]
  },
  {
   "cell_type": "code",
   "execution_count": 9,
   "metadata": {
    "id": "14533cdc237a4b108d3491ad9c4d889e"
   },
   "outputs": [],
   "source": [
    "files={\n",
    "      \"wml_credentials_file\": ('modelfactory-modelfactory-wml-credentials.json',open(credentials_path,'rb'),'application/json')\n",
    "}"
   ]
  },
  {
   "cell_type": "code",
   "execution_count": 10,
   "metadata": {
    "id": "091fd47b465d48a08a39cf8a3e66a30a"
   },
   "outputs": [],
   "source": [
    "headers = {\n",
    "  'accept': 'application/json'\n",
    "}"
   ]
  },
  {
   "cell_type": "code",
   "execution_count": 11,
   "metadata": {
    "id": "9b577f31a38f48af968cae58119e43f0"
   },
   "outputs": [],
   "source": [
    "response = requests.request(\"POST\", url, headers=headers, data=payload, files=files)"
   ]
  },
  {
   "cell_type": "code",
   "execution_count": 12,
   "metadata": {
    "id": "233b91f743994a718b79d2ce679a83f1"
   },
   "outputs": [
    {
     "name": "stdout",
     "output_type": "stream",
     "text": [
      "{\"job_id\":\"08bf718e-0802-4870-bca6-a82261f38302\",\"message\":\"WML deployment energyloss_AD_111723_joe submitted for creation\"}\n"
     ]
    }
   ],
   "source": [
    "print(response.text)"
   ]
  },
  {
   "cell_type": "markdown",
   "metadata": {
    "id": "ba96b5fb4bb9488d8e278c44ff87299d"
   },
   "source": [
    "## Check the status of the job"
   ]
  },
  {
   "cell_type": "code",
   "execution_count": 13,
   "metadata": {
    "id": "8fa7f458600044508926071df59ec268"
   },
   "outputs": [],
   "source": [
    "job_id = json.loads(response.text)[\"job_id\"]"
   ]
  },
  {
   "cell_type": "code",
   "execution_count": 14,
   "metadata": {
    "id": "a11c50476b544f7ca0acba72ff927116"
   },
   "outputs": [],
   "source": [
    "url = endpoint_url + \"/log\" + f\"/{job_id}\""
   ]
  },
  {
   "cell_type": "code",
   "execution_count": 15,
   "metadata": {
    "id": "ef2cc1d1ad02496aa0114b9a9047f1cc"
   },
   "outputs": [],
   "source": [
    "response = requests.request(\"GET\", url, headers=headers, data={}, files=[])"
   ]
  },
  {
   "cell_type": "code",
   "execution_count": 16,
   "metadata": {
    "id": "1969e8d4e5314aa08e74b3c029f980a6"
   },
   "outputs": [
    {
     "name": "stdout",
     "output_type": "stream",
     "text": [
      "recipe_file_path /tmp/ray/session_2023-11-17_16-39-41_914185_1/runtime_resources/working_dir_files/_ray_pkg_d788be949e2811fd/Recipe.create\n",
      "entrypoint_path /tmp/ray/session_2023-11-17_16-39-41_914185_1/runtime_resources/working_dir_files/_ray_pkg_d788be949e2811fd/main.py\n",
      "\n"
     ]
    }
   ],
   "source": [
    "print(json.loads(response.text)[\"logs\"])"
   ]
  },
  {
   "cell_type": "markdown",
   "metadata": {
    "id": "cf0c392fd72c49c880347373851deeb3"
   },
   "source": [
    "## Get the summary of the job"
   ]
  },
  {
   "cell_type": "code",
   "execution_count": 17,
   "metadata": {
    "id": "70eb24d8218d4ec8886f252fdb8a6b19"
   },
   "outputs": [],
   "source": [
    "url = endpoint_url + \"/summary\" + f\"/{job_id}\""
   ]
  },
  {
   "cell_type": "code",
   "execution_count": 18,
   "metadata": {
    "id": "2ed2c0191b5a444484d394bfe62edf22"
   },
   "outputs": [],
   "source": [
    "response = requests.request(\"GET\", url, headers=headers, data={}, files=[])"
   ]
  },
  {
   "cell_type": "code",
   "execution_count": 19,
   "metadata": {
    "id": "4ae29bfdf20f4d4f8d32779466be5f9e"
   },
   "outputs": [],
   "source": [
    "# More print functions using display \n",
    "from IPython.display import display, HTML\n",
    "import requests\n",
    "\n",
    "def print_job_details(job_id, endpoint_url):\n",
    "    # Extract the job ID and construct the URL\n",
    "    url = endpoint_url + \"/summary/\" + job_id\n",
    "    \n",
    "    # Send a GET request to fetch the job status\n",
    "    get_response = requests.get(url, headers={})\n",
    "    summary_data = get_response.json()\n",
    "    \n",
    "    # Display the job status\n",
    "    display(HTML(print_keys_and_values(summary_data)))\n",
    "\n",
    "    \n",
    "def print_keys_and_values(json_data):\n",
    "    # Start the HTML code\n",
    "    html_code = \"<div style='font-family: Arial; font-size: 1.2em;'>\"\n",
    "    \n",
    "    # Add the job details to the HTML code\n",
    "    html_code += f\"<p>job_id: {json_data['job_id']}</p>\"\n",
    "    if \"status\" in json_data:\n",
    "        html_code += f\"<p>status: {json_data['status']}</p>\"\n",
    "    html_code += \"<br>\"\n",
    "    if \"detailed_summary\" in json_data:\n",
    "        for summary in json_data['detailed_summary']:\n",
    "            html_code += f\"<p>run_id: {summary['run_id']}</p>\"\n",
    "            html_code += f\"<p>experiment_id: {summary['experiment_id']}</p>\"\n",
    "            html_code += f\"<p>status: {summary['status']}</p>\"\n",
    "            html_code += f\"<p>artifact_uri: {summary['artifact_uri']}</p>\"\n",
    "            html_code += f\"<p>artifact_name: {summary.get('tags.artifact_name', 'No artifact_name found')}</p>\"\n",
    "            html_code += \"<br>\"\n",
    "    \n",
    "    # Close the HTML code\n",
    "    html_code += \"</div>\"\n",
    "    \n",
    "    return html_code"
   ]
  },
  {
   "cell_type": "code",
   "execution_count": 23,
   "metadata": {
    "id": "f1ab7d51fce04eb48d0a806880531929"
   },
   "outputs": [
    {
     "data": {
      "text/html": [
       "<div style='font-family: Arial; font-size: 1.2em;'><p>job_id: 08bf718e-0802-4870-bca6-a82261f38302</p><p>status: DONE</p><br><p>run_id: 187804ad648e4daab2ed10d2cf55ee1f</p><p>experiment_id: 19</p><p>status: FINISHED</p><p>artifact_uri: s3://testdataupload/19/187804ad648e4daab2ed10d2cf55ee1f/artifacts</p><p>artifact_name: No artifact_name found</p><br><p>run_id: 947a55c20f7f4337a639217151321bf2</p><p>experiment_id: 19</p><p>status: FINISHED</p><p>artifact_uri: s3://testdataupload/19/947a55c20f7f4337a639217151321bf2/artifacts</p><p>artifact_name: No artifact_name found</p><br><p>run_id: 601bce95e44f4089a26e770391cdd4bf</p><p>experiment_id: 19</p><p>status: FINISHED</p><p>artifact_uri: s3://testdataupload/19/601bce95e44f4089a26e770391cdd4bf/artifacts</p><p>artifact_name: No artifact_name found</p><br><p>run_id: ba6983c45cf44a90a3af6baf90fd406d</p><p>experiment_id: 19</p><p>status: FINISHED</p><p>artifact_uri: s3://testdataupload/19/ba6983c45cf44a90a3af6baf90fd406d/artifacts</p><p>artifact_name: No artifact_name found</p><br></div>"
      ],
      "text/plain": [
       "<IPython.core.display.HTML object>"
      ]
     },
     "metadata": {},
     "output_type": "display_data"
    }
   ],
   "source": [
    "print_job_details(job_id, endpoint_url)"
   ]
  },
  {
   "cell_type": "markdown",
   "metadata": {
    "id": "22cb01a95686499584b6ecc033c9296b"
   },
   "source": [
    "### Saving details for deployment"
   ]
  },
  {
   "cell_type": "code",
   "execution_count": 28,
   "metadata": {},
   "outputs": [
    {
     "data": {
      "text/html": [
       "<div style='font-family: Arial; font-size: 1.2em;'><p>job_id: 08bf718e-0802-4870-bca6-a82261f38302</p><p>status: DONE</p><br><p>run_id: 187804ad648e4daab2ed10d2cf55ee1f</p><p>experiment_id: 19</p><p>status: FINISHED</p><p>artifact_uri: s3://testdataupload/19/187804ad648e4daab2ed10d2cf55ee1f/artifacts</p><p>artifact_name: No artifact_name found</p><br><p>run_id: 947a55c20f7f4337a639217151321bf2</p><p>experiment_id: 19</p><p>status: FINISHED</p><p>artifact_uri: s3://testdataupload/19/947a55c20f7f4337a639217151321bf2/artifacts</p><p>artifact_name: No artifact_name found</p><br><p>run_id: 601bce95e44f4089a26e770391cdd4bf</p><p>experiment_id: 19</p><p>status: FINISHED</p><p>artifact_uri: s3://testdataupload/19/601bce95e44f4089a26e770391cdd4bf/artifacts</p><p>artifact_name: No artifact_name found</p><br><p>run_id: ba6983c45cf44a90a3af6baf90fd406d</p><p>experiment_id: 19</p><p>status: FINISHED</p><p>artifact_uri: s3://testdataupload/19/ba6983c45cf44a90a3af6baf90fd406d/artifacts</p><p>artifact_name: No artifact_name found</p><br></div>"
      ],
      "text/plain": [
       "<IPython.core.display.HTML object>"
      ]
     },
     "metadata": {},
     "output_type": "display_data"
    }
   ],
   "source": [
    "json_data = print_job_details(job_id,endpoint_url)\n",
    "json_data"
   ]
  },
  {
   "cell_type": "code",
   "execution_count": 29,
   "metadata": {},
   "outputs": [
    {
     "name": "stdout",
     "output_type": "stream",
     "text": [
      "{'job_id': '08bf718e-0802-4870-bca6-a82261f38302', 'status': 'DONE', 'summary': {'deployment_details': {'entity': {'asset': {'id': 'f97c333a-f6c7-4da2-a891-3a45fc641c69', 'rev': '1'}, 'custom': {'AWS_ACCESS_KEY_ID': 'e6d28d7de535464da066c608726b4ee3', 'AWS_SECRET_ACCESS_KEY': '2fc6029cc5d799b6c572c0e730d6bc912c047cb1dddce409', 'MLFLOW_S3_ENDPOINT_URL': 'https://s3.us-south.cloud-object-storage.appdomain.cloud', 'MLFLOW_TRACKING_URI': 'http://mlflow:5000'}, 'deployed_asset_type': 'model', 'hardware_spec': {'id': 'b128f957-581d-46d0-95b6-8af5cd5be580', 'name': 'XXS', 'num_nodes': 1}, 'name': 'energyloss_AD_111723_joe', 'online': {}, 'space_id': 'a0521ce5-5547-41e2-8495-66012d7e8780', 'status': {'online_url': {'url': 'https://cpd-ibm-cpd.modelfactory-9ca4d14d48413d18ce61b80811ba4308-0000.us-south.containers.appdomain.cloud/ml/v4/deployments/654f68d2-d8e6-43b4-a13b-0ec2f265bb93/predictions'}, 'serving_urls': ['https://cpd-ibm-cpd.modelfactory-9ca4d14d48413d18ce61b80811ba4308-0000.us-south.containers.appdomain.cloud/ml/v4/deployments/654f68d2-d8e6-43b4-a13b-0ec2f265bb93/predictions'], 'state': 'ready'}}, 'metadata': {'created_at': '2023-11-17T21:31:41.910Z', 'id': '654f68d2-d8e6-43b4-a13b-0ec2f265bb93', 'modified_at': '2023-11-17T21:31:41.910Z', 'name': 'energyloss_AD_111723_joe', 'owner': '1000331002', 'space_id': 'a0521ce5-5547-41e2-8495-66012d7e8780'}, 'system': {'warnings': [{'id': 'Deprecated', 'message': 'online_url is deprecated and will be removed in a future release. Use serving_urls instead.'}]}, 'name': 'energyloss_AD_111723_joe'}}, 'detailed_summary': [{'run_id': '187804ad648e4daab2ed10d2cf55ee1f', 'experiment_id': '19', 'status': 'FINISHED', 'artifact_uri': 's3://testdataupload/19/187804ad648e4daab2ed10d2cf55ee1f/artifacts', 'start_time': '2023-11-17T21:31:09.439000+00:00', 'end_time': '2023-11-17T21:36:33.166000+00:00', 'params.model_uri': 's3://testdataupload/16/ec9217cf80f841f5a3bebca8ef8632be/artifacts/energyloss_AD', 'params.flavor': 'sklearn', 'params.wml_credentials': '\\'{\"username\": \"modelfactory\", \"apikey\": \"AfoFUqMdeTrdCpKgOFNFLeXITQMrtsdVi9A17Ga2\", \"url\": \"https://cpd-ibm-cpd.modelfactory-9ca4d14d48413d18ce61b80811ba4308-0000.us-south.containers.appdomain.cloud/\", \"instance_id\": \"openshift\", \"version\": \"4.0\"}\\'', 'params.endpoint': 'electrical_transformer_deployments', 'params.software_spec_name': 'modelfactory', 'params.deployment_name': 'energyloss_AD_111723_joe', 'params.pkg_path': '', 'params.conda_yaml': '', 'params.rewrite': '', 'params.wml_credentials_file_path': '', 'tags.mlflow.user': 'root', 'tags.mlflow.source.name': '/tmp/ray/session_2023-11-17_16-39-41_914185_1/runtime_resources/working_dir_files/_ray_pkg_d788be949e2811fd', 'tags.mlflow.project.entryPoint': 'model_deployment', 'tags.mlflow.project.backend': 'local', 'tags.mlflow.runName': 'defiant-koi-148', 'tags.mlflow.source.type': 'PROJECT', 'tags.mlflow.parentRunId': 'ba6983c45cf44a90a3af6baf90fd406d', 'tags.summary': 'true', 'tags.recipe': ''}, {'run_id': '947a55c20f7f4337a639217151321bf2', 'experiment_id': '19', 'status': 'FINISHED', 'artifact_uri': 's3://testdataupload/19/947a55c20f7f4337a639217151321bf2/artifacts', 'start_time': '2023-11-17T21:31:02.202000+00:00', 'end_time': '2023-11-17T21:31:08.872000+00:00', 'params.model_uri': '', 'params.flavor': '', 'params.wml_credentials': '\\'{\"username\": \"modelfactory\", \"apikey\": \"AfoFUqMdeTrdCpKgOFNFLeXITQMrtsdVi9A17Ga2\", \"url\": \"https://cpd-ibm-cpd.modelfactory-9ca4d14d48413d18ce61b80811ba4308-0000.us-south.containers.appdomain.cloud/\", \"instance_id\": \"openshift\", \"version\": \"4.0\"}\\'', 'params.endpoint': 'electrical_transformer_deployments', 'params.software_spec_name': 'modelfactory', 'params.deployment_name': '', 'params.pkg_path': 'None', 'params.conda_yaml': 'None', 'params.rewrite': 'False', 'params.wml_credentials_file_path': '', 'tags.mlflow.user': 'root', 'tags.mlflow.source.name': '/tmp/ray/session_2023-11-17_16-39-41_914185_1/runtime_resources/working_dir_files/_ray_pkg_d788be949e2811fd', 'tags.mlflow.project.entryPoint': 'software_specification', 'tags.mlflow.project.backend': 'local', 'tags.mlflow.runName': 'bemused-dog-332', 'tags.mlflow.source.type': 'PROJECT', 'tags.mlflow.parentRunId': 'ba6983c45cf44a90a3af6baf90fd406d', 'tags.summary': '', 'tags.recipe': ''}, {'run_id': '601bce95e44f4089a26e770391cdd4bf', 'experiment_id': '19', 'status': 'FINISHED', 'artifact_uri': 's3://testdataupload/19/601bce95e44f4089a26e770391cdd4bf/artifacts', 'start_time': '2023-11-17T21:30:52.482000+00:00', 'end_time': '2023-11-17T21:31:00.412000+00:00', 'params.model_uri': '', 'params.flavor': '', 'params.wml_credentials': '', 'params.endpoint': 'electrical_transformer_deployments', 'params.software_spec_name': '', 'params.deployment_name': '', 'params.pkg_path': '', 'params.conda_yaml': '', 'params.rewrite': '', 'params.wml_credentials_file_path': 's3://testdataupload/08bf718e-0802-4870-bca6-a82261f38302_modelfactory-modelfactory-wml-credentials.json', 'tags.mlflow.user': 'root', 'tags.mlflow.source.name': '/tmp/ray/session_2023-11-17_16-39-41_914185_1/runtime_resources/working_dir_files/_ray_pkg_d788be949e2811fd', 'tags.mlflow.project.entryPoint': 'wml_authentication', 'tags.mlflow.project.backend': 'local', 'tags.mlflow.runName': 'vaunted-squirrel-20', 'tags.mlflow.source.type': 'PROJECT', 'tags.mlflow.parentRunId': 'ba6983c45cf44a90a3af6baf90fd406d', 'tags.summary': '', 'tags.recipe': ''}, {'run_id': 'ba6983c45cf44a90a3af6baf90fd406d', 'experiment_id': '19', 'status': 'FINISHED', 'artifact_uri': 's3://testdataupload/19/ba6983c45cf44a90a3af6baf90fd406d/artifacts', 'start_time': '2023-11-17T21:30:52.410000+00:00', 'end_time': '2023-11-17T21:36:33.197000+00:00', 'params.model_uri': '', 'params.flavor': '', 'params.wml_credentials': '', 'params.endpoint': '', 'params.software_spec_name': '', 'params.deployment_name': '', 'params.pkg_path': '', 'params.conda_yaml': '', 'params.rewrite': '', 'params.wml_credentials_file_path': '', 'tags.mlflow.user': 'root', 'tags.mlflow.source.name': '/usr/local/lib/python3.9/site-packages/ray/_private/workers/default_worker.py', 'tags.mlflow.project.entryPoint': '', 'tags.mlflow.project.backend': '', 'tags.mlflow.runName': 'blushing-lynx-45', 'tags.mlflow.source.type': 'LOCAL', 'tags.mlflow.parentRunId': '', 'tags.summary': '', 'tags.recipe': 'wml_deployment'}]}\n"
     ]
    }
   ],
   "source": [
    "# Check the summary\n",
    "summary_url = endpoint_url + \"/summary/\"\n",
    "get_response = requests.get(summary_url+job_id, headers={})\n",
    "summary_data = get_response.json()\n",
    "print(summary_data)\n"
   ]
  },
  {
   "cell_type": "code",
   "execution_count": 30,
   "metadata": {},
   "outputs": [
    {
     "data": {
      "text/plain": [
       "{'job_id': '08bf718e-0802-4870-bca6-a82261f38302',\n",
       " 'status': 'DONE',\n",
       " 'summary': {'deployment_details': {'entity': {'asset': {'id': 'f97c333a-f6c7-4da2-a891-3a45fc641c69',\n",
       "     'rev': '1'},\n",
       "    'custom': {'AWS_ACCESS_KEY_ID': 'e6d28d7de535464da066c608726b4ee3',\n",
       "     'AWS_SECRET_ACCESS_KEY': '2fc6029cc5d799b6c572c0e730d6bc912c047cb1dddce409',\n",
       "     'MLFLOW_S3_ENDPOINT_URL': 'https://s3.us-south.cloud-object-storage.appdomain.cloud',\n",
       "     'MLFLOW_TRACKING_URI': 'http://mlflow:5000'},\n",
       "    'deployed_asset_type': 'model',\n",
       "    'hardware_spec': {'id': 'b128f957-581d-46d0-95b6-8af5cd5be580',\n",
       "     'name': 'XXS',\n",
       "     'num_nodes': 1},\n",
       "    'name': 'energyloss_AD_111723_joe',\n",
       "    'online': {},\n",
       "    'space_id': 'a0521ce5-5547-41e2-8495-66012d7e8780',\n",
       "    'status': {'online_url': {'url': 'https://cpd-ibm-cpd.modelfactory-9ca4d14d48413d18ce61b80811ba4308-0000.us-south.containers.appdomain.cloud/ml/v4/deployments/654f68d2-d8e6-43b4-a13b-0ec2f265bb93/predictions'},\n",
       "     'serving_urls': ['https://cpd-ibm-cpd.modelfactory-9ca4d14d48413d18ce61b80811ba4308-0000.us-south.containers.appdomain.cloud/ml/v4/deployments/654f68d2-d8e6-43b4-a13b-0ec2f265bb93/predictions'],\n",
       "     'state': 'ready'}},\n",
       "   'metadata': {'created_at': '2023-11-17T21:31:41.910Z',\n",
       "    'id': '654f68d2-d8e6-43b4-a13b-0ec2f265bb93',\n",
       "    'modified_at': '2023-11-17T21:31:41.910Z',\n",
       "    'name': 'energyloss_AD_111723_joe',\n",
       "    'owner': '1000331002',\n",
       "    'space_id': 'a0521ce5-5547-41e2-8495-66012d7e8780'},\n",
       "   'system': {'warnings': [{'id': 'Deprecated',\n",
       "      'message': 'online_url is deprecated and will be removed in a future release. Use serving_urls instead.'}]},\n",
       "   'name': 'energyloss_AD_111723_joe'}},\n",
       " 'detailed_summary': [{'run_id': '187804ad648e4daab2ed10d2cf55ee1f',\n",
       "   'experiment_id': '19',\n",
       "   'status': 'FINISHED',\n",
       "   'artifact_uri': 's3://testdataupload/19/187804ad648e4daab2ed10d2cf55ee1f/artifacts',\n",
       "   'start_time': '2023-11-17T21:31:09.439000+00:00',\n",
       "   'end_time': '2023-11-17T21:36:33.166000+00:00',\n",
       "   'params.model_uri': 's3://testdataupload/16/ec9217cf80f841f5a3bebca8ef8632be/artifacts/energyloss_AD',\n",
       "   'params.flavor': 'sklearn',\n",
       "   'params.wml_credentials': '\\'{\"username\": \"modelfactory\", \"apikey\": \"AfoFUqMdeTrdCpKgOFNFLeXITQMrtsdVi9A17Ga2\", \"url\": \"https://cpd-ibm-cpd.modelfactory-9ca4d14d48413d18ce61b80811ba4308-0000.us-south.containers.appdomain.cloud/\", \"instance_id\": \"openshift\", \"version\": \"4.0\"}\\'',\n",
       "   'params.endpoint': 'electrical_transformer_deployments',\n",
       "   'params.software_spec_name': 'modelfactory',\n",
       "   'params.deployment_name': 'energyloss_AD_111723_joe',\n",
       "   'params.pkg_path': '',\n",
       "   'params.conda_yaml': '',\n",
       "   'params.rewrite': '',\n",
       "   'params.wml_credentials_file_path': '',\n",
       "   'tags.mlflow.user': 'root',\n",
       "   'tags.mlflow.source.name': '/tmp/ray/session_2023-11-17_16-39-41_914185_1/runtime_resources/working_dir_files/_ray_pkg_d788be949e2811fd',\n",
       "   'tags.mlflow.project.entryPoint': 'model_deployment',\n",
       "   'tags.mlflow.project.backend': 'local',\n",
       "   'tags.mlflow.runName': 'defiant-koi-148',\n",
       "   'tags.mlflow.source.type': 'PROJECT',\n",
       "   'tags.mlflow.parentRunId': 'ba6983c45cf44a90a3af6baf90fd406d',\n",
       "   'tags.summary': 'true',\n",
       "   'tags.recipe': ''},\n",
       "  {'run_id': '947a55c20f7f4337a639217151321bf2',\n",
       "   'experiment_id': '19',\n",
       "   'status': 'FINISHED',\n",
       "   'artifact_uri': 's3://testdataupload/19/947a55c20f7f4337a639217151321bf2/artifacts',\n",
       "   'start_time': '2023-11-17T21:31:02.202000+00:00',\n",
       "   'end_time': '2023-11-17T21:31:08.872000+00:00',\n",
       "   'params.model_uri': '',\n",
       "   'params.flavor': '',\n",
       "   'params.wml_credentials': '\\'{\"username\": \"modelfactory\", \"apikey\": \"AfoFUqMdeTrdCpKgOFNFLeXITQMrtsdVi9A17Ga2\", \"url\": \"https://cpd-ibm-cpd.modelfactory-9ca4d14d48413d18ce61b80811ba4308-0000.us-south.containers.appdomain.cloud/\", \"instance_id\": \"openshift\", \"version\": \"4.0\"}\\'',\n",
       "   'params.endpoint': 'electrical_transformer_deployments',\n",
       "   'params.software_spec_name': 'modelfactory',\n",
       "   'params.deployment_name': '',\n",
       "   'params.pkg_path': 'None',\n",
       "   'params.conda_yaml': 'None',\n",
       "   'params.rewrite': 'False',\n",
       "   'params.wml_credentials_file_path': '',\n",
       "   'tags.mlflow.user': 'root',\n",
       "   'tags.mlflow.source.name': '/tmp/ray/session_2023-11-17_16-39-41_914185_1/runtime_resources/working_dir_files/_ray_pkg_d788be949e2811fd',\n",
       "   'tags.mlflow.project.entryPoint': 'software_specification',\n",
       "   'tags.mlflow.project.backend': 'local',\n",
       "   'tags.mlflow.runName': 'bemused-dog-332',\n",
       "   'tags.mlflow.source.type': 'PROJECT',\n",
       "   'tags.mlflow.parentRunId': 'ba6983c45cf44a90a3af6baf90fd406d',\n",
       "   'tags.summary': '',\n",
       "   'tags.recipe': ''},\n",
       "  {'run_id': '601bce95e44f4089a26e770391cdd4bf',\n",
       "   'experiment_id': '19',\n",
       "   'status': 'FINISHED',\n",
       "   'artifact_uri': 's3://testdataupload/19/601bce95e44f4089a26e770391cdd4bf/artifacts',\n",
       "   'start_time': '2023-11-17T21:30:52.482000+00:00',\n",
       "   'end_time': '2023-11-17T21:31:00.412000+00:00',\n",
       "   'params.model_uri': '',\n",
       "   'params.flavor': '',\n",
       "   'params.wml_credentials': '',\n",
       "   'params.endpoint': 'electrical_transformer_deployments',\n",
       "   'params.software_spec_name': '',\n",
       "   'params.deployment_name': '',\n",
       "   'params.pkg_path': '',\n",
       "   'params.conda_yaml': '',\n",
       "   'params.rewrite': '',\n",
       "   'params.wml_credentials_file_path': 's3://testdataupload/08bf718e-0802-4870-bca6-a82261f38302_modelfactory-modelfactory-wml-credentials.json',\n",
       "   'tags.mlflow.user': 'root',\n",
       "   'tags.mlflow.source.name': '/tmp/ray/session_2023-11-17_16-39-41_914185_1/runtime_resources/working_dir_files/_ray_pkg_d788be949e2811fd',\n",
       "   'tags.mlflow.project.entryPoint': 'wml_authentication',\n",
       "   'tags.mlflow.project.backend': 'local',\n",
       "   'tags.mlflow.runName': 'vaunted-squirrel-20',\n",
       "   'tags.mlflow.source.type': 'PROJECT',\n",
       "   'tags.mlflow.parentRunId': 'ba6983c45cf44a90a3af6baf90fd406d',\n",
       "   'tags.summary': '',\n",
       "   'tags.recipe': ''},\n",
       "  {'run_id': 'ba6983c45cf44a90a3af6baf90fd406d',\n",
       "   'experiment_id': '19',\n",
       "   'status': 'FINISHED',\n",
       "   'artifact_uri': 's3://testdataupload/19/ba6983c45cf44a90a3af6baf90fd406d/artifacts',\n",
       "   'start_time': '2023-11-17T21:30:52.410000+00:00',\n",
       "   'end_time': '2023-11-17T21:36:33.197000+00:00',\n",
       "   'params.model_uri': '',\n",
       "   'params.flavor': '',\n",
       "   'params.wml_credentials': '',\n",
       "   'params.endpoint': '',\n",
       "   'params.software_spec_name': '',\n",
       "   'params.deployment_name': '',\n",
       "   'params.pkg_path': '',\n",
       "   'params.conda_yaml': '',\n",
       "   'params.rewrite': '',\n",
       "   'params.wml_credentials_file_path': '',\n",
       "   'tags.mlflow.user': 'root',\n",
       "   'tags.mlflow.source.name': '/usr/local/lib/python3.9/site-packages/ray/_private/workers/default_worker.py',\n",
       "   'tags.mlflow.project.entryPoint': '',\n",
       "   'tags.mlflow.project.backend': '',\n",
       "   'tags.mlflow.runName': 'blushing-lynx-45',\n",
       "   'tags.mlflow.source.type': 'LOCAL',\n",
       "   'tags.mlflow.parentRunId': '',\n",
       "   'tags.summary': '',\n",
       "   'tags.recipe': 'wml_deployment'}]}"
      ]
     },
     "execution_count": 30,
     "metadata": {},
     "output_type": "execute_result"
    }
   ],
   "source": [
    "summary_data"
   ]
  },
  {
   "cell_type": "code",
   "execution_count": 31,
   "metadata": {},
   "outputs": [],
   "source": [
    "deployment_endpoint = summary_data['summary']['deployment_details']['entity']['status']"
   ]
  },
  {
   "cell_type": "code",
   "execution_count": 32,
   "metadata": {},
   "outputs": [],
   "source": [
    "from datetime import datetime\n",
    "\n",
    "deployment_endpoint['cp4d_url'] = deployment_endpoint['serving_urls'][0]\n",
    "# Get the current date\n",
    "current_date = datetime.now()\n",
    "\n",
    "# Format the date and create the string\n",
    "version_string = f\"?version={current_date.strftime('%Y-%m-%d')}\"\n",
    "deployment_endpoint['cp4d_url'] = deployment_endpoint['cp4d_url'] + version_string"
   ]
  },
  {
   "cell_type": "code",
   "execution_count": 33,
   "metadata": {},
   "outputs": [
    {
     "data": {
      "text/plain": [
       "{'online_url': {'url': 'https://cpd-ibm-cpd.modelfactory-9ca4d14d48413d18ce61b80811ba4308-0000.us-south.containers.appdomain.cloud/ml/v4/deployments/654f68d2-d8e6-43b4-a13b-0ec2f265bb93/predictions'},\n",
       " 'serving_urls': ['https://cpd-ibm-cpd.modelfactory-9ca4d14d48413d18ce61b80811ba4308-0000.us-south.containers.appdomain.cloud/ml/v4/deployments/654f68d2-d8e6-43b4-a13b-0ec2f265bb93/predictions'],\n",
       " 'state': 'ready',\n",
       " 'cp4d_url': 'https://cpd-ibm-cpd.modelfactory-9ca4d14d48413d18ce61b80811ba4308-0000.us-south.containers.appdomain.cloud/ml/v4/deployments/654f68d2-d8e6-43b4-a13b-0ec2f265bb93/predictions?version=2023-11-17'}"
      ]
     },
     "execution_count": 33,
     "metadata": {},
     "output_type": "execute_result"
    }
   ],
   "source": [
    "deployment_endpoint"
   ]
  },
  {
   "cell_type": "code",
   "execution_count": 34,
   "metadata": {},
   "outputs": [],
   "source": [
    "output_config_file = 'deployment_info.yml'"
   ]
  },
  {
   "cell_type": "code",
   "execution_count": 35,
   "metadata": {},
   "outputs": [],
   "source": [
    "with open(\"../config/\" + output_config_file,\"w\") as file:\n",
    "    yaml.dump(deployment_endpoint, file)"
   ]
  },
  {
   "cell_type": "code",
   "execution_count": null,
   "metadata": {},
   "outputs": [],
   "source": []
  }
 ],
 "metadata": {
  "kernelspec": {
   "display_name": "Python 3 (ipykernel)",
   "language": "python",
   "name": "python3"
  },
  "language_info": {
   "codemirror_mode": {
    "name": "ipython",
    "version": 3
   },
   "file_extension": ".py",
   "mimetype": "text/x-python",
   "name": "python",
   "nbconvert_exporter": "python",
   "pygments_lexer": "ipython3",
   "version": "3.10.9"
  }
 },
 "nbformat": 4,
 "nbformat_minor": 1
}
