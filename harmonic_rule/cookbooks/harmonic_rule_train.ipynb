{
 "cells": [
  {
   "cell_type": "code",
   "execution_count": 1,
   "metadata": {
    "id": "fd003cc9-2fc0-47b4-9ffa-5fd5e1b337d0"
   },
   "outputs": [],
   "source": [
    "###############\n",
    "# Service version : 1.2.2\n",
    "# Language        : Python/Jupyter"
   ]
  },
  {
   "cell_type": "markdown",
   "metadata": {},
   "source": [
    "### Issues and To-Do Items\n",
    "\n",
    "* The loop of keeping tell the exeuction status, it might be just get the old messgae without fresh?\n",
    "\n",
    "* How to check the status after gain the job ID? -\n",
    "\n",
    "    https://tenant1.predict.masinst1.ibmmam.com/ibm/modelfactory/service/log/$job_id\n",
    "\n",
    "* To ensure the connection to the deployed site if you are outside of IBM network (or even in the network), us VPN at the CISCO client with this link - http://sasvpn.us.ibm.com/TUNNELALL\n",
    "\n"
   ]
  },
  {
   "cell_type": "markdown",
   "metadata": {
    "id": "3ce55bda8f964f319af8829ac6416122"
   },
   "source": [
    "# Import Libraries & Functions"
   ]
  },
  {
   "cell_type": "code",
   "execution_count": 2,
   "metadata": {
    "id": "b410bf90f86343339c742a270b29d4fd"
   },
   "outputs": [],
   "source": [
    "#Imports\n",
    "import numpy as np\n",
    "import pandas as pd\n",
    "import matplotlib.pyplot as plt\n",
    "import time"
   ]
  },
  {
   "cell_type": "code",
   "execution_count": 3,
   "metadata": {
    "id": "41527f379a4347418d365f6b4373004e"
   },
   "outputs": [],
   "source": [
    "# Print functions\n",
    "def print_job_status(job_id, endpoint_url):\n",
    "    # Extract the job ID and construct the URL\n",
    "    url = endpoint_url + \"/summary/\" + job_id\n",
    "    \n",
    "    # Send a GET request to fetch the job status\n",
    "    get_response = requests.get(url, headers={})\n",
    "    status_data = get_response.json()\n",
    "    \n",
    "    # Print the job status\n",
    "    if \"status\" in status_data:\n",
    "        print(\"The status of job {} is {}.\".format(job_id, status_data['status']))\n",
    "    else:\n",
    "        print(status_data)\n",
    "    if status_data['status']:\n",
    "        return status_data['status']\n",
    "    else:\n",
    "        return \"initializing\"\n",
    "    \n",
    "def print_all_status(job_id, endpoint_url):\n",
    "    # Extract the job ID and construct the URL\n",
    "    url = endpoint_url + \"/summary/\" + job_id\n",
    "    \n",
    "    # Send a GET request to fetch the job status\n",
    "    get_response = requests.get(url, headers={})\n",
    "    status_data = get_response.json()\n",
    "    \n",
    "    # Print the job status\n",
    "    print(status_data)\n",
    "\n"
   ]
  },
  {
   "cell_type": "code",
   "execution_count": 4,
   "metadata": {
    "id": "d359c6a3b0c04cbd86ba13e2b0ccbad9"
   },
   "outputs": [],
   "source": [
    "# More print functions using display \n",
    "from IPython.display import display, HTML\n",
    "import requests\n",
    "\n",
    "def print_job_details(job_id, endpoint_url):\n",
    "    # Extract the job ID and construct the URL\n",
    "    url = endpoint_url + \"/summary/\" + job_id\n",
    "    \n",
    "    # Send a GET request to fetch the job status\n",
    "    get_response = requests.get(url, headers={})\n",
    "    summary_data = get_response.json()\n",
    "    \n",
    "    # Display the job status\n",
    "    display(HTML(print_keys_and_values(summary_data)))\n",
    "    return summary_data\n",
    "\n",
    "    \n",
    "def print_keys_and_values(json_data):\n",
    "    # Start the HTML code\n",
    "    html_code = \"<div style='font-family: Arial; font-size: 1.2em;'>\"\n",
    "    \n",
    "    # Add the job details to the HTML code\n",
    "    html_code += f\"<p>job_id: {json_data['job_id']}</p>\"\n",
    "    if \"status\" in json_data:\n",
    "        html_code += f\"<p>status: {json_data['status']}</p>\"\n",
    "    html_code += \"<br>\"\n",
    "    if \"detailed_summary\" in json_data:\n",
    "        for summary in json_data['detailed_summary']:\n",
    "            html_code += f\"<p>run_id: {summary['run_id']}</p>\"\n",
    "            html_code += f\"<p>experiment_id: {summary['experiment_id']}</p>\"\n",
    "            if \"status\" in summary:\n",
    "                print('summary',summary)\n",
    "                html_code += f\"<p>status: {summary['status']}</p>\"\n",
    "            html_code += f\"<p>artifact_uri: {summary['artifact_uri']}</p>\"\n",
    "            html_code += f\"<p>artifact_name: {summary.get('tags.artifact_name', 'No artifact_name found')}</p>\"\n",
    "            html_code += \"<br>\"\n",
    "\n",
    "    # Close the HTML code\n",
    "    html_code += \"</div>\"\n",
    "    \n",
    "    return html_code\n"
   ]
  },
  {
   "cell_type": "markdown",
   "metadata": {
    "id": "b8e26869dec246ae875d19f035b898a3"
   },
   "source": [
    "## Defining Paths"
   ]
  },
  {
   "cell_type": "code",
   "execution_count": 5,
   "metadata": {},
   "outputs": [],
   "source": [
    "config_input = 'parameter_config_harmonic.yaml'\n",
    "config_output = 'model_info_harmonic.yml'"
   ]
  },
  {
   "cell_type": "code",
   "execution_count": 6,
   "metadata": {
    "id": "bbfcfded66554860873936a932bd363c"
   },
   "outputs": [],
   "source": [
    "# Define the file paths\n",
    "# endpoint_url = \"https://tenant1.predict.masinst1.ibmmam.com/ibm/modelfactory/service\"\n",
    "endpoint_url = \"http://localhost:8000/ibm/modelfactory/service\"\n",
    "data_file_path =  \"../data/training.csv\"\n",
    "kpi_event_file_path =  \"../config/\" + config_input\n",
    "#kpi_event_file_path =  \"../config/parameter_config_harmonic.yaml.yaml\""
   ]
  },
  {
   "cell_type": "markdown",
   "metadata": {
    "id": "a97e1ea93e874ac08d9d2bb176feaa0d"
   },
   "source": [
    "## POST Response"
   ]
  },
  {
   "cell_type": "code",
   "execution_count": 7,
   "metadata": {
    "id": "cf44ddd4-43ed-453c-bad9-33ecbffaa7ed"
   },
   "outputs": [],
   "source": [
    "import requests\n",
    "\n",
    "# filenames = [\"imputate.csv\", \"KPI.yaml\", \"sensor_rule.yaml\", \"timeframe.yaml\"]\n",
    "files = {\n",
    "    \"data_file\": (\"training.csv\", open(data_file_path, 'rb')),\n",
    "    \"kpi_event_file\": (config_input, open(kpi_event_file_path, 'rb')),\n",
    "\n",
    "}\n",
    "\n",
    "#/ibm/modelfactory/service/recipe/electrical-transformer/anomaly/harmonic/rule\n",
    "url = endpoint_url + \"/recipe/electrical-transformer/anomaly/rule\"\n",
    "post_response = requests.request(\"POST\", url, headers={}, data={}, files=files)"
   ]
  },
  {
   "cell_type": "code",
   "execution_count": 8,
   "metadata": {},
   "outputs": [
    {
     "name": "stdout",
     "output_type": "stream",
     "text": [
      "http://localhost:8000/ibm/modelfactory/service/recipe/electrical-transformer/anomaly/rule\n"
     ]
    }
   ],
   "source": [
    "print(url)"
   ]
  },
  {
   "cell_type": "code",
   "execution_count": 9,
   "metadata": {
    "id": "7b2be84a-f6b4-4b45-861e-d4f8541550cf",
    "scrolled": true
   },
   "outputs": [
    {
     "name": "stdout",
     "output_type": "stream",
     "text": [
      "{'job_id': 'b5157087-33a7-4c78-8d94-37034a81973c', 'message': 'Job b5157087-33a7-4c78-8d94-37034a81973c was submitted.', 'status': 'INITIALIZING'}\n"
     ]
    }
   ],
   "source": [
    "post_r_json = post_response.json()\n",
    "\n",
    "anomaly_service_jobId = None\n",
    "\n",
    "if 'jobId' in post_r_json:\n",
    "    anomaly_service_jobId = post_r_json['jobId']\n",
    "    print ('submitted successfully job : ', post_r_json['jobId'])\n",
    "else:\n",
    "    print (post_r_json)\n"
   ]
  },
  {
   "cell_type": "markdown",
   "metadata": {
    "id": "5cbe57589c8d4db49bad58d0f3a99f43"
   },
   "source": [
    "## GET Response  - Keep Refresh it for a while until seeing the STATUS changed to DONE"
   ]
  },
  {
   "cell_type": "markdown",
   "metadata": {
    "id": "59d9803bc69b4fc986044a2a8bddbe65"
   },
   "source": [
    "The status of the job may be running, flagged by INITALIZING or EXECUTING\n",
    "\n",
    "After a while the model recipe training is complete, and the STATUS changes to DONE"
   ]
  },
  {
   "cell_type": "code",
   "execution_count": 10,
   "metadata": {},
   "outputs": [],
   "source": [
    "log_url = endpoint_url + \"/log/\"\n",
    "job_id = post_r_json['job_id']"
   ]
  },
  {
   "cell_type": "code",
   "execution_count": 11,
   "metadata": {},
   "outputs": [
    {
     "name": "stdout",
     "output_type": "stream",
     "text": [
      "http://localhost:8000/ibm/modelfactory/service/log/b5157087-33a7-4c78-8d94-37034a81973c\n"
     ]
    }
   ],
   "source": [
    "print(log_url + job_id)"
   ]
  },
  {
   "cell_type": "code",
   "execution_count": 14,
   "metadata": {},
   "outputs": [
    {
     "name": "stdout",
     "output_type": "stream",
     "text": [
      "summary {'run_id': 'b9b0f70280244484b8d55288d5dff230', 'experiment_id': '23', 'status': 'FINISHED', 'artifact_uri': 's3://testdataupload/23/b9b0f70280244484b8d55288d5dff230/artifacts', 'start_time': '2023-11-20T21:56:32.827000+00:00', 'end_time': '2023-11-20T21:56:39.231000+00:00', 'params.storage_path': 'file://./storage/', 'params.data_path': 's3://testdataupload/b5157087-33a7-4c78-8d94-37034a81973c_training.csv', 'params.kpi_event_path': 's3://testdataupload/b5157087-33a7-4c78-8d94-37034a81973c_parameter_config_harmonic.yaml', 'tags.mlflow.project.backend': 'local', 'tags.artifact_name': 'rule_based_harmonic_anomaly', 'tags.mlflow.log-model.history': '[{\"run_id\": \"b9b0f70280244484b8d55288d5dff230\", \"artifact_path\": \"rule_based_harmonic_anomaly\", \"utc_time_created\": \"2023-11-20 21:56:35.587401\", \"flavors\": {\"python_function\": {\"model_path\": \"model.pkl\", \"predict_fn\": \"predict\", \"loader_module\": \"mlflow.sklearn\", \"python_version\": \"3.9.2\", \"env\": {\"conda\": \"conda.yaml\", \"virtualenv\": \"python_env.yaml\"}}, \"sklearn\": {\"pickled_model\": \"model.pkl\", \"sklearn_version\": \"1.1.1\", \"serialization_format\": \"cloudpickle\", \"code\": null}}, \"model_uuid\": \"434f521574e446bf912d95cba8921199\", \"mlflow_version\": \"2.8.0\", \"model_size_bytes\": 681}]', 'tags.mlflow.parentRunId': 'f0a81683807a46be97ac5c378d612c08', 'tags.step': 'rule_based_harmonic_anomaly', 'tags.mlflow.user': 'root', 'tags.model_uri': 'runs:/b9b0f70280244484b8d55288d5dff230/rule_based_harmonic_anomaly', 'tags.mlflow.source.type': 'PROJECT', 'tags.recipe': 'electrical-transformer', 'tags.mlflow.runName': 'capricious-gnu-54', 'tags.summary': 'true', 'tags.mlflow.project.entryPoint': 'rule_based_harmonic_anomaly', 'tags.mlflow.source.name': '/tmp/ray/session_2023-11-20_21-46-05_648327_1/runtime_resources/working_dir_files/_ray_pkg_341608c979de8586'}\n",
      "summary {'run_id': 'f0a81683807a46be97ac5c378d612c08', 'experiment_id': '23', 'status': 'FINISHED', 'artifact_uri': 's3://testdataupload/23/f0a81683807a46be97ac5c378d612c08/artifacts', 'start_time': '2023-11-20T21:56:32.737000+00:00', 'end_time': '2023-11-20T21:56:39.268000+00:00', 'params.storage_path': '', 'params.data_path': '', 'params.kpi_event_path': '', 'tags.mlflow.project.backend': '', 'tags.artifact_name': '', 'tags.mlflow.log-model.history': '', 'tags.mlflow.parentRunId': '', 'tags.step': '', 'tags.mlflow.user': 'root', 'tags.model_uri': '', 'tags.mlflow.source.type': 'LOCAL', 'tags.recipe': 'electrical-transformer', 'tags.mlflow.runName': 'zealous-pug-126', 'tags.summary': '', 'tags.mlflow.project.entryPoint': '', 'tags.mlflow.source.name': '/usr/local/lib/python3.9/site-packages/ray/_private/workers/default_worker.py'}\n"
     ]
    },
    {
     "data": {
      "text/html": [
       "<div style='font-family: Arial; font-size: 1.2em;'><p>job_id: b5157087-33a7-4c78-8d94-37034a81973c</p><p>status: DONE</p><br><p>run_id: b9b0f70280244484b8d55288d5dff230</p><p>experiment_id: 23</p><p>status: FINISHED</p><p>artifact_uri: s3://testdataupload/23/b9b0f70280244484b8d55288d5dff230/artifacts</p><p>artifact_name: rule_based_harmonic_anomaly</p><br><p>run_id: f0a81683807a46be97ac5c378d612c08</p><p>experiment_id: 23</p><p>status: FINISHED</p><p>artifact_uri: s3://testdataupload/23/f0a81683807a46be97ac5c378d612c08/artifacts</p><p>artifact_name: </p><br></div>"
      ],
      "text/plain": [
       "<IPython.core.display.HTML object>"
      ]
     },
     "metadata": {},
     "output_type": "display_data"
    }
   ],
   "source": [
    "json_data = print_job_details(job_id,endpoint_url)"
   ]
  },
  {
   "cell_type": "markdown",
   "metadata": {},
   "source": [
    "### Saving details for deployment"
   ]
  },
  {
   "cell_type": "code",
   "execution_count": 15,
   "metadata": {},
   "outputs": [
    {
     "data": {
      "text/plain": [
       "{'job_id': 'b5157087-33a7-4c78-8d94-37034a81973c',\n",
       " 'status': 'DONE',\n",
       " 'summary': {'Deployment Instruction': 'For deployment, pass the parent_run_id as an argument in the deployment recipe',\n",
       "  'model_uri': 'runs:/b9b0f70280244484b8d55288d5dff230/rule_based_harmonic_anomaly',\n",
       "  'parent_run_id': 'f0a81683807a46be97ac5c378d612c08'},\n",
       " 'detailed_summary': [{'run_id': 'b9b0f70280244484b8d55288d5dff230',\n",
       "   'experiment_id': '23',\n",
       "   'status': 'FINISHED',\n",
       "   'artifact_uri': 's3://testdataupload/23/b9b0f70280244484b8d55288d5dff230/artifacts',\n",
       "   'start_time': '2023-11-20T21:56:32.827000+00:00',\n",
       "   'end_time': '2023-11-20T21:56:39.231000+00:00',\n",
       "   'params.storage_path': 'file://./storage/',\n",
       "   'params.data_path': 's3://testdataupload/b5157087-33a7-4c78-8d94-37034a81973c_training.csv',\n",
       "   'params.kpi_event_path': 's3://testdataupload/b5157087-33a7-4c78-8d94-37034a81973c_parameter_config_harmonic.yaml',\n",
       "   'tags.mlflow.project.backend': 'local',\n",
       "   'tags.artifact_name': 'rule_based_harmonic_anomaly',\n",
       "   'tags.mlflow.log-model.history': '[{\"run_id\": \"b9b0f70280244484b8d55288d5dff230\", \"artifact_path\": \"rule_based_harmonic_anomaly\", \"utc_time_created\": \"2023-11-20 21:56:35.587401\", \"flavors\": {\"python_function\": {\"model_path\": \"model.pkl\", \"predict_fn\": \"predict\", \"loader_module\": \"mlflow.sklearn\", \"python_version\": \"3.9.2\", \"env\": {\"conda\": \"conda.yaml\", \"virtualenv\": \"python_env.yaml\"}}, \"sklearn\": {\"pickled_model\": \"model.pkl\", \"sklearn_version\": \"1.1.1\", \"serialization_format\": \"cloudpickle\", \"code\": null}}, \"model_uuid\": \"434f521574e446bf912d95cba8921199\", \"mlflow_version\": \"2.8.0\", \"model_size_bytes\": 681}]',\n",
       "   'tags.mlflow.parentRunId': 'f0a81683807a46be97ac5c378d612c08',\n",
       "   'tags.step': 'rule_based_harmonic_anomaly',\n",
       "   'tags.mlflow.user': 'root',\n",
       "   'tags.model_uri': 'runs:/b9b0f70280244484b8d55288d5dff230/rule_based_harmonic_anomaly',\n",
       "   'tags.mlflow.source.type': 'PROJECT',\n",
       "   'tags.recipe': 'electrical-transformer',\n",
       "   'tags.mlflow.runName': 'capricious-gnu-54',\n",
       "   'tags.summary': 'true',\n",
       "   'tags.mlflow.project.entryPoint': 'rule_based_harmonic_anomaly',\n",
       "   'tags.mlflow.source.name': '/tmp/ray/session_2023-11-20_21-46-05_648327_1/runtime_resources/working_dir_files/_ray_pkg_341608c979de8586'},\n",
       "  {'run_id': 'f0a81683807a46be97ac5c378d612c08',\n",
       "   'experiment_id': '23',\n",
       "   'status': 'FINISHED',\n",
       "   'artifact_uri': 's3://testdataupload/23/f0a81683807a46be97ac5c378d612c08/artifacts',\n",
       "   'start_time': '2023-11-20T21:56:32.737000+00:00',\n",
       "   'end_time': '2023-11-20T21:56:39.268000+00:00',\n",
       "   'params.storage_path': '',\n",
       "   'params.data_path': '',\n",
       "   'params.kpi_event_path': '',\n",
       "   'tags.mlflow.project.backend': '',\n",
       "   'tags.artifact_name': '',\n",
       "   'tags.mlflow.log-model.history': '',\n",
       "   'tags.mlflow.parentRunId': '',\n",
       "   'tags.step': '',\n",
       "   'tags.mlflow.user': 'root',\n",
       "   'tags.model_uri': '',\n",
       "   'tags.mlflow.source.type': 'LOCAL',\n",
       "   'tags.recipe': 'electrical-transformer',\n",
       "   'tags.mlflow.runName': 'zealous-pug-126',\n",
       "   'tags.summary': '',\n",
       "   'tags.mlflow.project.entryPoint': '',\n",
       "   'tags.mlflow.source.name': '/usr/local/lib/python3.9/site-packages/ray/_private/workers/default_worker.py'}]}"
      ]
     },
     "execution_count": 15,
     "metadata": {},
     "output_type": "execute_result"
    }
   ],
   "source": [
    "json_data"
   ]
  },
  {
   "cell_type": "code",
   "execution_count": 16,
   "metadata": {},
   "outputs": [],
   "source": [
    "import yaml\n",
    "if 'status' in json_data:\n",
    "    if json_data['status'] == 'DONE':\n",
    "        for summary in json_data[\"detailed_summary\"]:\n",
    "            if summary['tags.artifact_name']!=\"\":\n",
    "                model_uri = \"runs:/\" + summary['run_id'] + \"/\" + summary['tags.artifact_name']\n",
    "                s3_uri = summary[\"artifact_uri\"] + \"/\" + summary['tags.artifact_name']\n",
    "        output_data = {\n",
    "            \"model_uri\" : model_uri,\n",
    "            \"train_job_id\" : job_id,\n",
    "            \"s3_uri\": s3_uri,\n",
    "        }\n",
    "        with open(\"../config/\" + config_output,\"w\") as file:\n",
    "            yaml.dump(output_data, file)\n",
    "        output_data"
   ]
  },
  {
   "cell_type": "code",
   "execution_count": 17,
   "metadata": {},
   "outputs": [
    {
     "data": {
      "text/plain": [
       "{'model_uri': 'runs:/b9b0f70280244484b8d55288d5dff230/rule_based_harmonic_anomaly',\n",
       " 'train_job_id': 'b5157087-33a7-4c78-8d94-37034a81973c',\n",
       " 's3_uri': 's3://testdataupload/23/b9b0f70280244484b8d55288d5dff230/artifacts/rule_based_harmonic_anomaly'}"
      ]
     },
     "execution_count": 17,
     "metadata": {},
     "output_type": "execute_result"
    }
   ],
   "source": [
    "output_data"
   ]
  },
  {
   "cell_type": "code",
   "execution_count": null,
   "metadata": {},
   "outputs": [],
   "source": []
  }
 ],
 "metadata": {
  "kernelspec": {
   "display_name": "Python 3 (ipykernel)",
   "language": "python",
   "name": "python3"
  },
  "language_info": {
   "codemirror_mode": {
    "name": "ipython",
    "version": 3
   },
   "file_extension": ".py",
   "mimetype": "text/x-python",
   "name": "python",
   "nbconvert_exporter": "python",
   "pygments_lexer": "ipython3",
   "version": "3.9.12"
  }
 },
 "nbformat": 4,
 "nbformat_minor": 1
}
