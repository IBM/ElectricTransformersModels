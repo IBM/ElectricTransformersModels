{
 "cells": [
  {
   "cell_type": "code",
   "execution_count": null,
   "metadata": {
    "id": "fd003cc9-2fc0-47b4-9ffa-5fd5e1b337d0"
   },
   "outputs": [],
   "source": [
    "# Health DGA Train Recipe\n",
    "\n",
    "This notebook demonstrates the use of AI Model Factory recipes to train DGA Model."
   ]
  },
  {
   "cell_type": "markdown",
   "metadata": {},
   "source": [
    "### Issues and To-Do Items\n",
    "\n",
    "* The loop of keeping tell the exeuction status, it might be just get the old messgae without fresh?\n",
    "\n",
    "* How to check the status after gain the job ID? -\n",
    "\n",
    "    https://tenant1.predict.masinst1.ibmmam.com/ibm/modelfactory/service/log/$job_id\n",
    "\n",
    "* To ensure the connection to the deployed site if you are outside of IBM network (or even in the network), us VPN at the CISCO client with this link - http://sasvpn.us.ibm.com/TUNNELALL\n",
    "\n"
   ]
  },
  {
   "cell_type": "markdown",
   "metadata": {
    "id": "3ce55bda8f964f319af8829ac6416122"
   },
   "source": [
    "# Import Libraries & Functions"
   ]
  },
  {
   "cell_type": "code",
   "execution_count": null,
   "metadata": {
    "id": "b410bf90f86343339c742a270b29d4fd"
   },
   "outputs": [],
   "source": [
    "#Imports\n",
    "import numpy as np\n",
    "import pandas as pd\n",
    "import matplotlib.pyplot as plt\n",
    "import time"
   ]
  },
  {
   "cell_type": "code",
   "execution_count": null,
   "metadata": {},
   "outputs": [],
   "source": [
    "# Print functions\n",
    "def print_job_status(job_id, endpoint_url):\n",
    "    # Extract the job ID and construct the URL\n",
    "    url = endpoint_url + \"/summary/\" + job_id\n",
    "    \n",
    "    # Send a GET request to fetch the job status\n",
    "    get_response = requests.get(url, headers={})\n",
    "    status_data = get_response.json()\n",
    "    \n",
    "    # Print the job status\n",
    "    if \"status\" in status_data:\n",
    "        print(\"The status of job {} is {}.\".format(job_id, status_data['status']))\n",
    "    else:\n",
    "        print(status_data)\n",
    "    \n",
    "def print_all_status(job_id, endpoint_url):\n",
    "    # Extract the job ID and construct the URL\n",
    "    url = endpoint_url + \"/summary/\" + job_id\n",
    "    \n",
    "    # Send a GET request to fetch the job status\n",
    "    get_response = requests.get(url, headers={})\n",
    "    status_data = get_response.json()\n",
    "    \n",
    "    # Print the job status\n",
    "    print(status_data)\n"
   ]
  },
  {
   "cell_type": "code",
   "execution_count": null,
   "metadata": {},
   "outputs": [],
   "source": [
    "# More print functions using display \n",
    "from IPython.display import display, HTML\n",
    "import requests\n",
    "\n",
    "def print_job_details(job_id, endpoint_url):\n",
    "    # Extract the job ID and construct the URL\n",
    "    url = endpoint_url + \"/summary/\" + job_id\n",
    "    \n",
    "    # Send a GET request to fetch the job status\n",
    "    get_response = requests.get(url, headers={})\n",
    "    summary_data = get_response.json()\n",
    "    \n",
    "    # Display the job status\n",
    "    display(HTML(print_keys_and_values(summary_data)))\n",
    "    return summary_data\n",
    "\n",
    "    \n",
    "def print_keys_and_values(json_data):\n",
    "    # Start the HTML code\n",
    "    html_code = \"<div style='font-family: Arial; font-size: 1.2em;'>\"\n",
    "    \n",
    "    # Add the job details to the HTML code\n",
    "    html_code += f\"<p>job_id: {json_data['job_id']}</p>\"\n",
    "    if \"status\" in json_data:\n",
    "        html_code += f\"<p>status: {json_data['status']}</p>\"\n",
    "    html_code += \"<br>\"\n",
    "    if \"detailed_summary\" in json_data:\n",
    "        for summary in json_data['detailed_summary']:\n",
    "            html_code += f\"<p>run_id: {summary['run_id']}</p>\"\n",
    "            html_code += f\"<p>experiment_id: {summary['experiment_id']}</p>\"\n",
    "            if \"status\" in summary:\n",
    "                html_code += f\"<p>status: {summary['status']}</p>\"\n",
    "            html_code += f\"<p>artifact_uri: {summary['artifact_uri']}</p>\"\n",
    "            html_code += f\"<p>artifact_name: {summary.get('tags.artifact_name', 'No artifact_name found')}</p>\"\n",
    "            html_code += \"<br>\"\n",
    "    \n",
    "    # Close the HTML code\n",
    "    html_code += \"</div>\"\n",
    "    \n",
    "    return html_code\n"
   ]
  },
  {
   "cell_type": "markdown",
   "metadata": {
    "id": "eea4638e2f4341298f524e32a5933ece"
   },
   "source": [
    "# Health DGA (Dissolved Gas Analysis) Training"
   ]
  },
  {
   "cell_type": "markdown",
   "metadata": {
    "id": "b8e26869dec246ae875d19f035b898a3"
   },
   "source": [
    "## Defining Paths"
   ]
  },
  {
   "cell_type": "code",
   "execution_count": null,
   "metadata": {
    "id": "bbfcfded66554860873936a932bd363c"
   },
   "outputs": [],
   "source": [
    "# Define the file paths\n",
    "# endpoint_url = \"https://tenant1.predict.masinst1.ibmmam.com/ibm/modelfactory/service\"\n",
    "endpoint_url = \"http://localhost:8000/ibm/modelfactory/service\"\n",
    "data_file_path =  \"../data/training.csv\"\n"
   ]
  },
  {
   "cell_type": "code",
   "execution_count": null,
   "metadata": {},
   "outputs": [],
   "source": [
    "feature_columns = \"DGAR-H2,DGAR-O2,DGAR-N2,DGAR-CH4,DGAR-CO,DGAR-CO2,DGAR-C2H4,DGAR-C2H6,DGAR-C2H2,DBDS,POWER_FACT,INTER_V,DI_RIG,H2O\"\n",
    "target_columns = \"Health index\""
   ]
  },
  {
   "cell_type": "markdown",
   "metadata": {
    "id": "a97e1ea93e874ac08d9d2bb176feaa0d"
   },
   "source": [
    "## POST Response"
   ]
  },
  {
   "cell_type": "code",
   "execution_count": null,
   "metadata": {
    "id": "cf44ddd4-43ed-453c-bad9-33ecbffaa7ed"
   },
   "outputs": [],
   "source": [
    "import requests\n",
    "\n",
    "files = {\n",
    "    \"data_file\": (\"data/training.csv\", open(data_file_path, 'rb')),   \n",
    "}\n",
    "\n",
    "data = {\n",
    "    \"feature_columns\":feature_columns,\n",
    "    \"target_columns\":target_columns,\n",
    "}\n",
    "\n",
    "headers = {\n",
    "  'accept': 'application/json'\n",
    "}\n",
    "\n",
    "#url = endpoint_url + \"/recipe/electrical_transformer/health/dga/train\"\n",
    "url = endpoint_url + \"/recipe/electrical-transformer/health/dga\"\n",
    "post_response = requests.request(\"POST\", url, headers=headers, data=data, files=files)"
   ]
  },
  {
   "cell_type": "code",
   "execution_count": null,
   "metadata": {
    "id": "7b2be84a-f6b4-4b45-861e-d4f8541550cf"
   },
   "outputs": [],
   "source": [
    "post_r_json = post_response.json()\n",
    "anomaly_service_jobId = None\n",
    "\n",
    "if 'jobId' in post_r_json:\n",
    "    anomaly_service_jobId = post_r_json['jobId']\n",
    "    print ('submitted successfully job : ', post_r_json['jobId'])\n",
    "else:\n",
    "    print (post_r_json)\n"
   ]
  },
  {
   "cell_type": "markdown",
   "metadata": {
    "id": "5cbe57589c8d4db49bad58d0f3a99f43"
   },
   "source": [
    "## GET Response  - Keep Refresh it for a while until seeing the STATUS changed to DONE"
   ]
  },
  {
   "cell_type": "markdown",
   "metadata": {
    "id": "59d9803bc69b4fc986044a2a8bddbe65"
   },
   "source": [
    "The status of the job may be running, flagged by INITALIZING or EXECUTING\n",
    "\n",
    "After a while the model recipe training is complete, and the STATUS changes to DONE"
   ]
  },
  {
   "cell_type": "code",
   "execution_count": null,
   "metadata": {},
   "outputs": [],
   "source": [
    "log_url = endpoint_url + \"/log/\"\n",
    "job_id = post_r_json['job_id']"
   ]
  },
  {
   "cell_type": "code",
   "execution_count": null,
   "metadata": {},
   "outputs": [],
   "source": [
    "print(log_url + job_id)"
   ]
  },
  {
   "cell_type": "code",
   "execution_count": null,
   "metadata": {},
   "outputs": [],
   "source": [
    "json_data = print_job_details(job_id,endpoint_url)"
   ]
  },
  {
   "cell_type": "code",
   "execution_count": null,
   "metadata": {},
   "outputs": [],
   "source": [
    "json_data"
   ]
  },
  {
   "cell_type": "code",
   "execution_count": null,
   "metadata": {},
   "outputs": [],
   "source": [
    "s3_folder_name = 'best_estimator'"
   ]
  },
  {
   "cell_type": "code",
   "execution_count": null,
   "metadata": {},
   "outputs": [],
   "source": [
    "import yaml\n",
    "if 'status' in json_data:\n",
    "    if json_data['status'] == 'DONE':\n",
    "        model_uri = json_data['summary']['model_uri'] \n",
    "        for summary in json_data[\"detailed_summary\"]:\n",
    "            if summary['tags.step']!=\"\":\n",
    "                s3_uri = summary[\"artifact_uri\"] + \"/\" + s3_folder_name\n",
    "                print(summary['tags.step'])\n",
    "                print(s3_uri)\n",
    "        output_data = {\n",
    "            \"model_uri\" : model_uri,\n",
    "            \"train_job_id\" : job_id,\n",
    "            \"s3_uri\": s3_uri,\n",
    "        }\n",
    "        with open(\"../config/model_info.yml\",\"w\") as file:\n",
    "            yaml.dump(output_data, file)\n",
    "        output_data"
   ]
  },
  {
   "cell_type": "code",
   "execution_count": null,
   "metadata": {},
   "outputs": [],
   "source": [
    "output_data"
   ]
  },
  {
   "cell_type": "code",
   "execution_count": null,
   "metadata": {},
   "outputs": [],
   "source": []
  }
 ],
 "metadata": {
  "kernelspec": {
   "display_name": "Python 3 (ipykernel)",
   "language": "python",
   "name": "python3"
  },
  "language_info": {
   "codemirror_mode": {
    "name": "ipython",
    "version": 3
   },
   "file_extension": ".py",
   "mimetype": "text/x-python",
   "name": "python",
   "nbconvert_exporter": "python",
   "pygments_lexer": "ipython3",
   "version": "3.10.9"
  }
 },
 "nbformat": 4,
 "nbformat_minor": 1
}
