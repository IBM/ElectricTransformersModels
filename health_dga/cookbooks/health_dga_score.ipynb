{
 "cells": [
  {
   "cell_type": "markdown",
   "metadata": {
    "id": "0c02ad1bbbd24d7ebb5e50bf895ea57a"
   },
   "source": [
    "# Health DGA Score Notebook\n",
    "Last Updated August 29 2023"
   ]
  },
  {
   "cell_type": "code",
   "execution_count": null,
   "metadata": {
    "id": "2a2bc95e-4c20-4150-bf12-748e7781cd51"
   },
   "outputs": [],
   "source": [
    "import os\n",
    "import requests\n",
    "import json\n",
    "import ast\n",
    "import pandas as pd\n",
    "import yaml"
   ]
  },
  {
   "cell_type": "code",
   "execution_count": null,
   "metadata": {
    "id": "53b3e4da56c7433da5bdc5558ee91d4f"
   },
   "outputs": [],
   "source": [
    "def load_credentials(credentials_file):\n",
    "    from ibm_watson_studio_lib import access_project_or_space\n",
    "    wslib = access_project_or_space()\n",
    "    \n",
    "    for file in [credentials_file]:\n",
    "        data = wslib.load_data(file)\n",
    "        with open(f\"./{file}\", \"wb\") as f:\n",
    "            f.write(data.read())"
   ]
  },
  {
   "cell_type": "markdown",
   "metadata": {},
   "source": [
    "### Create the Bearer Token"
   ]
  },
  {
   "cell_type": "code",
   "execution_count": null,
   "metadata": {},
   "outputs": [],
   "source": [
    "credentials_file = \"../../config/credentials/wml-credentials.json\"\n",
    "with open(credentials_file, \"r\") as f:\n",
    "    credentials = json.load(f)"
   ]
  },
  {
   "cell_type": "code",
   "execution_count": null,
   "metadata": {},
   "outputs": [],
   "source": [
    "# Assuming you have these variables set somewhere in your script\n",
    "USERNAME = credentials[\"username\"]\n",
    "API_KEY = credentials[\"apikey\"]\n",
    "DATAPLATFORM_URL = credentials[\"url\"]"
   ]
  },
  {
   "cell_type": "code",
   "execution_count": null,
   "metadata": {},
   "outputs": [],
   "source": [
    "headers = {\n",
    "    'Content-type': 'application/json'\n",
    "}\n",
    "data = {\n",
    "    'username': USERNAME,\n",
    "    'api_key': API_KEY\n",
    "}"
   ]
  },
  {
   "cell_type": "code",
   "execution_count": null,
   "metadata": {},
   "outputs": [],
   "source": [
    "response = requests.post(\n",
    "    f\"{DATAPLATFORM_URL}/icp4d-api/v1/authorize\", \n",
    "    headers=headers, \n",
    "    data=json.dumps(data),\n",
    "    verify=False  # This corresponds to the '-k' or '--insecure' flag in curl\n",
    ")\n",
    "token = response.text\n",
    "dict_token = ast.literal_eval(token)\n",
    "bearer_token = dict_token['token']"
   ]
  },
  {
   "cell_type": "markdown",
   "metadata": {},
   "source": [
    "### Load the Data"
   ]
  },
  {
   "cell_type": "code",
   "execution_count": null,
   "metadata": {},
   "outputs": [],
   "source": [
    "data_path = '../data/training.csv'"
   ]
  },
  {
   "cell_type": "code",
   "execution_count": null,
   "metadata": {},
   "outputs": [],
   "source": [
    "df = pd.read_csv(data_path)"
   ]
  },
  {
   "cell_type": "code",
   "execution_count": null,
   "metadata": {},
   "outputs": [],
   "source": [
    "df.head(5)"
   ]
  },
  {
   "cell_type": "code",
   "execution_count": null,
   "metadata": {},
   "outputs": [],
   "source": [
    "df.shape"
   ]
  },
  {
   "cell_type": "code",
   "execution_count": null,
   "metadata": {},
   "outputs": [],
   "source": [
    "df.columns"
   ]
  },
  {
   "cell_type": "markdown",
   "metadata": {},
   "source": [
    "### Choose all three electrical lines"
   ]
  },
  {
   "cell_type": "code",
   "execution_count": null,
   "metadata": {},
   "outputs": [],
   "source": [
    "feature_columns = ['DGAR-H2','DGAR-O2','DGAR-N2','DGAR-CH4','DGAR-CO','DGAR-CO2','DGAR-C2H4','DGAR-C2H6','DGAR-C2H2','DBDS','POWER_FACT','INTER_V','DI_RIG','H2O']"
   ]
  },
  {
   "cell_type": "code",
   "execution_count": null,
   "metadata": {},
   "outputs": [],
   "source": [
    "df_score_all = df[feature_columns]"
   ]
  },
  {
   "cell_type": "code",
   "execution_count": null,
   "metadata": {},
   "outputs": [],
   "source": [
    "df_score_all.head(100)"
   ]
  },
  {
   "cell_type": "code",
   "execution_count": null,
   "metadata": {
    "id": "8752be6422b7491d9488f963ab36eb0c"
   },
   "outputs": [],
   "source": [
    "df.shape"
   ]
  },
  {
   "cell_type": "markdown",
   "metadata": {},
   "source": [
    "## Send the Data for Scoring"
   ]
  },
  {
   "cell_type": "code",
   "execution_count": null,
   "metadata": {},
   "outputs": [],
   "source": [
    "model_factory_config_file_name = \"../config/deployment_info.yml\"\n",
    "\n",
    "with open(model_factory_config_file_name, 'r') as file:\n",
    "    model_factory_config = yaml.safe_load(file)\n",
    "\n",
    "print(model_factory_config)"
   ]
  },
  {
   "cell_type": "code",
   "execution_count": null,
   "metadata": {
    "id": "13a1336bc83a41e09c4fc800965a00b0"
   },
   "outputs": [],
   "source": [
    "array_of_input_fields = list(df_score_all.columns) \n",
    "array_of_values_to_be_scored = df_score_all[array_of_input_fields].values.tolist()\n",
    "\n",
    "print(\"Input Data\")\n",
    "print(array_of_input_fields)\n",
    "df_score_all[array_of_input_fields].head(10)"
   ]
  },
  {
   "cell_type": "code",
   "execution_count": null,
   "metadata": {},
   "outputs": [],
   "source": []
  },
  {
   "cell_type": "code",
   "execution_count": null,
   "metadata": {},
   "outputs": [],
   "source": [
    "# retrieve the CP4D endpoint at the IBM Watson Studio\n",
    "scoring_url = model_factory_config['cp4d_url']\n",
    "scoring_url"
   ]
  },
  {
   "cell_type": "code",
   "execution_count": null,
   "metadata": {
    "id": "6ebca83f8551437e882bbe227a82be1f"
   },
   "outputs": [],
   "source": [
    "array_of_input_fields"
   ]
  },
  {
   "cell_type": "code",
   "execution_count": null,
   "metadata": {},
   "outputs": [],
   "source": [
    "array_of_values_to_be_scored"
   ]
  },
  {
   "cell_type": "code",
   "execution_count": null,
   "metadata": {},
   "outputs": [],
   "source": [
    "import urllib3, requests, json\n",
    "\n",
    "# scoring_url = 'https://cpd-ibm-cpd.mas-demo-cp4d-822c5cdfc486f5db3c3145c89ca6409d-0000.us-south.containers.appdomain.cloud/ml/v4/deployments/14b272a1-111b-4196-9b07-eec757faaaca/predictions?version=2023-08-29'\n",
    "\n",
    "header = {'Content-Type': 'application/json', 'Authorization': 'Bearer ' + bearer_token}\n",
    "\n",
    "# NOTE: manually define and pass the array(s) of values to be scored in the next line\n",
    "payload_scoring = {\"input_data\": [{\"fields\": array_of_input_fields, \"values\": array_of_values_to_be_scored}]}\n",
    "print(\"Input payload\")\n",
    "print(json.dumps(payload_scoring, indent=2))\n",
    "\n",
    "response_scoring = requests.post(scoring_url, json=payload_scoring, headers=header, verify=False)\n",
    "print(\"Scoring response\")\n",
    "predictions = json.loads(response_scoring.text)\n",
    "print(json.dumps(predictions, indent=2))"
   ]
  },
  {
   "cell_type": "code",
   "execution_count": null,
   "metadata": {
    "id": "d78efd33807b4bb89b8d3825a6839577"
   },
   "outputs": [],
   "source": [
    "output = predictions[\"predictions\"][0][\"values\"]"
   ]
  },
  {
   "cell_type": "code",
   "execution_count": null,
   "metadata": {
    "id": "6e89f70104ac47d9818851909daf24d2"
   },
   "outputs": [],
   "source": [
    "output"
   ]
  },
  {
   "cell_type": "markdown",
   "metadata": {},
   "source": [
    "## Combine the Results"
   ]
  },
  {
   "cell_type": "code",
   "execution_count": null,
   "metadata": {},
   "outputs": [],
   "source": [
    "output = predictions[\"predictions\"][0][\"values\"]"
   ]
  },
  {
   "cell_type": "code",
   "execution_count": null,
   "metadata": {},
   "outputs": [],
   "source": [
    "reshaped_data = [row[0] for row in output]"
   ]
  },
  {
   "cell_type": "code",
   "execution_count": null,
   "metadata": {},
   "outputs": [],
   "source": [
    "column_names = ['health_score']"
   ]
  },
  {
   "cell_type": "code",
   "execution_count": null,
   "metadata": {},
   "outputs": [],
   "source": [
    "predictions_df = pd.DataFrame(reshaped_data, columns=column_names)"
   ]
  },
  {
   "cell_type": "code",
   "execution_count": null,
   "metadata": {},
   "outputs": [],
   "source": [
    "predictions_df = predictions_df.astype(int)"
   ]
  },
  {
   "cell_type": "code",
   "execution_count": null,
   "metadata": {},
   "outputs": [],
   "source": [
    "display(predictions_df)"
   ]
  },
  {
   "cell_type": "code",
   "execution_count": null,
   "metadata": {},
   "outputs": [],
   "source": [
    "df_merged = pd.concat([df, predictions_df], axis=1)"
   ]
  },
  {
   "cell_type": "code",
   "execution_count": null,
   "metadata": {},
   "outputs": [],
   "source": [
    "display(df_merged.tail(10))"
   ]
  },
  {
   "cell_type": "code",
   "execution_count": null,
   "metadata": {},
   "outputs": [],
   "source": []
  }
 ],
 "metadata": {
  "kernelspec": {
   "display_name": "Python 3 (ipykernel)",
   "language": "python",
   "name": "python3"
  },
  "language_info": {
   "codemirror_mode": {
    "name": "ipython",
    "version": 3
   },
   "file_extension": ".py",
   "mimetype": "text/x-python",
   "name": "python",
   "nbconvert_exporter": "python",
   "pygments_lexer": "ipython3",
   "version": "3.10.9"
  }
 },
 "nbformat": 4,
 "nbformat_minor": 1
}
